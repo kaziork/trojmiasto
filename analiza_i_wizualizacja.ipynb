{
 "cells": [
  {
   "cell_type": "code",
   "execution_count": 4,
   "id": "8c7c7564",
   "metadata": {},
   "outputs": [
    {
     "name": "stdout",
     "output_type": "stream",
     "text": [
      "Requirement already satisfied: nbformat in /Users/kasiak/priv/Development/Python/.venv/lib/python3.9/site-packages (5.10.4)\n",
      "Requirement already satisfied: fastjsonschema>=2.15 in /Users/kasiak/priv/Development/Python/.venv/lib/python3.9/site-packages (from nbformat) (2.21.2)\n",
      "Requirement already satisfied: jsonschema>=2.6 in /Users/kasiak/priv/Development/Python/.venv/lib/python3.9/site-packages (from nbformat) (4.25.1)\n",
      "Requirement already satisfied: jupyter-core!=5.0.*,>=4.12 in /Users/kasiak/priv/Development/Python/.venv/lib/python3.9/site-packages (from nbformat) (5.8.1)\n",
      "Requirement already satisfied: traitlets>=5.1 in /Users/kasiak/priv/Development/Python/.venv/lib/python3.9/site-packages (from nbformat) (5.14.3)\n",
      "Requirement already satisfied: attrs>=22.2.0 in /Users/kasiak/priv/Development/Python/.venv/lib/python3.9/site-packages (from jsonschema>=2.6->nbformat) (25.4.0)\n",
      "Requirement already satisfied: jsonschema-specifications>=2023.03.6 in /Users/kasiak/priv/Development/Python/.venv/lib/python3.9/site-packages (from jsonschema>=2.6->nbformat) (2025.9.1)\n",
      "Requirement already satisfied: referencing>=0.28.4 in /Users/kasiak/priv/Development/Python/.venv/lib/python3.9/site-packages (from jsonschema>=2.6->nbformat) (0.36.2)\n",
      "Requirement already satisfied: rpds-py>=0.7.1 in /Users/kasiak/priv/Development/Python/.venv/lib/python3.9/site-packages (from jsonschema>=2.6->nbformat) (0.27.1)\n",
      "Requirement already satisfied: platformdirs>=2.5 in /Users/kasiak/priv/Development/Python/.venv/lib/python3.9/site-packages (from jupyter-core!=5.0.*,>=4.12->nbformat) (4.4.0)\n",
      "Requirement already satisfied: typing-extensions>=4.4.0 in /Users/kasiak/priv/Development/Python/.venv/lib/python3.9/site-packages (from referencing>=0.28.4->jsonschema>=2.6->nbformat) (4.15.0)\n",
      "Collecting kaleido==0.2.1\n",
      "  Using cached kaleido-0.2.1-py2.py3-none-macosx_11_0_arm64.whl.metadata (15 kB)\n",
      "Using cached kaleido-0.2.1-py2.py3-none-macosx_11_0_arm64.whl (85.8 MB)\n",
      "Installing collected packages: kaleido\n",
      "  Attempting uninstall: kaleido\n",
      "    Found existing installation: kaleido 1.1.0\n",
      "    Uninstalling kaleido-1.1.0:\n",
      "      Successfully uninstalled kaleido-1.1.0\n",
      "Successfully installed kaleido-0.2.1\n",
      "Requirement already satisfied: kaleido in /Users/kasiak/priv/Development/Python/.venv/lib/python3.9/site-packages (0.2.1)\n",
      "Collecting kaleido\n",
      "  Using cached kaleido-1.1.0-py3-none-any.whl.metadata (5.6 kB)\n",
      "Requirement already satisfied: choreographer>=1.0.10 in /Users/kasiak/priv/Development/Python/.venv/lib/python3.9/site-packages (from kaleido) (1.2.0)\n",
      "Requirement already satisfied: logistro>=1.0.8 in /Users/kasiak/priv/Development/Python/.venv/lib/python3.9/site-packages (from kaleido) (2.0.0)\n",
      "Requirement already satisfied: orjson>=3.10.15 in /Users/kasiak/priv/Development/Python/.venv/lib/python3.9/site-packages (from kaleido) (3.11.4)\n",
      "Requirement already satisfied: packaging in /Users/kasiak/priv/Development/Python/.venv/lib/python3.9/site-packages (from kaleido) (25.0)\n",
      "Requirement already satisfied: pytest-timeout>=2.4.0 in /Users/kasiak/priv/Development/Python/.venv/lib/python3.9/site-packages (from kaleido) (2.4.0)\n",
      "Requirement already satisfied: simplejson>=3.19.3 in /Users/kasiak/priv/Development/Python/.venv/lib/python3.9/site-packages (from choreographer>=1.0.10->kaleido) (3.20.2)\n",
      "Requirement already satisfied: pytest>=7.0.0 in /Users/kasiak/priv/Development/Python/.venv/lib/python3.9/site-packages (from pytest-timeout>=2.4.0->kaleido) (8.4.2)\n",
      "Requirement already satisfied: exceptiongroup>=1 in /Users/kasiak/priv/Development/Python/.venv/lib/python3.9/site-packages (from pytest>=7.0.0->pytest-timeout>=2.4.0->kaleido) (1.3.0)\n",
      "Requirement already satisfied: iniconfig>=1 in /Users/kasiak/priv/Development/Python/.venv/lib/python3.9/site-packages (from pytest>=7.0.0->pytest-timeout>=2.4.0->kaleido) (2.1.0)\n",
      "Requirement already satisfied: pluggy<2,>=1.5 in /Users/kasiak/priv/Development/Python/.venv/lib/python3.9/site-packages (from pytest>=7.0.0->pytest-timeout>=2.4.0->kaleido) (1.6.0)\n",
      "Requirement already satisfied: pygments>=2.7.2 in /Users/kasiak/priv/Development/Python/.venv/lib/python3.9/site-packages (from pytest>=7.0.0->pytest-timeout>=2.4.0->kaleido) (2.19.2)\n",
      "Requirement already satisfied: tomli>=1 in /Users/kasiak/priv/Development/Python/.venv/lib/python3.9/site-packages (from pytest>=7.0.0->pytest-timeout>=2.4.0->kaleido) (2.3.0)\n",
      "Requirement already satisfied: typing-extensions>=4.6.0 in /Users/kasiak/priv/Development/Python/.venv/lib/python3.9/site-packages (from exceptiongroup>=1->pytest>=7.0.0->pytest-timeout>=2.4.0->kaleido) (4.15.0)\n",
      "Using cached kaleido-1.1.0-py3-none-any.whl (66 kB)\n",
      "Installing collected packages: kaleido\n",
      "  Attempting uninstall: kaleido\n",
      "    Found existing installation: kaleido 0.2.1\n",
      "    Uninstalling kaleido-0.2.1:\n",
      "      Successfully uninstalled kaleido-0.2.1\n",
      "Successfully installed kaleido-1.1.0\n",
      "Requirement already satisfied: plotly in /Users/kasiak/priv/Development/Python/.venv/lib/python3.9/site-packages (6.3.1)\n",
      "Requirement already satisfied: kaleido in /Users/kasiak/priv/Development/Python/.venv/lib/python3.9/site-packages (1.1.0)\n",
      "Requirement already satisfied: narwhals>=1.15.1 in /Users/kasiak/priv/Development/Python/.venv/lib/python3.9/site-packages (from plotly) (2.9.0)\n",
      "Requirement already satisfied: packaging in /Users/kasiak/priv/Development/Python/.venv/lib/python3.9/site-packages (from plotly) (25.0)\n",
      "Requirement already satisfied: choreographer>=1.0.10 in /Users/kasiak/priv/Development/Python/.venv/lib/python3.9/site-packages (from kaleido) (1.2.0)\n",
      "Requirement already satisfied: logistro>=1.0.8 in /Users/kasiak/priv/Development/Python/.venv/lib/python3.9/site-packages (from kaleido) (2.0.0)\n",
      "Requirement already satisfied: orjson>=3.10.15 in /Users/kasiak/priv/Development/Python/.venv/lib/python3.9/site-packages (from kaleido) (3.11.4)\n",
      "Requirement already satisfied: pytest-timeout>=2.4.0 in /Users/kasiak/priv/Development/Python/.venv/lib/python3.9/site-packages (from kaleido) (2.4.0)\n",
      "Requirement already satisfied: simplejson>=3.19.3 in /Users/kasiak/priv/Development/Python/.venv/lib/python3.9/site-packages (from choreographer>=1.0.10->kaleido) (3.20.2)\n",
      "Requirement already satisfied: pytest>=7.0.0 in /Users/kasiak/priv/Development/Python/.venv/lib/python3.9/site-packages (from pytest-timeout>=2.4.0->kaleido) (8.4.2)\n",
      "Requirement already satisfied: exceptiongroup>=1 in /Users/kasiak/priv/Development/Python/.venv/lib/python3.9/site-packages (from pytest>=7.0.0->pytest-timeout>=2.4.0->kaleido) (1.3.0)\n",
      "Requirement already satisfied: iniconfig>=1 in /Users/kasiak/priv/Development/Python/.venv/lib/python3.9/site-packages (from pytest>=7.0.0->pytest-timeout>=2.4.0->kaleido) (2.1.0)\n",
      "Requirement already satisfied: pluggy<2,>=1.5 in /Users/kasiak/priv/Development/Python/.venv/lib/python3.9/site-packages (from pytest>=7.0.0->pytest-timeout>=2.4.0->kaleido) (1.6.0)\n",
      "Requirement already satisfied: pygments>=2.7.2 in /Users/kasiak/priv/Development/Python/.venv/lib/python3.9/site-packages (from pytest>=7.0.0->pytest-timeout>=2.4.0->kaleido) (2.19.2)\n",
      "Requirement already satisfied: tomli>=1 in /Users/kasiak/priv/Development/Python/.venv/lib/python3.9/site-packages (from pytest>=7.0.0->pytest-timeout>=2.4.0->kaleido) (2.3.0)\n",
      "Requirement already satisfied: typing-extensions>=4.6.0 in /Users/kasiak/priv/Development/Python/.venv/lib/python3.9/site-packages (from exceptiongroup>=1->pytest>=7.0.0->pytest-timeout>=2.4.0->kaleido) (4.15.0)\n"
     ]
    }
   ],
   "source": [
    "import dash\n",
    "import pandas as pd\n",
    "import plotly.express as px\n",
    "import threading\n",
    "from dash import dcc, html\n",
    "from dash.dependencies import Input, Output\n",
    "!pip install nbformat\n",
    "import plotly.io as pio\n",
    "!pip install kaleido==0.2.1\n",
    "!pip install --upgrade kaleido\n",
    "!pip install --upgrade plotly kaleido"
   ]
  },
  {
   "cell_type": "code",
   "execution_count": 5,
   "id": "c3cba6bc",
   "metadata": {},
   "outputs": [
    {
     "data": {
      "text/html": [
       "<div>\n",
       "<style scoped>\n",
       "    .dataframe tbody tr th:only-of-type {\n",
       "        vertical-align: middle;\n",
       "    }\n",
       "\n",
       "    .dataframe tbody tr th {\n",
       "        vertical-align: top;\n",
       "    }\n",
       "\n",
       "    .dataframe thead th {\n",
       "        text-align: right;\n",
       "    }\n",
       "</style>\n",
       "<table border=\"1\" class=\"dataframe\">\n",
       "  <thead>\n",
       "    <tr style=\"text-align: right;\">\n",
       "      <th></th>\n",
       "      <th>url</th>\n",
       "      <th>date_posted</th>\n",
       "      <th>photos</th>\n",
       "      <th>locality</th>\n",
       "      <th>street</th>\n",
       "      <th>property_type</th>\n",
       "      <th>rooms</th>\n",
       "      <th>area_m2</th>\n",
       "      <th>owner_direct</th>\n",
       "      <th>price_total_zl</th>\n",
       "      <th>price_per_m2_zl</th>\n",
       "      <th>city</th>\n",
       "      <th>price_total_zl_cleaned</th>\n",
       "      <th>price_per_m2_zl_cleaned</th>\n",
       "      <th>area_per_room</th>\n",
       "    </tr>\n",
       "  </thead>\n",
       "  <tbody>\n",
       "    <tr>\n",
       "      <th>0</th>\n",
       "      <td>https://adresowo.pl/o/mieszkanie-gdansk-jasien...</td>\n",
       "      <td>3 dni temu</td>\n",
       "      <td>12.0</td>\n",
       "      <td>Gdańsk Jasień</td>\n",
       "      <td>ul. Kazimierza Leskiego</td>\n",
       "      <td>Apartment</td>\n",
       "      <td>2.0</td>\n",
       "      <td>41.0</td>\n",
       "      <td>Bez pośredników</td>\n",
       "      <td>639000</td>\n",
       "      <td>15582.0</td>\n",
       "      <td>Gdańsk</td>\n",
       "      <td>639000.0</td>\n",
       "      <td>15582.0</td>\n",
       "      <td>20.500000</td>\n",
       "    </tr>\n",
       "    <tr>\n",
       "      <th>1</th>\n",
       "      <td>https://adresowo.pl/o/mieszkanie-gdynia-srodmi...</td>\n",
       "      <td>dzisiajnowe</td>\n",
       "      <td>16.0</td>\n",
       "      <td>Gdynia Śródmieście</td>\n",
       "      <td>ul. A. Hryniewickiego</td>\n",
       "      <td>Apartment</td>\n",
       "      <td>3.0</td>\n",
       "      <td>80.0</td>\n",
       "      <td>Bez pośredników</td>\n",
       "      <td>2800000</td>\n",
       "      <td>35000.0</td>\n",
       "      <td>Gdynia</td>\n",
       "      <td>2800000.0</td>\n",
       "      <td>35000.0</td>\n",
       "      <td>26.666667</td>\n",
       "    </tr>\n",
       "    <tr>\n",
       "      <th>2</th>\n",
       "      <td>https://adresowo.pl/o/mieszkanie-gdansk-wrzesz...</td>\n",
       "      <td>dzisiajnowe</td>\n",
       "      <td>7.0</td>\n",
       "      <td>Gdańsk Wrzeszcz</td>\n",
       "      <td>NaN</td>\n",
       "      <td>Apartment</td>\n",
       "      <td>1.0</td>\n",
       "      <td>27.0</td>\n",
       "      <td>Bez pośredników</td>\n",
       "      <td>465000</td>\n",
       "      <td>17222.0</td>\n",
       "      <td>Gdańsk</td>\n",
       "      <td>465000.0</td>\n",
       "      <td>17222.0</td>\n",
       "      <td>27.000000</td>\n",
       "    </tr>\n",
       "    <tr>\n",
       "      <th>3</th>\n",
       "      <td>https://adresowo.pl/o/mieszkanie-gdansk-morena...</td>\n",
       "      <td>dzisiajnowe</td>\n",
       "      <td>10.0</td>\n",
       "      <td>Gdańsk Morena</td>\n",
       "      <td>ul. Warneńska</td>\n",
       "      <td>Apartment</td>\n",
       "      <td>2.0</td>\n",
       "      <td>47.0</td>\n",
       "      <td>Oferta biura nieruchomości</td>\n",
       "      <td>569000</td>\n",
       "      <td>12106.0</td>\n",
       "      <td>Gdańsk</td>\n",
       "      <td>569000.0</td>\n",
       "      <td>12106.0</td>\n",
       "      <td>23.500000</td>\n",
       "    </tr>\n",
       "    <tr>\n",
       "      <th>4</th>\n",
       "      <td>https://adresowo.pl/o/mieszkanie-gdansk-ul-pow...</td>\n",
       "      <td>dzisiajnowe</td>\n",
       "      <td>17.0</td>\n",
       "      <td>Gdańsk</td>\n",
       "      <td>ul. Powstania Listopadowego</td>\n",
       "      <td>Apartment</td>\n",
       "      <td>2.0</td>\n",
       "      <td>47.0</td>\n",
       "      <td>Oferta biura nieruchomości</td>\n",
       "      <td>550000</td>\n",
       "      <td>11677.0</td>\n",
       "      <td>Gdańsk</td>\n",
       "      <td>550000.0</td>\n",
       "      <td>11677.0</td>\n",
       "      <td>23.500000</td>\n",
       "    </tr>\n",
       "  </tbody>\n",
       "</table>\n",
       "</div>"
      ],
      "text/plain": [
       "                                                 url  date_posted  photos  \\\n",
       "0  https://adresowo.pl/o/mieszkanie-gdansk-jasien...   3 dni temu    12.0   \n",
       "1  https://adresowo.pl/o/mieszkanie-gdynia-srodmi...  dzisiajnowe    16.0   \n",
       "2  https://adresowo.pl/o/mieszkanie-gdansk-wrzesz...  dzisiajnowe     7.0   \n",
       "3  https://adresowo.pl/o/mieszkanie-gdansk-morena...  dzisiajnowe    10.0   \n",
       "4  https://adresowo.pl/o/mieszkanie-gdansk-ul-pow...  dzisiajnowe    17.0   \n",
       "\n",
       "             locality                       street property_type  rooms  \\\n",
       "0       Gdańsk Jasień      ul. Kazimierza Leskiego     Apartment    2.0   \n",
       "1  Gdynia Śródmieście        ul. A. Hryniewickiego     Apartment    3.0   \n",
       "2     Gdańsk Wrzeszcz                          NaN     Apartment    1.0   \n",
       "3       Gdańsk Morena                ul. Warneńska     Apartment    2.0   \n",
       "4              Gdańsk  ul. Powstania Listopadowego     Apartment    2.0   \n",
       "\n",
       "   area_m2                owner_direct  price_total_zl  price_per_m2_zl  \\\n",
       "0     41.0             Bez pośredników          639000          15582.0   \n",
       "1     80.0             Bez pośredników         2800000          35000.0   \n",
       "2     27.0             Bez pośredników          465000          17222.0   \n",
       "3     47.0  Oferta biura nieruchomości          569000          12106.0   \n",
       "4     47.0  Oferta biura nieruchomości          550000          11677.0   \n",
       "\n",
       "     city  price_total_zl_cleaned  price_per_m2_zl_cleaned  area_per_room  \n",
       "0  Gdańsk                639000.0                  15582.0      20.500000  \n",
       "1  Gdynia               2800000.0                  35000.0      26.666667  \n",
       "2  Gdańsk                465000.0                  17222.0      27.000000  \n",
       "3  Gdańsk                569000.0                  12106.0      23.500000  \n",
       "4  Gdańsk                550000.0                  11677.0      23.500000  "
      ]
     },
     "execution_count": 5,
     "metadata": {},
     "output_type": "execute_result"
    }
   ],
   "source": [
    "df = pd.read_csv('cleaned_trojmiasto.csv')\n",
    "df.head()"
   ]
  },
  {
   "cell_type": "code",
   "execution_count": 6,
   "id": "0231b295",
   "metadata": {},
   "outputs": [
    {
     "name": "stdout",
     "output_type": "stream",
     "text": [
      "        area_m2  price_total_zl_cleaned  price_per_m2_zl_cleaned\n",
      "count       992                     992                      992\n",
      "mean         57                  921066                    16131\n",
      "std          25                  567261                     5707\n",
      "min          16                  125000                     3788\n",
      "25%          42                  590000                    12149\n",
      "50%          53                  767000                    14799\n",
      "75%          67                 1100000                    18965\n",
      "max         448                 7850000                    62800\n",
      "median       53                  767000                    14799\n"
     ]
    }
   ],
   "source": [
    "# Oblicz podstawowe statystyki (średnia, mediana, rozkład).\n",
    "cols = ['area_m2', 'price_total_zl_cleaned', 'price_per_m2_zl_cleaned']\n",
    "stats = df[cols].describe()\n",
    "# Dodaję medianę osobno (bo nie jest w describe() domyślnie pokazana)\n",
    "stats.loc['median'] = df[cols].median()\n",
    "stats = stats.round(0).astype(int)\n",
    "print(stats)"
   ]
  },
  {
   "cell_type": "code",
   "execution_count": 7,
   "id": "5bcbc92a",
   "metadata": {},
   "outputs": [
    {
     "data": {
      "text/html": [
       "<div>\n",
       "<style scoped>\n",
       "    .dataframe tbody tr th:only-of-type {\n",
       "        vertical-align: middle;\n",
       "    }\n",
       "\n",
       "    .dataframe tbody tr th {\n",
       "        vertical-align: top;\n",
       "    }\n",
       "\n",
       "    .dataframe thead th {\n",
       "        text-align: right;\n",
       "    }\n",
       "</style>\n",
       "<table border=\"1\" class=\"dataframe\">\n",
       "  <thead>\n",
       "    <tr style=\"text-align: right;\">\n",
       "      <th></th>\n",
       "      <th>url</th>\n",
       "      <th>date_posted</th>\n",
       "      <th>photos</th>\n",
       "      <th>locality</th>\n",
       "      <th>street</th>\n",
       "      <th>property_type</th>\n",
       "      <th>rooms</th>\n",
       "      <th>area_m2</th>\n",
       "      <th>owner_direct</th>\n",
       "      <th>price_total_zl</th>\n",
       "      <th>price_per_m2_zl</th>\n",
       "      <th>city</th>\n",
       "      <th>price_total_zl_cleaned</th>\n",
       "      <th>price_per_m2_zl_cleaned</th>\n",
       "      <th>area_per_room</th>\n",
       "    </tr>\n",
       "  </thead>\n",
       "  <tbody>\n",
       "    <tr>\n",
       "      <th>638</th>\n",
       "      <td>https://adresowo.pl/o/mieszkanie-gdynia-orlowo...</td>\n",
       "      <td>ponad miesiąc temu</td>\n",
       "      <td>25.0</td>\n",
       "      <td>Gdynia Orłowo</td>\n",
       "      <td>ul. Świerkowa</td>\n",
       "      <td>Apartment</td>\n",
       "      <td>20.0</td>\n",
       "      <td>448.0</td>\n",
       "      <td>Oferta biura nieruchomości</td>\n",
       "      <td>4499000</td>\n",
       "      <td>10042.0</td>\n",
       "      <td>Gdynia</td>\n",
       "      <td>4499000.0</td>\n",
       "      <td>10042.0</td>\n",
       "      <td>22.4</td>\n",
       "    </tr>\n",
       "  </tbody>\n",
       "</table>\n",
       "</div>"
      ],
      "text/plain": [
       "                                                   url         date_posted  \\\n",
       "638  https://adresowo.pl/o/mieszkanie-gdynia-orlowo...  ponad miesiąc temu   \n",
       "\n",
       "     photos       locality         street property_type  rooms  area_m2  \\\n",
       "638    25.0  Gdynia Orłowo  ul. Świerkowa     Apartment   20.0    448.0   \n",
       "\n",
       "                   owner_direct  price_total_zl  price_per_m2_zl    city  \\\n",
       "638  Oferta biura nieruchomości         4499000          10042.0  Gdynia   \n",
       "\n",
       "     price_total_zl_cleaned  price_per_m2_zl_cleaned  area_per_room  \n",
       "638               4499000.0                  10042.0           22.4  "
      ]
     },
     "execution_count": 7,
     "metadata": {},
     "output_type": "execute_result"
    }
   ],
   "source": [
    "# Wyszło jakieś mieszkanie o powierzchni 448 m² - sprawdzam które to\n",
    "large_apartments = df[df['area_m2'] > 400]\n",
    "large_apartments.head()"
   ]
  },
  {
   "cell_type": "code",
   "execution_count": 8,
   "id": "25e4766f",
   "metadata": {},
   "outputs": [
    {
     "data": {
      "text/plain": [
       "'https://adresowo.pl/o/mieszkanie-gdynia-orlowo-ul-swierkowa-20-pokojowe-e1s0s7'"
      ]
     },
     "execution_count": 8,
     "metadata": {},
     "output_type": "execute_result"
    }
   ],
   "source": [
    "# Chcę podejrzeć url tego mieszkania\n",
    "df.loc[638, 'url']"
   ]
  },
  {
   "cell_type": "code",
   "execution_count": 9,
   "id": "e56dad76",
   "metadata": {},
   "outputs": [
    {
     "data": {
      "text/html": [
       "<div>\n",
       "<style scoped>\n",
       "    .dataframe tbody tr th:only-of-type {\n",
       "        vertical-align: middle;\n",
       "    }\n",
       "\n",
       "    .dataframe tbody tr th {\n",
       "        vertical-align: top;\n",
       "    }\n",
       "\n",
       "    .dataframe thead th {\n",
       "        text-align: right;\n",
       "    }\n",
       "</style>\n",
       "<table border=\"1\" class=\"dataframe\">\n",
       "  <thead>\n",
       "    <tr style=\"text-align: right;\">\n",
       "      <th></th>\n",
       "      <th>url</th>\n",
       "      <th>date_posted</th>\n",
       "      <th>photos</th>\n",
       "      <th>locality</th>\n",
       "      <th>street</th>\n",
       "      <th>property_type</th>\n",
       "      <th>rooms</th>\n",
       "      <th>area_m2</th>\n",
       "      <th>owner_direct</th>\n",
       "      <th>price_total_zl</th>\n",
       "      <th>price_per_m2_zl</th>\n",
       "      <th>city</th>\n",
       "      <th>price_total_zl_cleaned</th>\n",
       "      <th>price_per_m2_zl_cleaned</th>\n",
       "      <th>area_per_room</th>\n",
       "    </tr>\n",
       "  </thead>\n",
       "  <tbody>\n",
       "    <tr>\n",
       "      <th>862</th>\n",
       "      <td>https://adresowo.pl/o/mieszkanie-gdynia-srodmi...</td>\n",
       "      <td>ponad miesiąc temu</td>\n",
       "      <td>20.0</td>\n",
       "      <td>Gdynia Śródmieście</td>\n",
       "      <td>ul. A. Hryniewickiego</td>\n",
       "      <td>Apartment</td>\n",
       "      <td>3.0</td>\n",
       "      <td>125.0</td>\n",
       "      <td>Bez pośredników</td>\n",
       "      <td>7850000</td>\n",
       "      <td>62800.0</td>\n",
       "      <td>Gdynia</td>\n",
       "      <td>7850000.0</td>\n",
       "      <td>62800.0</td>\n",
       "      <td>41.666667</td>\n",
       "    </tr>\n",
       "  </tbody>\n",
       "</table>\n",
       "</div>"
      ],
      "text/plain": [
       "                                                   url         date_posted  \\\n",
       "862  https://adresowo.pl/o/mieszkanie-gdynia-srodmi...  ponad miesiąc temu   \n",
       "\n",
       "     photos            locality                 street property_type  rooms  \\\n",
       "862    20.0  Gdynia Śródmieście  ul. A. Hryniewickiego     Apartment    3.0   \n",
       "\n",
       "     area_m2     owner_direct  price_total_zl  price_per_m2_zl    city  \\\n",
       "862    125.0  Bez pośredników         7850000          62800.0  Gdynia   \n",
       "\n",
       "     price_total_zl_cleaned  price_per_m2_zl_cleaned  area_per_room  \n",
       "862               7850000.0                  62800.0      41.666667  "
      ]
     },
     "execution_count": 9,
     "metadata": {},
     "output_type": "execute_result"
    }
   ],
   "source": [
    "# Wyszło jakieś mieszkanie o cenie ponad 7 mn zł - sprawdzam które to\n",
    "large_apartments = df[df['price_total_zl_cleaned'] > 7000000]\n",
    "large_apartments.head()"
   ]
  },
  {
   "cell_type": "code",
   "execution_count": 10,
   "id": "0971a70f",
   "metadata": {},
   "outputs": [
    {
     "data": {
      "text/plain": [
       "'https://adresowo.pl/o/mieszkanie-gdynia-srodmiescie-ul-a-hryniewickiego-3-pokojowe-g1k0e7'"
      ]
     },
     "execution_count": 10,
     "metadata": {},
     "output_type": "execute_result"
    }
   ],
   "source": [
    "# Chcę podejrzeć url tego mieszkania\n",
    "df.loc[862, 'url']"
   ]
  },
  {
   "cell_type": "code",
   "execution_count": 11,
   "id": "1b25e049",
   "metadata": {},
   "outputs": [
    {
     "name": "stdout",
     "output_type": "stream",
     "text": [
      "Statystyki według miasta - średnie (mean):\n",
      "-------------------------\n",
      "        area_m2  price_total_zl_cleaned  price_per_m2_zl_cleaned  count\n",
      "city                                                                   \n",
      "Gdańsk       55                  913870                    16661    664\n",
      "Gdynia       60                  865968                    14192    269\n",
      "Sopot        66                 1253257                    19011     59\n"
     ]
    }
   ],
   "source": [
    "# Grupuję po mieście i obliczam średnią oraz liczbę ogłoszeń\n",
    "city_stats = (\n",
    "    df.groupby('city')\n",
    "    .agg({\n",
    "        'area_m2': 'mean',\n",
    "        'price_total_zl_cleaned': 'mean',\n",
    "        'price_per_m2_zl_cleaned': 'mean',\n",
    "        'city': 'count'\n",
    "    })\n",
    "    .rename(columns={'city': 'count'})  # zmieniam nazwę kolumny na 'count'\n",
    "    .round(0)\n",
    "    .astype(int)\n",
    ")\n",
    "\n",
    "print(\"Statystyki według miasta - średnie (mean):\")\n",
    "print(\"-------------------------\")\n",
    "print(city_stats)"
   ]
  },
  {
   "cell_type": "code",
   "execution_count": 12,
   "id": "bbb943bc",
   "metadata": {},
   "outputs": [
    {
     "name": "stdout",
     "output_type": "stream",
     "text": [
      "city\n",
      "Gdańsk    664\n",
      "Gdynia    269\n",
      "Sopot      59\n",
      "Name: count, dtype: int64\n"
     ]
    }
   ],
   "source": [
    "city_counts = df['city'].value_counts().sort_values(ascending=False)\n",
    "print(city_counts)"
   ]
  },
  {
   "cell_type": "code",
   "execution_count": 13,
   "id": "886a0910",
   "metadata": {},
   "outputs": [],
   "source": [
    "# Przedstaw dane na wykresach:\n",
    "#   histogram powierzchni mieszkań,\n",
    "#   boxplot cen w dzielnicach,\n",
    "#   scatter plot: area_m2 vs price_total_zl,\n",
    "#   ranking dzielnic wg ceny za m² (bar chart lub pie chart).\n",
    "# Użyj Plotly i zapisz wybrane wykresy do PDF przy użyciu kaleido"
   ]
  },
  {
   "cell_type": "code",
   "execution_count": 14,
   "id": "ad4557f8",
   "metadata": {},
   "outputs": [
    {
     "data": {
      "application/vnd.plotly.v1+json": {
       "config": {
        "plotlyServerURL": "https://plot.ly"
       },
       "data": [
        {
         "bingroup": "x",
         "hovertemplate": "area_m2=%{x}<br>count=%{y}<extra></extra>",
         "legendgroup": "",
         "marker": {
          "color": "#636efa",
          "pattern": {
           "shape": ""
          }
         },
         "name": "",
         "nbinsx": 100,
         "orientation": "v",
         "showlegend": false,
         "type": "histogram",
         "x": {
          "bdata": "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",
          "dtype": "f8"
         },
         "xaxis": "x",
         "yaxis": "y"
        }
       ],
       "layout": {
        "barmode": "relative",
        "legend": {
         "tracegroupgap": 0
        },
        "template": {
         "data": {
          "bar": [
           {
            "error_x": {
             "color": "#2a3f5f"
            },
            "error_y": {
             "color": "#2a3f5f"
            },
            "marker": {
             "line": {
              "color": "#E5ECF6",
              "width": 0.5
             },
             "pattern": {
              "fillmode": "overlay",
              "size": 10,
              "solidity": 0.2
             }
            },
            "type": "bar"
           }
          ],
          "barpolar": [
           {
            "marker": {
             "line": {
              "color": "#E5ECF6",
              "width": 0.5
             },
             "pattern": {
              "fillmode": "overlay",
              "size": 10,
              "solidity": 0.2
             }
            },
            "type": "barpolar"
           }
          ],
          "carpet": [
           {
            "aaxis": {
             "endlinecolor": "#2a3f5f",
             "gridcolor": "white",
             "linecolor": "white",
             "minorgridcolor": "white",
             "startlinecolor": "#2a3f5f"
            },
            "baxis": {
             "endlinecolor": "#2a3f5f",
             "gridcolor": "white",
             "linecolor": "white",
             "minorgridcolor": "white",
             "startlinecolor": "#2a3f5f"
            },
            "type": "carpet"
           }
          ],
          "choropleth": [
           {
            "colorbar": {
             "outlinewidth": 0,
             "ticks": ""
            },
            "type": "choropleth"
           }
          ],
          "contour": [
           {
            "colorbar": {
             "outlinewidth": 0,
             "ticks": ""
            },
            "colorscale": [
             [
              0,
              "#0d0887"
             ],
             [
              0.1111111111111111,
              "#46039f"
             ],
             [
              0.2222222222222222,
              "#7201a8"
             ],
             [
              0.3333333333333333,
              "#9c179e"
             ],
             [
              0.4444444444444444,
              "#bd3786"
             ],
             [
              0.5555555555555556,
              "#d8576b"
             ],
             [
              0.6666666666666666,
              "#ed7953"
             ],
             [
              0.7777777777777778,
              "#fb9f3a"
             ],
             [
              0.8888888888888888,
              "#fdca26"
             ],
             [
              1,
              "#f0f921"
             ]
            ],
            "type": "contour"
           }
          ],
          "contourcarpet": [
           {
            "colorbar": {
             "outlinewidth": 0,
             "ticks": ""
            },
            "type": "contourcarpet"
           }
          ],
          "heatmap": [
           {
            "colorbar": {
             "outlinewidth": 0,
             "ticks": ""
            },
            "colorscale": [
             [
              0,
              "#0d0887"
             ],
             [
              0.1111111111111111,
              "#46039f"
             ],
             [
              0.2222222222222222,
              "#7201a8"
             ],
             [
              0.3333333333333333,
              "#9c179e"
             ],
             [
              0.4444444444444444,
              "#bd3786"
             ],
             [
              0.5555555555555556,
              "#d8576b"
             ],
             [
              0.6666666666666666,
              "#ed7953"
             ],
             [
              0.7777777777777778,
              "#fb9f3a"
             ],
             [
              0.8888888888888888,
              "#fdca26"
             ],
             [
              1,
              "#f0f921"
             ]
            ],
            "type": "heatmap"
           }
          ],
          "histogram": [
           {
            "marker": {
             "pattern": {
              "fillmode": "overlay",
              "size": 10,
              "solidity": 0.2
             }
            },
            "type": "histogram"
           }
          ],
          "histogram2d": [
           {
            "colorbar": {
             "outlinewidth": 0,
             "ticks": ""
            },
            "colorscale": [
             [
              0,
              "#0d0887"
             ],
             [
              0.1111111111111111,
              "#46039f"
             ],
             [
              0.2222222222222222,
              "#7201a8"
             ],
             [
              0.3333333333333333,
              "#9c179e"
             ],
             [
              0.4444444444444444,
              "#bd3786"
             ],
             [
              0.5555555555555556,
              "#d8576b"
             ],
             [
              0.6666666666666666,
              "#ed7953"
             ],
             [
              0.7777777777777778,
              "#fb9f3a"
             ],
             [
              0.8888888888888888,
              "#fdca26"
             ],
             [
              1,
              "#f0f921"
             ]
            ],
            "type": "histogram2d"
           }
          ],
          "histogram2dcontour": [
           {
            "colorbar": {
             "outlinewidth": 0,
             "ticks": ""
            },
            "colorscale": [
             [
              0,
              "#0d0887"
             ],
             [
              0.1111111111111111,
              "#46039f"
             ],
             [
              0.2222222222222222,
              "#7201a8"
             ],
             [
              0.3333333333333333,
              "#9c179e"
             ],
             [
              0.4444444444444444,
              "#bd3786"
             ],
             [
              0.5555555555555556,
              "#d8576b"
             ],
             [
              0.6666666666666666,
              "#ed7953"
             ],
             [
              0.7777777777777778,
              "#fb9f3a"
             ],
             [
              0.8888888888888888,
              "#fdca26"
             ],
             [
              1,
              "#f0f921"
             ]
            ],
            "type": "histogram2dcontour"
           }
          ],
          "mesh3d": [
           {
            "colorbar": {
             "outlinewidth": 0,
             "ticks": ""
            },
            "type": "mesh3d"
           }
          ],
          "parcoords": [
           {
            "line": {
             "colorbar": {
              "outlinewidth": 0,
              "ticks": ""
             }
            },
            "type": "parcoords"
           }
          ],
          "pie": [
           {
            "automargin": true,
            "type": "pie"
           }
          ],
          "scatter": [
           {
            "fillpattern": {
             "fillmode": "overlay",
             "size": 10,
             "solidity": 0.2
            },
            "type": "scatter"
           }
          ],
          "scatter3d": [
           {
            "line": {
             "colorbar": {
              "outlinewidth": 0,
              "ticks": ""
             }
            },
            "marker": {
             "colorbar": {
              "outlinewidth": 0,
              "ticks": ""
             }
            },
            "type": "scatter3d"
           }
          ],
          "scattercarpet": [
           {
            "marker": {
             "colorbar": {
              "outlinewidth": 0,
              "ticks": ""
             }
            },
            "type": "scattercarpet"
           }
          ],
          "scattergeo": [
           {
            "marker": {
             "colorbar": {
              "outlinewidth": 0,
              "ticks": ""
             }
            },
            "type": "scattergeo"
           }
          ],
          "scattergl": [
           {
            "marker": {
             "colorbar": {
              "outlinewidth": 0,
              "ticks": ""
             }
            },
            "type": "scattergl"
           }
          ],
          "scattermap": [
           {
            "marker": {
             "colorbar": {
              "outlinewidth": 0,
              "ticks": ""
             }
            },
            "type": "scattermap"
           }
          ],
          "scattermapbox": [
           {
            "marker": {
             "colorbar": {
              "outlinewidth": 0,
              "ticks": ""
             }
            },
            "type": "scattermapbox"
           }
          ],
          "scatterpolar": [
           {
            "marker": {
             "colorbar": {
              "outlinewidth": 0,
              "ticks": ""
             }
            },
            "type": "scatterpolar"
           }
          ],
          "scatterpolargl": [
           {
            "marker": {
             "colorbar": {
              "outlinewidth": 0,
              "ticks": ""
             }
            },
            "type": "scatterpolargl"
           }
          ],
          "scatterternary": [
           {
            "marker": {
             "colorbar": {
              "outlinewidth": 0,
              "ticks": ""
             }
            },
            "type": "scatterternary"
           }
          ],
          "surface": [
           {
            "colorbar": {
             "outlinewidth": 0,
             "ticks": ""
            },
            "colorscale": [
             [
              0,
              "#0d0887"
             ],
             [
              0.1111111111111111,
              "#46039f"
             ],
             [
              0.2222222222222222,
              "#7201a8"
             ],
             [
              0.3333333333333333,
              "#9c179e"
             ],
             [
              0.4444444444444444,
              "#bd3786"
             ],
             [
              0.5555555555555556,
              "#d8576b"
             ],
             [
              0.6666666666666666,
              "#ed7953"
             ],
             [
              0.7777777777777778,
              "#fb9f3a"
             ],
             [
              0.8888888888888888,
              "#fdca26"
             ],
             [
              1,
              "#f0f921"
             ]
            ],
            "type": "surface"
           }
          ],
          "table": [
           {
            "cells": {
             "fill": {
              "color": "#EBF0F8"
             },
             "line": {
              "color": "white"
             }
            },
            "header": {
             "fill": {
              "color": "#C8D4E3"
             },
             "line": {
              "color": "white"
             }
            },
            "type": "table"
           }
          ]
         },
         "layout": {
          "annotationdefaults": {
           "arrowcolor": "#2a3f5f",
           "arrowhead": 0,
           "arrowwidth": 1
          },
          "autotypenumbers": "strict",
          "coloraxis": {
           "colorbar": {
            "outlinewidth": 0,
            "ticks": ""
           }
          },
          "colorscale": {
           "diverging": [
            [
             0,
             "#8e0152"
            ],
            [
             0.1,
             "#c51b7d"
            ],
            [
             0.2,
             "#de77ae"
            ],
            [
             0.3,
             "#f1b6da"
            ],
            [
             0.4,
             "#fde0ef"
            ],
            [
             0.5,
             "#f7f7f7"
            ],
            [
             0.6,
             "#e6f5d0"
            ],
            [
             0.7,
             "#b8e186"
            ],
            [
             0.8,
             "#7fbc41"
            ],
            [
             0.9,
             "#4d9221"
            ],
            [
             1,
             "#276419"
            ]
           ],
           "sequential": [
            [
             0,
             "#0d0887"
            ],
            [
             0.1111111111111111,
             "#46039f"
            ],
            [
             0.2222222222222222,
             "#7201a8"
            ],
            [
             0.3333333333333333,
             "#9c179e"
            ],
            [
             0.4444444444444444,
             "#bd3786"
            ],
            [
             0.5555555555555556,
             "#d8576b"
            ],
            [
             0.6666666666666666,
             "#ed7953"
            ],
            [
             0.7777777777777778,
             "#fb9f3a"
            ],
            [
             0.8888888888888888,
             "#fdca26"
            ],
            [
             1,
             "#f0f921"
            ]
           ],
           "sequentialminus": [
            [
             0,
             "#0d0887"
            ],
            [
             0.1111111111111111,
             "#46039f"
            ],
            [
             0.2222222222222222,
             "#7201a8"
            ],
            [
             0.3333333333333333,
             "#9c179e"
            ],
            [
             0.4444444444444444,
             "#bd3786"
            ],
            [
             0.5555555555555556,
             "#d8576b"
            ],
            [
             0.6666666666666666,
             "#ed7953"
            ],
            [
             0.7777777777777778,
             "#fb9f3a"
            ],
            [
             0.8888888888888888,
             "#fdca26"
            ],
            [
             1,
             "#f0f921"
            ]
           ]
          },
          "colorway": [
           "#636efa",
           "#EF553B",
           "#00cc96",
           "#ab63fa",
           "#FFA15A",
           "#19d3f3",
           "#FF6692",
           "#B6E880",
           "#FF97FF",
           "#FECB52"
          ],
          "font": {
           "color": "#2a3f5f"
          },
          "geo": {
           "bgcolor": "white",
           "lakecolor": "white",
           "landcolor": "#E5ECF6",
           "showlakes": true,
           "showland": true,
           "subunitcolor": "white"
          },
          "hoverlabel": {
           "align": "left"
          },
          "hovermode": "closest",
          "mapbox": {
           "style": "light"
          },
          "paper_bgcolor": "white",
          "plot_bgcolor": "#E5ECF6",
          "polar": {
           "angularaxis": {
            "gridcolor": "white",
            "linecolor": "white",
            "ticks": ""
           },
           "bgcolor": "#E5ECF6",
           "radialaxis": {
            "gridcolor": "white",
            "linecolor": "white",
            "ticks": ""
           }
          },
          "scene": {
           "xaxis": {
            "backgroundcolor": "#E5ECF6",
            "gridcolor": "white",
            "gridwidth": 2,
            "linecolor": "white",
            "showbackground": true,
            "ticks": "",
            "zerolinecolor": "white"
           },
           "yaxis": {
            "backgroundcolor": "#E5ECF6",
            "gridcolor": "white",
            "gridwidth": 2,
            "linecolor": "white",
            "showbackground": true,
            "ticks": "",
            "zerolinecolor": "white"
           },
           "zaxis": {
            "backgroundcolor": "#E5ECF6",
            "gridcolor": "white",
            "gridwidth": 2,
            "linecolor": "white",
            "showbackground": true,
            "ticks": "",
            "zerolinecolor": "white"
           }
          },
          "shapedefaults": {
           "line": {
            "color": "#2a3f5f"
           }
          },
          "ternary": {
           "aaxis": {
            "gridcolor": "white",
            "linecolor": "white",
            "ticks": ""
           },
           "baxis": {
            "gridcolor": "white",
            "linecolor": "white",
            "ticks": ""
           },
           "bgcolor": "#E5ECF6",
           "caxis": {
            "gridcolor": "white",
            "linecolor": "white",
            "ticks": ""
           }
          },
          "title": {
           "x": 0.05
          },
          "xaxis": {
           "automargin": true,
           "gridcolor": "white",
           "linecolor": "white",
           "ticks": "",
           "title": {
            "standoff": 15
           },
           "zerolinecolor": "white",
           "zerolinewidth": 2
          },
          "yaxis": {
           "automargin": true,
           "gridcolor": "white",
           "linecolor": "white",
           "ticks": "",
           "title": {
            "standoff": 15
           },
           "zerolinecolor": "white",
           "zerolinewidth": 2
          }
         }
        },
        "title": {
         "text": "Histogram metrażu mieszkań w Trójmieście"
        },
        "xaxis": {
         "anchor": "y",
         "domain": [
          0,
          1
         ],
         "title": {
          "text": "area_m2"
         }
        },
        "yaxis": {
         "anchor": "x",
         "domain": [
          0,
          1
         ],
         "title": {
          "text": "count"
         }
        }
       }
      }
     },
     "metadata": {},
     "output_type": "display_data"
    }
   ],
   "source": [
    "px.histogram(df, x='area_m2', title='Histogram metrażu mieszkań w Trójmieście', nbins=100)"
   ]
  },
  {
   "cell_type": "code",
   "execution_count": 15,
   "id": "dffe6fdf",
   "metadata": {},
   "outputs": [
    {
     "data": {
      "application/vnd.plotly.v1+json": {
       "config": {
        "plotlyServerURL": "https://plot.ly"
       },
       "data": [
        {
         "bingroup": "x",
         "hovertemplate": "price_total_zl_cleaned=%{x}<br>count=%{y}<extra></extra>",
         "legendgroup": "",
         "marker": {
          "color": "#636efa",
          "pattern": {
           "shape": ""
          }
         },
         "name": "",
         "nbinsx": 100,
         "orientation": "v",
         "showlegend": false,
         "type": "histogram",
         "x": {
          "bdata": "AAAAADCAI0EAAAAAwFxFQQAAAACgYRxBAAAAAFBdIUEAAAAA4MggQQAAAAAgoBxBAAAAAKDwKUEAAAAAQLMhQQAAAACwUyBBAAAAAOA5I0EAAAAA0AYlQQAAAAAG7zpBAAAAABIMPEEAAAAAsMQiQQAAAABwKCJBAAAAAGDjJkEAAAAAGGY4QQAAAACQBVBBAAAAANAGJUEAAAAAIE0lQQAAAAC0hS1BAAAAALA1NUEAAAAA8FQlQQAAAACE9iNBAAAAAPBUJUEAAAAAgBMsQQAAAADgPxJBAAAAAFBdIUEAAAAAAIgjQQAAAABgATJBAAAAALBHIkEAAAAAsEciQQAAAABIPSFBAAAAAKCdMkEAAAAAINYzQQAAAAAQryNBAAAAAADbGkEAAAAAoA4lQQAAAADgFSlBAAAAAHpPIkEAAAAAcJk0QQAAAACATyJBAAAAAJBYJ0EAAAAAoPApQQAAAAAgLxpBAAAAAMAgH0EAAAAA4MgQQQAAAABA6C1BAAAAAJiAPkEAAAAAYOMmQQAAAADgbh9BAAAAABAyI0EAAAAAINwiQQAAAADgOTNBAAAAABgZMEEAAAAAiJU0QQAAAAAQryNBAAAAAND0N0EAAAAAINYjQQAAAADgdB5BAAAAAFoWJUEAAAAAkGokQQAAAABABhlBAAAAAPgXOEEAAAAAQKkqQQAAAADQEkNBAAAAAACII0EAAAAAYOMmQQAAAADwxSdBAAAAAHBvK0EAAAAAuTkzQQAAAADw7zBBAAAAALBHIkEAAAAAoJ0iQQAAAABwXT5BAAAAAMB6IEEAAAAAIJodQQAAAACgnSJBAAAAAH6ELkEAAAAAAIgjQQAAAABQziNBAAAAAMDrMkEAAAAA4P0sQQAAAADAzRdBAAAAAHjfNkEAAAAAcI0mQQAAAACwRyJBAAAAACBHFkEAAAAAAL0fQQAAAABMoDNBAAAAACxcHkEAAAAAMFArQQAAAACgDiVBAAAAAABMHUEAAAAALfM1QQAAAAA4zBlBAAAAANDoKUEAAAAAIJodQQAAAADQBiVBAAAAAHALJkEAAAAAxKMaQQAAAADQEiNBAAAAAFA/JkEAAAAAAEwtQQAAAADkBCdBAAAAAIBPIkEAAAAAoGcbQQAAAADAryxBAAAAAICaLEEAAAAAINYjQQAAAADQdydBAAAAANDoKUEAAAAAMFArQQAAAABgPB1BAAAAAGDEJ0EAAAAAAL0fQQAAAADg/SxBAAAAAEAGKUEAAAAAkOckQQAAAADwVCVBAAAAAOD9LEEAAAAAMIwhQQAAAABgciRBAAAAACBHFkEAAAAAAAszQQAAAACg8ClBAAAAAKD2KEEAAAAAMA8hQQAAAAAA+SVBAAAAADKyKUEAAAAAkMk5QQAAAABgPB1BAAAAACCaLUEAAAAAEMEgQQAAAACATzJBAAAAADDxJUEAAAAAICkrQQAAAAAwux5BAAAAAND0J0EAAAAAmEsyQQAAAAC2KyxBAAAAALDEMkEAAAAAgKIZQQAAAAAg1iNBAAAAAHBvK0EAAAAAOGcwQQAAAAAgZSFBAAAAAP9pOEEAAAAAcG8rQQAAAADQdydBAAAAANASM0EAAAAAkGokQQAAAACwFypBAAAAAD6zIUEAAAAA+MQwQQAAAADYWDVBAAAAAFDaIUEAAAAAIEcmQQAAAACwRyJBAAAAAHjfNkEAAAAAEVc0QQAAAACgfydBAAAAACDWI0EAAAAA4IwqQQAAAACYgD5BAAAAAPj5PEEAAAAAMIwxQQAAAAAgmi1BAAAAAOA5I0EAAAAA8O8gQQAAAABwbytBAAAAAGA8HUEAAAAAfk8iQQAAAACg8BlBAAAAAPCnLEEAAAAAoGcbQQAAAABwqyFBAAAAAPByIEEAAAAAgMAkQQAAAABg4yZBAAAAAKD2GEEAAAAAQOgtQQAAAABgciRBAAAAAKDwGUEAAAAAsCknQQAAAAAAiCNBAAAAALBTIEEAAAAAsEciQQAAAADgOSNBAAAAAPDFJ0EAAAAA4MggQQAAAACgZxtBAAAAAMCvLEEAAAAAYOM2QQAAAADIqDZBAAAAABhmOEEAAAAAUF0hQQAAAACQBSBBAAAAADBiKEEAAAAAmEsyQQAAAAAg1iNBAAAAAFAtKUEAAAAAWK8xQQAAAABABilBAAAAAOBuH0EAAAAAkNsmQQAAAAAwYihBAAAAACCaHUEAAAAAcG8rQQAAAABgWhhBAAAAADAPIUEAAAAAwM0nQQAAAAAgTRVBAAAAAEDoLUEAAAAAsKZHQQAAAACwuCRBAAAAAJDbJkEAAAAAILgoQQAAAACAhD5BAAAAAGCtH0EAAAAAMGIoQQAAAADwZiJBAAAAANB3J0EAAAAA0OgpQQAAAACcdEJBAAAAAOB0HkEAAAAA3sggQQAAAACQoT5BAAAAAHBvK0EAAAAA0KEwQQAAAACwfC5BAAAAAIATHEEAAAAA8O8gQQAAAADAPipBAAAAACBNFUEAAAAAQHc7QQAAAABgNh5BAAAAAGBaGEEAAAAA8FQlQQAAAACwFypBAAAAANhYNUEAAAAAfk8iQQAAAAAAvR9BAAAAAMBcJUEAAAAAsEciQQAAAAAwgCNBAAAAAMCvPEEAAAAA4IwqQQAAAABAdytBAAAAAP5pKEEAAAAAcOwrQQAAAAAQPjFBAAAAALBTMEEAAAAAAEwdQQAAAAAgmi1BAAAAAHAoIkEAAAAAgKIpQQAAAABABilBAAAAAHAcJEEAAAAAsEciQQAAAABwCidBAAAAAABMHUEAAAAA+MQwQQAAAABwbytBAAAAANASI0EAAAAA/OdBQQAAAACgnTJBAAAAAODIMEEAAAAAYHIkQQAAAADAryxBAAAAAIDpHkEAAAAAsCknQQAAAACQOjxBAAAAALCmN0EAAAAAYOMmQQAAAADd1zVBAAAAAND0J0EAAAAA0BIzQQAAAACg8ClBAAAAAMB6IEEAAAAAoA4lQQAAAAAAiCNBAAAAABDBIEEAAAAA0GUqQQAAAABw/ihBAAAAAKDSHkEAAAAAoGcbQQAAAACQcCNBAAAAALiBRkEAAAAAgE8yQQAAAAAw2SlBAAAAgF/jRkEAAAAAAGooQQAAAAAgoBxBAAAAACCgHEEAAAAAsEQlQQAAAAAuTzNBAAAAANChIEEAAAAAoPAZQQAAAABg4yZBAAAAALCILEEAAAAAWOQ9QQAAAAAgmh1BAAAAAIjIG0EAAAAAEMEgQQAAAABQSyRBAAAAAJBqJEEAAAAAoH8nQQAAAABAdytBAAAAAOBuH0EAAAAAMIwxQQAAAABYFCZBAAAAACBHJkEAAAAA8HIgQQAAAACAhB5BAAAAANxqMUEAAAAAD0o2QQAAAABQPyZBAAAAAMBcFUEAAAAA8NElQQAAAADYWDVBAAAAAODTN0EAAAAAcKshQQAAAABQPyZBAAAAAOD9LEEAAAAAsAssQQAAAABwKDJBAAAAAKDwKUEAAAAAsJopQQAAAACQUihBAAAAAHhSMEEAAAAAULw2QQAAAABg4yZBAAAAACBHJkEAAAAACpciQQAAAAAgrDFBAAAAAED0G0EAAAAAyEMyQQAAAADgdB5BAAAAAOI9KkEAAAAAGAczQQAAAAAQtSJBAAAAAICEHkEAAAAAsLgkQQAAAACsfyhBAAAAAILSKUEAAAAA8MUnQQAAAAAQwSBBAAAAAPDvMEEAAAAAMuknQQAAAABMmyhBAAAAAHjfNkEAAAAAQKgnQQAAAACYgD5BAAAAAJLFIEEAAAAAF4w1QQAAAACgnSJBAAAAADDxJUEAAAAAINYzQQAAAAAyUjVBAAAAALkeOEEAAAAAILgoQQAAAADgOSNBAAAAAKAOJUEAAAAAzPg4QQAAAADgRylBAAAAAICELkEAAAAAcKUiQQAAAAAwYihBAAAAAFU8OUEAAAAA8EI2QQAAAADQ9CdBAAAAANAGJUEAAAAA4MggQQAAAAD8oyhBAAAAALLXKEEAAAAAkO0jQQAAAADASihBAAAAACBlIUEAAAAAWIQ0QQAAAABQqipBAAAAAODIMEEAAAAAQAYpQQAAAACOSTlBAAAAAPy0MkEAAAAAAPMmQQAAAADwQjhBAAAAAH6ELkEAAAAARJ8zQQAAAADDejNBAAAAAKDwKUEAAAAAwFwlQQAAAAAAiBNBAAAAAPQUN0EAAAAA8tYmQQAAAAAwYihBAAAAAHAcJEEAAAAA8HIgQQAAAADohURBAAAAAESjKEEAAAAA0BIzQQAAAADA6yJBAAAAAGDjJkEAAAAASP9CQQAAAAAQ7y1BAAAAAHBvK0EAAAAAUC0pQQAAAABwjSZBAAAAALh7N0EAAAAADoA/QQAAAABgVClBAAAAAPBgI0EAAAAAEAI7QQAAAACKcjRBAAAAAEBmLkEAAAAAYOMmQQAAAADgdB5BAAAAAHAoIkEAAAAAMl4yQQAAAABoRzRBAAAAANChIEEAAAAAUC05QQAAAABQPyZBAAAAALx6TkEAAAAAknY9QQAAAADgyDBBAAAAAMDrIkEAAAAAsEciQQAAAADGmTRBAAAAAKYqSkEAAAAAkNUnQQAAAABAsyFBAAAAAODIIEEAAAAAbqQgQQAAAIAg50RBAAAAAHCZNEEAAAAAQLMhQQAAAABg4yZBAAAAAFT5O0EAAAAA9BQ3QQAAAABAdxtBAAAAAICiGUEAAAAA4KolQQAAAABYCEhBAAAAALB8LkEAAAAAeP0xQQAAAAAYGyhBAAAAAECzIUEAAAAApiQvQQAAAAC+3TVBAAAAACBlEUEAAAAAIGUhQQAAAACg6hpBAAAAABj2OEEAAAAAFNJEQQAAAADgAxxBAAAAANBHL0EAAAAArrgkQQAAAAD0DyhBAAAAAKDwKUEAAAAAQCQkQQAAAABwjSZBAAAAAJD5IUEAAAAA0OgpQQAAAABQPyZBAAAAAIhfTUEAAAAAsHwuQQAAAAAIXTNBAAAAAFDaMUEAAAAAYAESQQAAAAAA+RVBAAAAALB8LkEAAAAAMFArQQAAAADQJCBBAAAAAICEHkEAAAAAcJkkQQAAAACQ2yZBAAAAAPrsL0EAAAAAUM4jQQAAAAC4TiJBAAAAAHAcJEEAAAAA8DYqQQAAAADgIRdBAAAAACgcNkEAAAAAuCgwQQAAAAAIJyxBAAAAAKDwKUEAAAAA8FQlQQAAAADgdB5BAAAAAHBvK0EAAAAAQJUmQQAAAACQBTBBAAAAAOB0HkEAAAAAMLUvQQAAAAAwjDFBAAAAAOCMKkEAAAAAwK88QQAAAACAExxBAAAAALBTIEEAAAAAIBEfQQAAAADAzSdBAAAAAJQoQUEAAAAA4DkTQQAAAABQziNBAAAAAKwcK0EAAAAAQCQkQQAAAADQdydBAAAAAMDrIkEAAAAAsMQyQQAAAADgdB5BAAAAANDoKUEAAAAAUM4jQQAAAADQBiVBAAAAAJhLMkEAAAAAyKI3QQAAAABAZR5BAAAAAMBcJUEAAAAA8OMiQQAAAAAs3jhBAAAAANjPRkEAAAAA4P08QQAAAADgbh9BAAAAAKDwGUEAAAAA4DkjQQAAAADQ6ClBAAAAAGBUGUEAAAAAgE8yQQAAAADArxxBAAAAAEiIMUEAAAAAng4lQQAAAAAwUCtBAAAAAJD5IUEAAAAAwD4aQQAAAADArxxBAAAAALBHIkEAAAAAQJUmQQAAAAAA+SVBAAAAAMA+GkEAAAAA4BsoQQAAAACwxCJBAAAAABAyI0EAAAAAQLMhQQAAAACgfydBAAAAAD53K0EAAAAAYHIkQQAAAADgyCBBAAAAAGA2LkEAAAAAwME5QQAAAACQIChBAAAAADCMIUEAAAAAgMAkQQAAAAAQryNBAAAAAAD5FUEAAAAAUEUVQQAAAADgOSNBAAAAABD2LEEAAAAAINYjQQAAAADgAxxBAAAAAMAgH0EAAAAA8FQlQQAAAADAzRdBAAAAADhJNUEAAAAA4MgwQQAAAADgPyJBAAAAAHCrIUEAAAAACLA6QQAAAACg8BlBAAAAAKB/J0EAAAAA4CEXQQAAAADgqiVBAAAAANCVIkEAAAAAEK8jQQAAAABwbytBAAAAAJJMMkEAAAAAAEwdQQAAAABwqyFBAAAAAJBMKUEAAAAA8GAzQQAAAAA2gUFBAAAAAMhJMUEAAAAAUCErQQAAAABQziNBAAAAAMCvLEEAAAAAODAgQQAAAAAzND1BAAAAAJClL0EAAAAA4P0cQQAAAADwxSdBAAAAALB8LkEAAAAAbAYhQQAAAACg2B1BAAAAACCaHUEAAAAAoH8nQQAAAADgyCBBAAAAAIzZI0EAAAAAqDY8QQAAAADg/SxBAAAAACDWI0EAAAAAUD8mQQAAAACQ2yZBAAAAALjsOUEAAAAAUKQqQQAAAAAQIDZBAAAAAICiKUEAAAAAYOMmQQAAAADoAiVBAAAAAFA/JkEAAAAAkDo8QQAAAABwKDJBAAAAAOAbKEEAAAAAsP8tQQAAAADgyDBBAAAAANChIEEAAAAA8FQlQQAAAAAwgCNBAAAAAMB0QUEAAAAA4HQeQQAAAACAwCRBAAAAAFDaIUEAAAAAMGIoQQAAAADgyCBBAAAAAGDjJkEAAAAAMIAjQQAAAAAQrzNBAAAAADCMMUEAAAAAINYjQQAAAADgyDBBAAAAAPjEMEEAAAAAQOgdQQAAAADw0SVBAAAAAHD+KEEAAAAAAEwdQQAAAACATzJBAAAAAPg7QkEAAAAA7PgcQQAAAADwszpBAAAAAMDrIkEAAAAAQCQ0QQAAAACOKVFBAAAAAJDJOUEAAAAA6A4zQQAAAADA60JBAAAAAJDbJkEAAAAAMIwhQQAAAAAQIDZBAAAAANASM0EAAAAAcAQoQQAAAABgxStBAAAAAMBcNUEAAAAAQPoqQQAAAABAHiVBAAAAADCMMUEAAAAAYAEiQQAAAACgICJBAAAAAHCTJUEAAAAAgIQuQQAAAAAQwSBBAAAAAODIMEEAAAAAoNIeQQAAAADgdB5BAAAAAGhNM0EAAAAA8EI4QQAAAAAQ9ixBAAAAAGBaGEEAAAAAfk8iQQAAAADA6yJBAAAAAPDjIkEAAAAAsDUlQQAAAACwfC5BAAAAAODIMEEAAAAAnD4bQQAAAACQaiRBAAAAAPCzSkEAAAAA0OgpQQAAAAAY9TVBAAAAAHDgLUEAAAAAIGURQQAAAACgoyFBAAAAAPjEMEEAAAAAUDMoQQAAAACAhP5AAAAAAOCwFEEAAAAAAPkVQQAAAAAwjDFBAAAAAECzMUEAAAAAkPkhQQAAAAAYEzFBAAAAANASM0EAAAAAgCwiQQAAAADo/RlBAAAAAGBaGEEAAAAA6J0wQQAAAAAQOCJBAAAAAAChI0EAAAAAUM4jQQAAAADAPipBAAAAAMBcNUEAAAAAwM0nQQAAAAAwYihBAAAAAIBPIkEAAAAAwFw1QQAAAABAdxtBAAAAANLyIUEAAAAAPncrQQAAAAD82hpBAAAAACDWE0EAAAAAwM0nQQAAAAAAFyFBAAAAADjeIUEAAAAAkDo8QQAAAACAMTdBAAAAACCaHUEAAAAAQAYZQQAAAADw7yBBAAAAABCFKkEAAAAA4JIZQQAAAAAgRyZBAAAAAEAkJEEAAAAAoHMpQQAAAADg/SxBAAAAAECVJkEAAAAAoJ0iQQAAAAAAiBNBAAAAAPBUJUEAAAAAAL0fQQAAAACQBSBBAAAAACCgHEEAAAAAEK8zQQAAAADgAxxBAAAAAMDrIkEAAAAA0AYlQQAAAACIlTRBAAAAADBuJkEAAAAAfk8iQQAAAAAA2ypBAAAAADCAI0EAAAAAIJodQQAAAAAYGTBBAAAAABAgJkEAAAAAoGcbQQAAAAAgyiVBAAAAAFBEMUEAAAAA4HQeQQAAAAAAFyFBAAAAACBlMUEAAAAAsHwuQQAAAAB4gDFBAAAAAAAXIUEAAAAAwHowQQAAAAAgZSFBAAAAAGABIkEAAAAAwFwVQQAAAADQEiNBAAAAAFBdIUEAAAAAcBwkQQAAAACwuCRBAAAAAHhWOEEAAAAA8FQlQQAAAAAwDyFBAAAAAMAgH0EAAAAAUM4jQQAAAACwfC5BAAAAALA1NUEAAAAA0BIzQQAAAAAQMiNBAAAAAEAkJEEAAAAAwHogQQAAAADwYDNBAAAAALBHIkEAAAAAMPElQQAAAACYSzJBAAAAAMBcJUEAAAAAoNgdQQAAAACYSzJBAAAAACBNFUEAAAAAsEciQQAAAADwVCVBAAAAAPBgI0EAAAAA8O8gQQAAAABQziNBAAAAAGDjJkEAAAAAUNohQQAAAACwRyJBAAAAAJgRFEEAAAAAQLMhQQAAAAAwbjZBAAAAADCAI0EAAAAAAIgzQQAAAACgLDBBAAAAAKAONUEAAAAAqOM0QQAAAABQPyZBAAAAACBHJkEAAAAAEDVAQQAAAACwuCRBAAAAAACIM0EAAAAAIEcmQQAAAAAgoBxBAAAAAJBqJEEAAAAAoGEcQQAAAADgbi9BAAAAAHhuNEEAAAAAOGdAQQAAAACIKkFBAAAAAKB/J0EAAAAAIEcmQQAAAACAMRdBAAAAALCaKUEAAAAA0HcnQQAAAACgDiVBAAAAAGBaKEEAAAAAANsaQQAAAACwNTVBAAAAACARH0EAAAAAsHwuQQAAAACQBTBBAAAAAABMLUEAAAAA8DYqQQAAAAB43zZBAAAAADCMMUEAAAAA0KEwQQAAAACwRyJBAAAAABAgRkEAAAAAMGIoQQAAAADw7yBBAAAAAGDjNkEAAAAAAL0fQQAAAACQBTBBAAAAADBiKEEAAAAAgBMcQQAAAADwTiZBAAAAAOADPEEAAAAA8EIoQQAAAAAwYihBAAAAAIBPMkEAAAAAILIZQQAAAABgrR9BAAAAADBiKEEAAAAAANsaQQAAAAAA2xpBAAAAAJiAPkEAAAAAAEwdQQAAAADw7yBBAAAAAKBaNEEAAAAAUF0hQQAAAACATzJBAAAAAODIMEEAAAAA3/08QQAAAABANjFBAAAAANChMEEAAAAAEMEgQQAAAAAQwSBBAAAAADBiKEEAAAAA4DkzQQAAAABgPB1BAAAAAPA2KkEAAAAAkAUwQQAAAADg/SxBAAAAABA+IUEAAAAADDIyQQAAAABgASJBAAAAALgoMEEAAAAABPJdQQAAAAA8KjJBAAAAAGABIkEAAAAA4HQeQQAAAACYgD5BAAAAAGABIkEAAAAAQAY5QQAAAAAgLxpBAAAAALBHIkEAAAAAoA4lQQAAAADcEENBAAAAAH6ELkEAAAAA8EIoQQAAAACAojlBAAAAAACIM0EAAAAAYNEpQQAAAADEaRhBAAAAACDWI0EAAAAA4DkjQQAAAABwmTRBAAAAAOBuH0EAAAAAsLgkQQAAAAB4dDNBAAAAAKAsIEEAAAAAnDg8QQAAAAAA+SVBAAAAAPg9FEEAAAAA4hcjQQAAAABwbytBAAAAAJD5IUEAAAAASIgxQQAAAACgZxtBAAAAAEDoLUEAAAAAQO4sQQAAAAAw3yhBAAAAACDWI0EAAAAAkNsmQQAAAAAAiCNBAAAAAODIMEEAAAAAULw2QQAAAABAsyFBAAAAAMCvHEEAAAAAYOkVQQAAAAB43zZBAAAAAKDwKUEAAAAASBEwQQAAAAD+5yRBAAAAAKDwKUEAAAAAgIQuQQAAAADgRSFBAAAAAABAL0EAAAAAgAEwQQAAAADIAClBAAAAANTvHkEAAAAAEGAcQQAAAAAImCFBAAAAAKwMRUEAAAAAiCoxQQAAAABwXS5BAAAAAKDwKUEAAAAA+KY1QQAAAADQdydBAAAAAKDwKUEAAAAAmEsyQQAAAABa1CNBAAAAANCFHEEAAAAA6H8lQQAAAAAgrRRBAAAAAHB2IEEAAAAAECAmQQAAAAAAWSNBAAAAADDTKkEAAAAAMGIoQQAAAACAnBpBAAAAAIBPMkEAAAAAyKI3QQAAAAAgmh1BAAAAADBiKEEAAAAAEBQoQQAAAABMiTFBAAAAAIAxJ0EAAAAAkHYiQQAAAABYIhdBAAAAANASM0EAAAAAwCAvQQAAAACYSzJBAAAAAD6zIUEAAAAAYAEyQQAAAABQnjtBAAAAAFAhK0EAAAAAUM4jQQAAAACYgD5BAAAAAICiGUEAAAAAWAhIQQAAAABg4yZBAAAAAOgOM0EAAAAAgBkbQQAAAACIKjFBAAAAAID4M0EAAAAAYDY+QQAAAAAQICZBAAAAANASM0EAAAAAYFoYQQAAAADwvyhBAAAAAAAXMUEAAAAA8EI4QQAAAABwbytBAAAAALA1JUEAAAAAsAssQQAAAACg8ClBAAAAAFA/JkEAAAAAULw2QQAAAADwszpBAAAAAIATHEEAAAAAEK8zQQAAAABQtidBAAAAANDoKUEAAAAAMLUvQQAAAAB43zZBAAAAAMB6MEEAAAAA4P0sQQAAAABQki1BAAAAAPBCOEEAAAAAsPMvQQAAAACgZytBAAAAANtfSkEAAAAAINYjQQAAAABYAjlBAAAAACBnKUEAAAAA0OgpQQ==",
          "dtype": "f8"
         },
         "xaxis": "x",
         "yaxis": "y"
        }
       ],
       "layout": {
        "barmode": "relative",
        "legend": {
         "tracegroupgap": 0
        },
        "template": {
         "data": {
          "bar": [
           {
            "error_x": {
             "color": "#2a3f5f"
            },
            "error_y": {
             "color": "#2a3f5f"
            },
            "marker": {
             "line": {
              "color": "#E5ECF6",
              "width": 0.5
             },
             "pattern": {
              "fillmode": "overlay",
              "size": 10,
              "solidity": 0.2
             }
            },
            "type": "bar"
           }
          ],
          "barpolar": [
           {
            "marker": {
             "line": {
              "color": "#E5ECF6",
              "width": 0.5
             },
             "pattern": {
              "fillmode": "overlay",
              "size": 10,
              "solidity": 0.2
             }
            },
            "type": "barpolar"
           }
          ],
          "carpet": [
           {
            "aaxis": {
             "endlinecolor": "#2a3f5f",
             "gridcolor": "white",
             "linecolor": "white",
             "minorgridcolor": "white",
             "startlinecolor": "#2a3f5f"
            },
            "baxis": {
             "endlinecolor": "#2a3f5f",
             "gridcolor": "white",
             "linecolor": "white",
             "minorgridcolor": "white",
             "startlinecolor": "#2a3f5f"
            },
            "type": "carpet"
           }
          ],
          "choropleth": [
           {
            "colorbar": {
             "outlinewidth": 0,
             "ticks": ""
            },
            "type": "choropleth"
           }
          ],
          "contour": [
           {
            "colorbar": {
             "outlinewidth": 0,
             "ticks": ""
            },
            "colorscale": [
             [
              0,
              "#0d0887"
             ],
             [
              0.1111111111111111,
              "#46039f"
             ],
             [
              0.2222222222222222,
              "#7201a8"
             ],
             [
              0.3333333333333333,
              "#9c179e"
             ],
             [
              0.4444444444444444,
              "#bd3786"
             ],
             [
              0.5555555555555556,
              "#d8576b"
             ],
             [
              0.6666666666666666,
              "#ed7953"
             ],
             [
              0.7777777777777778,
              "#fb9f3a"
             ],
             [
              0.8888888888888888,
              "#fdca26"
             ],
             [
              1,
              "#f0f921"
             ]
            ],
            "type": "contour"
           }
          ],
          "contourcarpet": [
           {
            "colorbar": {
             "outlinewidth": 0,
             "ticks": ""
            },
            "type": "contourcarpet"
           }
          ],
          "heatmap": [
           {
            "colorbar": {
             "outlinewidth": 0,
             "ticks": ""
            },
            "colorscale": [
             [
              0,
              "#0d0887"
             ],
             [
              0.1111111111111111,
              "#46039f"
             ],
             [
              0.2222222222222222,
              "#7201a8"
             ],
             [
              0.3333333333333333,
              "#9c179e"
             ],
             [
              0.4444444444444444,
              "#bd3786"
             ],
             [
              0.5555555555555556,
              "#d8576b"
             ],
             [
              0.6666666666666666,
              "#ed7953"
             ],
             [
              0.7777777777777778,
              "#fb9f3a"
             ],
             [
              0.8888888888888888,
              "#fdca26"
             ],
             [
              1,
              "#f0f921"
             ]
            ],
            "type": "heatmap"
           }
          ],
          "histogram": [
           {
            "marker": {
             "pattern": {
              "fillmode": "overlay",
              "size": 10,
              "solidity": 0.2
             }
            },
            "type": "histogram"
           }
          ],
          "histogram2d": [
           {
            "colorbar": {
             "outlinewidth": 0,
             "ticks": ""
            },
            "colorscale": [
             [
              0,
              "#0d0887"
             ],
             [
              0.1111111111111111,
              "#46039f"
             ],
             [
              0.2222222222222222,
              "#7201a8"
             ],
             [
              0.3333333333333333,
              "#9c179e"
             ],
             [
              0.4444444444444444,
              "#bd3786"
             ],
             [
              0.5555555555555556,
              "#d8576b"
             ],
             [
              0.6666666666666666,
              "#ed7953"
             ],
             [
              0.7777777777777778,
              "#fb9f3a"
             ],
             [
              0.8888888888888888,
              "#fdca26"
             ],
             [
              1,
              "#f0f921"
             ]
            ],
            "type": "histogram2d"
           }
          ],
          "histogram2dcontour": [
           {
            "colorbar": {
             "outlinewidth": 0,
             "ticks": ""
            },
            "colorscale": [
             [
              0,
              "#0d0887"
             ],
             [
              0.1111111111111111,
              "#46039f"
             ],
             [
              0.2222222222222222,
              "#7201a8"
             ],
             [
              0.3333333333333333,
              "#9c179e"
             ],
             [
              0.4444444444444444,
              "#bd3786"
             ],
             [
              0.5555555555555556,
              "#d8576b"
             ],
             [
              0.6666666666666666,
              "#ed7953"
             ],
             [
              0.7777777777777778,
              "#fb9f3a"
             ],
             [
              0.8888888888888888,
              "#fdca26"
             ],
             [
              1,
              "#f0f921"
             ]
            ],
            "type": "histogram2dcontour"
           }
          ],
          "mesh3d": [
           {
            "colorbar": {
             "outlinewidth": 0,
             "ticks": ""
            },
            "type": "mesh3d"
           }
          ],
          "parcoords": [
           {
            "line": {
             "colorbar": {
              "outlinewidth": 0,
              "ticks": ""
             }
            },
            "type": "parcoords"
           }
          ],
          "pie": [
           {
            "automargin": true,
            "type": "pie"
           }
          ],
          "scatter": [
           {
            "fillpattern": {
             "fillmode": "overlay",
             "size": 10,
             "solidity": 0.2
            },
            "type": "scatter"
           }
          ],
          "scatter3d": [
           {
            "line": {
             "colorbar": {
              "outlinewidth": 0,
              "ticks": ""
             }
            },
            "marker": {
             "colorbar": {
              "outlinewidth": 0,
              "ticks": ""
             }
            },
            "type": "scatter3d"
           }
          ],
          "scattercarpet": [
           {
            "marker": {
             "colorbar": {
              "outlinewidth": 0,
              "ticks": ""
             }
            },
            "type": "scattercarpet"
           }
          ],
          "scattergeo": [
           {
            "marker": {
             "colorbar": {
              "outlinewidth": 0,
              "ticks": ""
             }
            },
            "type": "scattergeo"
           }
          ],
          "scattergl": [
           {
            "marker": {
             "colorbar": {
              "outlinewidth": 0,
              "ticks": ""
             }
            },
            "type": "scattergl"
           }
          ],
          "scattermap": [
           {
            "marker": {
             "colorbar": {
              "outlinewidth": 0,
              "ticks": ""
             }
            },
            "type": "scattermap"
           }
          ],
          "scattermapbox": [
           {
            "marker": {
             "colorbar": {
              "outlinewidth": 0,
              "ticks": ""
             }
            },
            "type": "scattermapbox"
           }
          ],
          "scatterpolar": [
           {
            "marker": {
             "colorbar": {
              "outlinewidth": 0,
              "ticks": ""
             }
            },
            "type": "scatterpolar"
           }
          ],
          "scatterpolargl": [
           {
            "marker": {
             "colorbar": {
              "outlinewidth": 0,
              "ticks": ""
             }
            },
            "type": "scatterpolargl"
           }
          ],
          "scatterternary": [
           {
            "marker": {
             "colorbar": {
              "outlinewidth": 0,
              "ticks": ""
             }
            },
            "type": "scatterternary"
           }
          ],
          "surface": [
           {
            "colorbar": {
             "outlinewidth": 0,
             "ticks": ""
            },
            "colorscale": [
             [
              0,
              "#0d0887"
             ],
             [
              0.1111111111111111,
              "#46039f"
             ],
             [
              0.2222222222222222,
              "#7201a8"
             ],
             [
              0.3333333333333333,
              "#9c179e"
             ],
             [
              0.4444444444444444,
              "#bd3786"
             ],
             [
              0.5555555555555556,
              "#d8576b"
             ],
             [
              0.6666666666666666,
              "#ed7953"
             ],
             [
              0.7777777777777778,
              "#fb9f3a"
             ],
             [
              0.8888888888888888,
              "#fdca26"
             ],
             [
              1,
              "#f0f921"
             ]
            ],
            "type": "surface"
           }
          ],
          "table": [
           {
            "cells": {
             "fill": {
              "color": "#EBF0F8"
             },
             "line": {
              "color": "white"
             }
            },
            "header": {
             "fill": {
              "color": "#C8D4E3"
             },
             "line": {
              "color": "white"
             }
            },
            "type": "table"
           }
          ]
         },
         "layout": {
          "annotationdefaults": {
           "arrowcolor": "#2a3f5f",
           "arrowhead": 0,
           "arrowwidth": 1
          },
          "autotypenumbers": "strict",
          "coloraxis": {
           "colorbar": {
            "outlinewidth": 0,
            "ticks": ""
           }
          },
          "colorscale": {
           "diverging": [
            [
             0,
             "#8e0152"
            ],
            [
             0.1,
             "#c51b7d"
            ],
            [
             0.2,
             "#de77ae"
            ],
            [
             0.3,
             "#f1b6da"
            ],
            [
             0.4,
             "#fde0ef"
            ],
            [
             0.5,
             "#f7f7f7"
            ],
            [
             0.6,
             "#e6f5d0"
            ],
            [
             0.7,
             "#b8e186"
            ],
            [
             0.8,
             "#7fbc41"
            ],
            [
             0.9,
             "#4d9221"
            ],
            [
             1,
             "#276419"
            ]
           ],
           "sequential": [
            [
             0,
             "#0d0887"
            ],
            [
             0.1111111111111111,
             "#46039f"
            ],
            [
             0.2222222222222222,
             "#7201a8"
            ],
            [
             0.3333333333333333,
             "#9c179e"
            ],
            [
             0.4444444444444444,
             "#bd3786"
            ],
            [
             0.5555555555555556,
             "#d8576b"
            ],
            [
             0.6666666666666666,
             "#ed7953"
            ],
            [
             0.7777777777777778,
             "#fb9f3a"
            ],
            [
             0.8888888888888888,
             "#fdca26"
            ],
            [
             1,
             "#f0f921"
            ]
           ],
           "sequentialminus": [
            [
             0,
             "#0d0887"
            ],
            [
             0.1111111111111111,
             "#46039f"
            ],
            [
             0.2222222222222222,
             "#7201a8"
            ],
            [
             0.3333333333333333,
             "#9c179e"
            ],
            [
             0.4444444444444444,
             "#bd3786"
            ],
            [
             0.5555555555555556,
             "#d8576b"
            ],
            [
             0.6666666666666666,
             "#ed7953"
            ],
            [
             0.7777777777777778,
             "#fb9f3a"
            ],
            [
             0.8888888888888888,
             "#fdca26"
            ],
            [
             1,
             "#f0f921"
            ]
           ]
          },
          "colorway": [
           "#636efa",
           "#EF553B",
           "#00cc96",
           "#ab63fa",
           "#FFA15A",
           "#19d3f3",
           "#FF6692",
           "#B6E880",
           "#FF97FF",
           "#FECB52"
          ],
          "font": {
           "color": "#2a3f5f"
          },
          "geo": {
           "bgcolor": "white",
           "lakecolor": "white",
           "landcolor": "#E5ECF6",
           "showlakes": true,
           "showland": true,
           "subunitcolor": "white"
          },
          "hoverlabel": {
           "align": "left"
          },
          "hovermode": "closest",
          "mapbox": {
           "style": "light"
          },
          "paper_bgcolor": "white",
          "plot_bgcolor": "#E5ECF6",
          "polar": {
           "angularaxis": {
            "gridcolor": "white",
            "linecolor": "white",
            "ticks": ""
           },
           "bgcolor": "#E5ECF6",
           "radialaxis": {
            "gridcolor": "white",
            "linecolor": "white",
            "ticks": ""
           }
          },
          "scene": {
           "xaxis": {
            "backgroundcolor": "#E5ECF6",
            "gridcolor": "white",
            "gridwidth": 2,
            "linecolor": "white",
            "showbackground": true,
            "ticks": "",
            "zerolinecolor": "white"
           },
           "yaxis": {
            "backgroundcolor": "#E5ECF6",
            "gridcolor": "white",
            "gridwidth": 2,
            "linecolor": "white",
            "showbackground": true,
            "ticks": "",
            "zerolinecolor": "white"
           },
           "zaxis": {
            "backgroundcolor": "#E5ECF6",
            "gridcolor": "white",
            "gridwidth": 2,
            "linecolor": "white",
            "showbackground": true,
            "ticks": "",
            "zerolinecolor": "white"
           }
          },
          "shapedefaults": {
           "line": {
            "color": "#2a3f5f"
           }
          },
          "ternary": {
           "aaxis": {
            "gridcolor": "white",
            "linecolor": "white",
            "ticks": ""
           },
           "baxis": {
            "gridcolor": "white",
            "linecolor": "white",
            "ticks": ""
           },
           "bgcolor": "#E5ECF6",
           "caxis": {
            "gridcolor": "white",
            "linecolor": "white",
            "ticks": ""
           }
          },
          "title": {
           "x": 0.05
          },
          "xaxis": {
           "automargin": true,
           "gridcolor": "white",
           "linecolor": "white",
           "ticks": "",
           "title": {
            "standoff": 15
           },
           "zerolinecolor": "white",
           "zerolinewidth": 2
          },
          "yaxis": {
           "automargin": true,
           "gridcolor": "white",
           "linecolor": "white",
           "ticks": "",
           "title": {
            "standoff": 15
           },
           "zerolinecolor": "white",
           "zerolinewidth": 2
          }
         }
        },
        "title": {
         "text": "Histogram cen mieszkań w Trójmieście"
        },
        "xaxis": {
         "anchor": "y",
         "domain": [
          0,
          1
         ],
         "title": {
          "text": "price_total_zl_cleaned"
         }
        },
        "yaxis": {
         "anchor": "x",
         "domain": [
          0,
          1
         ],
         "title": {
          "text": "count"
         }
        }
       }
      }
     },
     "metadata": {},
     "output_type": "display_data"
    }
   ],
   "source": [
    "# Sprawdzę, czy są outlier'y dla cen mieszkań\n",
    "px.histogram(df, x='price_total_zl_cleaned', title='Histogram cen mieszkań w Trójmieście', nbins=100)"
   ]
  },
  {
   "cell_type": "code",
   "execution_count": 16,
   "id": "a6f4ffb9",
   "metadata": {},
   "outputs": [
    {
     "data": {
      "application/vnd.plotly.v1+json": {
       "config": {
        "plotlyServerURL": "https://plot.ly"
       },
       "data": [
        {
         "bingroup": "x",
         "hovertemplate": "area_m2=%{x}<br>count=%{y}<extra></extra>",
         "legendgroup": "",
         "marker": {
          "color": "#636efa",
          "pattern": {
           "shape": ""
          }
         },
         "name": "",
         "nbinsx": 50,
         "orientation": "v",
         "showlegend": false,
         "type": "histogram",
         "x": {
          "bdata": "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",
          "dtype": "f8"
         },
         "xaxis": "x",
         "yaxis": "y"
        }
       ],
       "layout": {
        "barmode": "relative",
        "legend": {
         "tracegroupgap": 0
        },
        "template": {
         "data": {
          "bar": [
           {
            "error_x": {
             "color": "#2a3f5f"
            },
            "error_y": {
             "color": "#2a3f5f"
            },
            "marker": {
             "line": {
              "color": "#E5ECF6",
              "width": 0.5
             },
             "pattern": {
              "fillmode": "overlay",
              "size": 10,
              "solidity": 0.2
             }
            },
            "type": "bar"
           }
          ],
          "barpolar": [
           {
            "marker": {
             "line": {
              "color": "#E5ECF6",
              "width": 0.5
             },
             "pattern": {
              "fillmode": "overlay",
              "size": 10,
              "solidity": 0.2
             }
            },
            "type": "barpolar"
           }
          ],
          "carpet": [
           {
            "aaxis": {
             "endlinecolor": "#2a3f5f",
             "gridcolor": "white",
             "linecolor": "white",
             "minorgridcolor": "white",
             "startlinecolor": "#2a3f5f"
            },
            "baxis": {
             "endlinecolor": "#2a3f5f",
             "gridcolor": "white",
             "linecolor": "white",
             "minorgridcolor": "white",
             "startlinecolor": "#2a3f5f"
            },
            "type": "carpet"
           }
          ],
          "choropleth": [
           {
            "colorbar": {
             "outlinewidth": 0,
             "ticks": ""
            },
            "type": "choropleth"
           }
          ],
          "contour": [
           {
            "colorbar": {
             "outlinewidth": 0,
             "ticks": ""
            },
            "colorscale": [
             [
              0,
              "#0d0887"
             ],
             [
              0.1111111111111111,
              "#46039f"
             ],
             [
              0.2222222222222222,
              "#7201a8"
             ],
             [
              0.3333333333333333,
              "#9c179e"
             ],
             [
              0.4444444444444444,
              "#bd3786"
             ],
             [
              0.5555555555555556,
              "#d8576b"
             ],
             [
              0.6666666666666666,
              "#ed7953"
             ],
             [
              0.7777777777777778,
              "#fb9f3a"
             ],
             [
              0.8888888888888888,
              "#fdca26"
             ],
             [
              1,
              "#f0f921"
             ]
            ],
            "type": "contour"
           }
          ],
          "contourcarpet": [
           {
            "colorbar": {
             "outlinewidth": 0,
             "ticks": ""
            },
            "type": "contourcarpet"
           }
          ],
          "heatmap": [
           {
            "colorbar": {
             "outlinewidth": 0,
             "ticks": ""
            },
            "colorscale": [
             [
              0,
              "#0d0887"
             ],
             [
              0.1111111111111111,
              "#46039f"
             ],
             [
              0.2222222222222222,
              "#7201a8"
             ],
             [
              0.3333333333333333,
              "#9c179e"
             ],
             [
              0.4444444444444444,
              "#bd3786"
             ],
             [
              0.5555555555555556,
              "#d8576b"
             ],
             [
              0.6666666666666666,
              "#ed7953"
             ],
             [
              0.7777777777777778,
              "#fb9f3a"
             ],
             [
              0.8888888888888888,
              "#fdca26"
             ],
             [
              1,
              "#f0f921"
             ]
            ],
            "type": "heatmap"
           }
          ],
          "histogram": [
           {
            "marker": {
             "pattern": {
              "fillmode": "overlay",
              "size": 10,
              "solidity": 0.2
             }
            },
            "type": "histogram"
           }
          ],
          "histogram2d": [
           {
            "colorbar": {
             "outlinewidth": 0,
             "ticks": ""
            },
            "colorscale": [
             [
              0,
              "#0d0887"
             ],
             [
              0.1111111111111111,
              "#46039f"
             ],
             [
              0.2222222222222222,
              "#7201a8"
             ],
             [
              0.3333333333333333,
              "#9c179e"
             ],
             [
              0.4444444444444444,
              "#bd3786"
             ],
             [
              0.5555555555555556,
              "#d8576b"
             ],
             [
              0.6666666666666666,
              "#ed7953"
             ],
             [
              0.7777777777777778,
              "#fb9f3a"
             ],
             [
              0.8888888888888888,
              "#fdca26"
             ],
             [
              1,
              "#f0f921"
             ]
            ],
            "type": "histogram2d"
           }
          ],
          "histogram2dcontour": [
           {
            "colorbar": {
             "outlinewidth": 0,
             "ticks": ""
            },
            "colorscale": [
             [
              0,
              "#0d0887"
             ],
             [
              0.1111111111111111,
              "#46039f"
             ],
             [
              0.2222222222222222,
              "#7201a8"
             ],
             [
              0.3333333333333333,
              "#9c179e"
             ],
             [
              0.4444444444444444,
              "#bd3786"
             ],
             [
              0.5555555555555556,
              "#d8576b"
             ],
             [
              0.6666666666666666,
              "#ed7953"
             ],
             [
              0.7777777777777778,
              "#fb9f3a"
             ],
             [
              0.8888888888888888,
              "#fdca26"
             ],
             [
              1,
              "#f0f921"
             ]
            ],
            "type": "histogram2dcontour"
           }
          ],
          "mesh3d": [
           {
            "colorbar": {
             "outlinewidth": 0,
             "ticks": ""
            },
            "type": "mesh3d"
           }
          ],
          "parcoords": [
           {
            "line": {
             "colorbar": {
              "outlinewidth": 0,
              "ticks": ""
             }
            },
            "type": "parcoords"
           }
          ],
          "pie": [
           {
            "automargin": true,
            "type": "pie"
           }
          ],
          "scatter": [
           {
            "fillpattern": {
             "fillmode": "overlay",
             "size": 10,
             "solidity": 0.2
            },
            "type": "scatter"
           }
          ],
          "scatter3d": [
           {
            "line": {
             "colorbar": {
              "outlinewidth": 0,
              "ticks": ""
             }
            },
            "marker": {
             "colorbar": {
              "outlinewidth": 0,
              "ticks": ""
             }
            },
            "type": "scatter3d"
           }
          ],
          "scattercarpet": [
           {
            "marker": {
             "colorbar": {
              "outlinewidth": 0,
              "ticks": ""
             }
            },
            "type": "scattercarpet"
           }
          ],
          "scattergeo": [
           {
            "marker": {
             "colorbar": {
              "outlinewidth": 0,
              "ticks": ""
             }
            },
            "type": "scattergeo"
           }
          ],
          "scattergl": [
           {
            "marker": {
             "colorbar": {
              "outlinewidth": 0,
              "ticks": ""
             }
            },
            "type": "scattergl"
           }
          ],
          "scattermap": [
           {
            "marker": {
             "colorbar": {
              "outlinewidth": 0,
              "ticks": ""
             }
            },
            "type": "scattermap"
           }
          ],
          "scattermapbox": [
           {
            "marker": {
             "colorbar": {
              "outlinewidth": 0,
              "ticks": ""
             }
            },
            "type": "scattermapbox"
           }
          ],
          "scatterpolar": [
           {
            "marker": {
             "colorbar": {
              "outlinewidth": 0,
              "ticks": ""
             }
            },
            "type": "scatterpolar"
           }
          ],
          "scatterpolargl": [
           {
            "marker": {
             "colorbar": {
              "outlinewidth": 0,
              "ticks": ""
             }
            },
            "type": "scatterpolargl"
           }
          ],
          "scatterternary": [
           {
            "marker": {
             "colorbar": {
              "outlinewidth": 0,
              "ticks": ""
             }
            },
            "type": "scatterternary"
           }
          ],
          "surface": [
           {
            "colorbar": {
             "outlinewidth": 0,
             "ticks": ""
            },
            "colorscale": [
             [
              0,
              "#0d0887"
             ],
             [
              0.1111111111111111,
              "#46039f"
             ],
             [
              0.2222222222222222,
              "#7201a8"
             ],
             [
              0.3333333333333333,
              "#9c179e"
             ],
             [
              0.4444444444444444,
              "#bd3786"
             ],
             [
              0.5555555555555556,
              "#d8576b"
             ],
             [
              0.6666666666666666,
              "#ed7953"
             ],
             [
              0.7777777777777778,
              "#fb9f3a"
             ],
             [
              0.8888888888888888,
              "#fdca26"
             ],
             [
              1,
              "#f0f921"
             ]
            ],
            "type": "surface"
           }
          ],
          "table": [
           {
            "cells": {
             "fill": {
              "color": "#EBF0F8"
             },
             "line": {
              "color": "white"
             }
            },
            "header": {
             "fill": {
              "color": "#C8D4E3"
             },
             "line": {
              "color": "white"
             }
            },
            "type": "table"
           }
          ]
         },
         "layout": {
          "annotationdefaults": {
           "arrowcolor": "#2a3f5f",
           "arrowhead": 0,
           "arrowwidth": 1
          },
          "autotypenumbers": "strict",
          "coloraxis": {
           "colorbar": {
            "outlinewidth": 0,
            "ticks": ""
           }
          },
          "colorscale": {
           "diverging": [
            [
             0,
             "#8e0152"
            ],
            [
             0.1,
             "#c51b7d"
            ],
            [
             0.2,
             "#de77ae"
            ],
            [
             0.3,
             "#f1b6da"
            ],
            [
             0.4,
             "#fde0ef"
            ],
            [
             0.5,
             "#f7f7f7"
            ],
            [
             0.6,
             "#e6f5d0"
            ],
            [
             0.7,
             "#b8e186"
            ],
            [
             0.8,
             "#7fbc41"
            ],
            [
             0.9,
             "#4d9221"
            ],
            [
             1,
             "#276419"
            ]
           ],
           "sequential": [
            [
             0,
             "#0d0887"
            ],
            [
             0.1111111111111111,
             "#46039f"
            ],
            [
             0.2222222222222222,
             "#7201a8"
            ],
            [
             0.3333333333333333,
             "#9c179e"
            ],
            [
             0.4444444444444444,
             "#bd3786"
            ],
            [
             0.5555555555555556,
             "#d8576b"
            ],
            [
             0.6666666666666666,
             "#ed7953"
            ],
            [
             0.7777777777777778,
             "#fb9f3a"
            ],
            [
             0.8888888888888888,
             "#fdca26"
            ],
            [
             1,
             "#f0f921"
            ]
           ],
           "sequentialminus": [
            [
             0,
             "#0d0887"
            ],
            [
             0.1111111111111111,
             "#46039f"
            ],
            [
             0.2222222222222222,
             "#7201a8"
            ],
            [
             0.3333333333333333,
             "#9c179e"
            ],
            [
             0.4444444444444444,
             "#bd3786"
            ],
            [
             0.5555555555555556,
             "#d8576b"
            ],
            [
             0.6666666666666666,
             "#ed7953"
            ],
            [
             0.7777777777777778,
             "#fb9f3a"
            ],
            [
             0.8888888888888888,
             "#fdca26"
            ],
            [
             1,
             "#f0f921"
            ]
           ]
          },
          "colorway": [
           "#636efa",
           "#EF553B",
           "#00cc96",
           "#ab63fa",
           "#FFA15A",
           "#19d3f3",
           "#FF6692",
           "#B6E880",
           "#FF97FF",
           "#FECB52"
          ],
          "font": {
           "color": "#2a3f5f"
          },
          "geo": {
           "bgcolor": "white",
           "lakecolor": "white",
           "landcolor": "#E5ECF6",
           "showlakes": true,
           "showland": true,
           "subunitcolor": "white"
          },
          "hoverlabel": {
           "align": "left"
          },
          "hovermode": "closest",
          "mapbox": {
           "style": "light"
          },
          "paper_bgcolor": "white",
          "plot_bgcolor": "#E5ECF6",
          "polar": {
           "angularaxis": {
            "gridcolor": "white",
            "linecolor": "white",
            "ticks": ""
           },
           "bgcolor": "#E5ECF6",
           "radialaxis": {
            "gridcolor": "white",
            "linecolor": "white",
            "ticks": ""
           }
          },
          "scene": {
           "xaxis": {
            "backgroundcolor": "#E5ECF6",
            "gridcolor": "white",
            "gridwidth": 2,
            "linecolor": "white",
            "showbackground": true,
            "ticks": "",
            "zerolinecolor": "white"
           },
           "yaxis": {
            "backgroundcolor": "#E5ECF6",
            "gridcolor": "white",
            "gridwidth": 2,
            "linecolor": "white",
            "showbackground": true,
            "ticks": "",
            "zerolinecolor": "white"
           },
           "zaxis": {
            "backgroundcolor": "#E5ECF6",
            "gridcolor": "white",
            "gridwidth": 2,
            "linecolor": "white",
            "showbackground": true,
            "ticks": "",
            "zerolinecolor": "white"
           }
          },
          "shapedefaults": {
           "line": {
            "color": "#2a3f5f"
           }
          },
          "ternary": {
           "aaxis": {
            "gridcolor": "white",
            "linecolor": "white",
            "ticks": ""
           },
           "baxis": {
            "gridcolor": "white",
            "linecolor": "white",
            "ticks": ""
           },
           "bgcolor": "#E5ECF6",
           "caxis": {
            "gridcolor": "white",
            "linecolor": "white",
            "ticks": ""
           }
          },
          "title": {
           "x": 0.05
          },
          "xaxis": {
           "automargin": true,
           "gridcolor": "white",
           "linecolor": "white",
           "ticks": "",
           "title": {
            "standoff": 15
           },
           "zerolinecolor": "white",
           "zerolinewidth": 2
          },
          "yaxis": {
           "automargin": true,
           "gridcolor": "white",
           "linecolor": "white",
           "ticks": "",
           "title": {
            "standoff": 15
           },
           "zerolinecolor": "white",
           "zerolinewidth": 2
          }
         }
        },
        "title": {
         "text": "Histogram metrażu mieszkań w Trójmieście (po usunięciu outlierów)"
        },
        "xaxis": {
         "anchor": "y",
         "domain": [
          0,
          1
         ],
         "title": {
          "text": "area_m2"
         }
        },
        "yaxis": {
         "anchor": "x",
         "domain": [
          0,
          1
         ],
         "title": {
          "text": "count"
         }
        }
       }
      }
     },
     "metadata": {},
     "output_type": "display_data"
    }
   ],
   "source": [
    "# Usuwam dwa mieszkania outlier'y powyej 160 m2 i powyej 3,5 mn zł ponawiam wykresy\n",
    "df_filtered = df[(df['area_m2'] <= 160) & (df['price_total_zl_cleaned'] <= 3_500_000)]\n",
    "px.histogram(df_filtered, x='area_m2', title='Histogram metrażu mieszkań w Trójmieście (po usunięciu outlierów)', nbins=50)"
   ]
  },
  {
   "cell_type": "code",
   "execution_count": 17,
   "id": "40432c51",
   "metadata": {},
   "outputs": [
    {
     "data": {
      "application/vnd.plotly.v1+json": {
       "config": {
        "plotlyServerURL": "https://plot.ly"
       },
       "data": [
        {
         "bingroup": "x",
         "hovertemplate": "price_total_zl_cleaned=%{x}<br>count=%{y}<extra></extra>",
         "legendgroup": "",
         "marker": {
          "color": "#636efa",
          "pattern": {
           "shape": ""
          }
         },
         "name": "",
         "nbinsx": 100,
         "orientation": "v",
         "showlegend": false,
         "type": "histogram",
         "x": {
          "bdata": "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",
          "dtype": "f8"
         },
         "xaxis": "x",
         "yaxis": "y"
        }
       ],
       "layout": {
        "barmode": "relative",
        "legend": {
         "tracegroupgap": 0
        },
        "template": {
         "data": {
          "bar": [
           {
            "error_x": {
             "color": "#2a3f5f"
            },
            "error_y": {
             "color": "#2a3f5f"
            },
            "marker": {
             "line": {
              "color": "#E5ECF6",
              "width": 0.5
             },
             "pattern": {
              "fillmode": "overlay",
              "size": 10,
              "solidity": 0.2
             }
            },
            "type": "bar"
           }
          ],
          "barpolar": [
           {
            "marker": {
             "line": {
              "color": "#E5ECF6",
              "width": 0.5
             },
             "pattern": {
              "fillmode": "overlay",
              "size": 10,
              "solidity": 0.2
             }
            },
            "type": "barpolar"
           }
          ],
          "carpet": [
           {
            "aaxis": {
             "endlinecolor": "#2a3f5f",
             "gridcolor": "white",
             "linecolor": "white",
             "minorgridcolor": "white",
             "startlinecolor": "#2a3f5f"
            },
            "baxis": {
             "endlinecolor": "#2a3f5f",
             "gridcolor": "white",
             "linecolor": "white",
             "minorgridcolor": "white",
             "startlinecolor": "#2a3f5f"
            },
            "type": "carpet"
           }
          ],
          "choropleth": [
           {
            "colorbar": {
             "outlinewidth": 0,
             "ticks": ""
            },
            "type": "choropleth"
           }
          ],
          "contour": [
           {
            "colorbar": {
             "outlinewidth": 0,
             "ticks": ""
            },
            "colorscale": [
             [
              0,
              "#0d0887"
             ],
             [
              0.1111111111111111,
              "#46039f"
             ],
             [
              0.2222222222222222,
              "#7201a8"
             ],
             [
              0.3333333333333333,
              "#9c179e"
             ],
             [
              0.4444444444444444,
              "#bd3786"
             ],
             [
              0.5555555555555556,
              "#d8576b"
             ],
             [
              0.6666666666666666,
              "#ed7953"
             ],
             [
              0.7777777777777778,
              "#fb9f3a"
             ],
             [
              0.8888888888888888,
              "#fdca26"
             ],
             [
              1,
              "#f0f921"
             ]
            ],
            "type": "contour"
           }
          ],
          "contourcarpet": [
           {
            "colorbar": {
             "outlinewidth": 0,
             "ticks": ""
            },
            "type": "contourcarpet"
           }
          ],
          "heatmap": [
           {
            "colorbar": {
             "outlinewidth": 0,
             "ticks": ""
            },
            "colorscale": [
             [
              0,
              "#0d0887"
             ],
             [
              0.1111111111111111,
              "#46039f"
             ],
             [
              0.2222222222222222,
              "#7201a8"
             ],
             [
              0.3333333333333333,
              "#9c179e"
             ],
             [
              0.4444444444444444,
              "#bd3786"
             ],
             [
              0.5555555555555556,
              "#d8576b"
             ],
             [
              0.6666666666666666,
              "#ed7953"
             ],
             [
              0.7777777777777778,
              "#fb9f3a"
             ],
             [
              0.8888888888888888,
              "#fdca26"
             ],
             [
              1,
              "#f0f921"
             ]
            ],
            "type": "heatmap"
           }
          ],
          "histogram": [
           {
            "marker": {
             "pattern": {
              "fillmode": "overlay",
              "size": 10,
              "solidity": 0.2
             }
            },
            "type": "histogram"
           }
          ],
          "histogram2d": [
           {
            "colorbar": {
             "outlinewidth": 0,
             "ticks": ""
            },
            "colorscale": [
             [
              0,
              "#0d0887"
             ],
             [
              0.1111111111111111,
              "#46039f"
             ],
             [
              0.2222222222222222,
              "#7201a8"
             ],
             [
              0.3333333333333333,
              "#9c179e"
             ],
             [
              0.4444444444444444,
              "#bd3786"
             ],
             [
              0.5555555555555556,
              "#d8576b"
             ],
             [
              0.6666666666666666,
              "#ed7953"
             ],
             [
              0.7777777777777778,
              "#fb9f3a"
             ],
             [
              0.8888888888888888,
              "#fdca26"
             ],
             [
              1,
              "#f0f921"
             ]
            ],
            "type": "histogram2d"
           }
          ],
          "histogram2dcontour": [
           {
            "colorbar": {
             "outlinewidth": 0,
             "ticks": ""
            },
            "colorscale": [
             [
              0,
              "#0d0887"
             ],
             [
              0.1111111111111111,
              "#46039f"
             ],
             [
              0.2222222222222222,
              "#7201a8"
             ],
             [
              0.3333333333333333,
              "#9c179e"
             ],
             [
              0.4444444444444444,
              "#bd3786"
             ],
             [
              0.5555555555555556,
              "#d8576b"
             ],
             [
              0.6666666666666666,
              "#ed7953"
             ],
             [
              0.7777777777777778,
              "#fb9f3a"
             ],
             [
              0.8888888888888888,
              "#fdca26"
             ],
             [
              1,
              "#f0f921"
             ]
            ],
            "type": "histogram2dcontour"
           }
          ],
          "mesh3d": [
           {
            "colorbar": {
             "outlinewidth": 0,
             "ticks": ""
            },
            "type": "mesh3d"
           }
          ],
          "parcoords": [
           {
            "line": {
             "colorbar": {
              "outlinewidth": 0,
              "ticks": ""
             }
            },
            "type": "parcoords"
           }
          ],
          "pie": [
           {
            "automargin": true,
            "type": "pie"
           }
          ],
          "scatter": [
           {
            "fillpattern": {
             "fillmode": "overlay",
             "size": 10,
             "solidity": 0.2
            },
            "type": "scatter"
           }
          ],
          "scatter3d": [
           {
            "line": {
             "colorbar": {
              "outlinewidth": 0,
              "ticks": ""
             }
            },
            "marker": {
             "colorbar": {
              "outlinewidth": 0,
              "ticks": ""
             }
            },
            "type": "scatter3d"
           }
          ],
          "scattercarpet": [
           {
            "marker": {
             "colorbar": {
              "outlinewidth": 0,
              "ticks": ""
             }
            },
            "type": "scattercarpet"
           }
          ],
          "scattergeo": [
           {
            "marker": {
             "colorbar": {
              "outlinewidth": 0,
              "ticks": ""
             }
            },
            "type": "scattergeo"
           }
          ],
          "scattergl": [
           {
            "marker": {
             "colorbar": {
              "outlinewidth": 0,
              "ticks": ""
             }
            },
            "type": "scattergl"
           }
          ],
          "scattermap": [
           {
            "marker": {
             "colorbar": {
              "outlinewidth": 0,
              "ticks": ""
             }
            },
            "type": "scattermap"
           }
          ],
          "scattermapbox": [
           {
            "marker": {
             "colorbar": {
              "outlinewidth": 0,
              "ticks": ""
             }
            },
            "type": "scattermapbox"
           }
          ],
          "scatterpolar": [
           {
            "marker": {
             "colorbar": {
              "outlinewidth": 0,
              "ticks": ""
             }
            },
            "type": "scatterpolar"
           }
          ],
          "scatterpolargl": [
           {
            "marker": {
             "colorbar": {
              "outlinewidth": 0,
              "ticks": ""
             }
            },
            "type": "scatterpolargl"
           }
          ],
          "scatterternary": [
           {
            "marker": {
             "colorbar": {
              "outlinewidth": 0,
              "ticks": ""
             }
            },
            "type": "scatterternary"
           }
          ],
          "surface": [
           {
            "colorbar": {
             "outlinewidth": 0,
             "ticks": ""
            },
            "colorscale": [
             [
              0,
              "#0d0887"
             ],
             [
              0.1111111111111111,
              "#46039f"
             ],
             [
              0.2222222222222222,
              "#7201a8"
             ],
             [
              0.3333333333333333,
              "#9c179e"
             ],
             [
              0.4444444444444444,
              "#bd3786"
             ],
             [
              0.5555555555555556,
              "#d8576b"
             ],
             [
              0.6666666666666666,
              "#ed7953"
             ],
             [
              0.7777777777777778,
              "#fb9f3a"
             ],
             [
              0.8888888888888888,
              "#fdca26"
             ],
             [
              1,
              "#f0f921"
             ]
            ],
            "type": "surface"
           }
          ],
          "table": [
           {
            "cells": {
             "fill": {
              "color": "#EBF0F8"
             },
             "line": {
              "color": "white"
             }
            },
            "header": {
             "fill": {
              "color": "#C8D4E3"
             },
             "line": {
              "color": "white"
             }
            },
            "type": "table"
           }
          ]
         },
         "layout": {
          "annotationdefaults": {
           "arrowcolor": "#2a3f5f",
           "arrowhead": 0,
           "arrowwidth": 1
          },
          "autotypenumbers": "strict",
          "coloraxis": {
           "colorbar": {
            "outlinewidth": 0,
            "ticks": ""
           }
          },
          "colorscale": {
           "diverging": [
            [
             0,
             "#8e0152"
            ],
            [
             0.1,
             "#c51b7d"
            ],
            [
             0.2,
             "#de77ae"
            ],
            [
             0.3,
             "#f1b6da"
            ],
            [
             0.4,
             "#fde0ef"
            ],
            [
             0.5,
             "#f7f7f7"
            ],
            [
             0.6,
             "#e6f5d0"
            ],
            [
             0.7,
             "#b8e186"
            ],
            [
             0.8,
             "#7fbc41"
            ],
            [
             0.9,
             "#4d9221"
            ],
            [
             1,
             "#276419"
            ]
           ],
           "sequential": [
            [
             0,
             "#0d0887"
            ],
            [
             0.1111111111111111,
             "#46039f"
            ],
            [
             0.2222222222222222,
             "#7201a8"
            ],
            [
             0.3333333333333333,
             "#9c179e"
            ],
            [
             0.4444444444444444,
             "#bd3786"
            ],
            [
             0.5555555555555556,
             "#d8576b"
            ],
            [
             0.6666666666666666,
             "#ed7953"
            ],
            [
             0.7777777777777778,
             "#fb9f3a"
            ],
            [
             0.8888888888888888,
             "#fdca26"
            ],
            [
             1,
             "#f0f921"
            ]
           ],
           "sequentialminus": [
            [
             0,
             "#0d0887"
            ],
            [
             0.1111111111111111,
             "#46039f"
            ],
            [
             0.2222222222222222,
             "#7201a8"
            ],
            [
             0.3333333333333333,
             "#9c179e"
            ],
            [
             0.4444444444444444,
             "#bd3786"
            ],
            [
             0.5555555555555556,
             "#d8576b"
            ],
            [
             0.6666666666666666,
             "#ed7953"
            ],
            [
             0.7777777777777778,
             "#fb9f3a"
            ],
            [
             0.8888888888888888,
             "#fdca26"
            ],
            [
             1,
             "#f0f921"
            ]
           ]
          },
          "colorway": [
           "#636efa",
           "#EF553B",
           "#00cc96",
           "#ab63fa",
           "#FFA15A",
           "#19d3f3",
           "#FF6692",
           "#B6E880",
           "#FF97FF",
           "#FECB52"
          ],
          "font": {
           "color": "#2a3f5f"
          },
          "geo": {
           "bgcolor": "white",
           "lakecolor": "white",
           "landcolor": "#E5ECF6",
           "showlakes": true,
           "showland": true,
           "subunitcolor": "white"
          },
          "hoverlabel": {
           "align": "left"
          },
          "hovermode": "closest",
          "mapbox": {
           "style": "light"
          },
          "paper_bgcolor": "white",
          "plot_bgcolor": "#E5ECF6",
          "polar": {
           "angularaxis": {
            "gridcolor": "white",
            "linecolor": "white",
            "ticks": ""
           },
           "bgcolor": "#E5ECF6",
           "radialaxis": {
            "gridcolor": "white",
            "linecolor": "white",
            "ticks": ""
           }
          },
          "scene": {
           "xaxis": {
            "backgroundcolor": "#E5ECF6",
            "gridcolor": "white",
            "gridwidth": 2,
            "linecolor": "white",
            "showbackground": true,
            "ticks": "",
            "zerolinecolor": "white"
           },
           "yaxis": {
            "backgroundcolor": "#E5ECF6",
            "gridcolor": "white",
            "gridwidth": 2,
            "linecolor": "white",
            "showbackground": true,
            "ticks": "",
            "zerolinecolor": "white"
           },
           "zaxis": {
            "backgroundcolor": "#E5ECF6",
            "gridcolor": "white",
            "gridwidth": 2,
            "linecolor": "white",
            "showbackground": true,
            "ticks": "",
            "zerolinecolor": "white"
           }
          },
          "shapedefaults": {
           "line": {
            "color": "#2a3f5f"
           }
          },
          "ternary": {
           "aaxis": {
            "gridcolor": "white",
            "linecolor": "white",
            "ticks": ""
           },
           "baxis": {
            "gridcolor": "white",
            "linecolor": "white",
            "ticks": ""
           },
           "bgcolor": "#E5ECF6",
           "caxis": {
            "gridcolor": "white",
            "linecolor": "white",
            "ticks": ""
           }
          },
          "title": {
           "x": 0.05
          },
          "xaxis": {
           "automargin": true,
           "gridcolor": "white",
           "linecolor": "white",
           "ticks": "",
           "title": {
            "standoff": 15
           },
           "zerolinecolor": "white",
           "zerolinewidth": 2
          },
          "yaxis": {
           "automargin": true,
           "gridcolor": "white",
           "linecolor": "white",
           "ticks": "",
           "title": {
            "standoff": 15
           },
           "zerolinecolor": "white",
           "zerolinewidth": 2
          }
         }
        },
        "title": {
         "text": "Histogram cen mieszkań w Trójmieście (po usunięciu outlierów)"
        },
        "xaxis": {
         "anchor": "y",
         "domain": [
          0,
          1
         ],
         "title": {
          "text": "price_total_zl_cleaned"
         }
        },
        "yaxis": {
         "anchor": "x",
         "domain": [
          0,
          1
         ],
         "title": {
          "text": "count"
         }
        }
       }
      }
     },
     "metadata": {},
     "output_type": "display_data"
    }
   ],
   "source": [
    "px.histogram(df_filtered, x='price_total_zl_cleaned', title='Histogram cen mieszkań w Trójmieście (po usunięciu outlierów)', nbins=100)"
   ]
  },
  {
   "cell_type": "code",
   "execution_count": 18,
   "id": "c0757f23",
   "metadata": {},
   "outputs": [
    {
     "data": {
      "application/vnd.plotly.v1+json": {
       "config": {
        "plotlyServerURL": "https://plot.ly"
       },
       "data": [
        {
         "alignmentgroup": "True",
         "customdata": [
          [
           "Gdańsk"
          ],
          [
           "Gdynia"
          ],
          [
           "Gdańsk"
          ],
          [
           "Gdańsk"
          ],
          [
           "Gdańsk"
          ],
          [
           "Gdynia"
          ],
          [
           "Gdańsk"
          ],
          [
           "Gdynia"
          ],
          [
           "Gdańsk"
          ],
          [
           "Gdańsk"
          ],
          [
           "Gdańsk"
          ],
          [
           "Gdańsk"
          ],
          [
           "Gdańsk"
          ],
          [
           "Gdańsk"
          ],
          [
           "Gdańsk"
          ],
          [
           "Gdańsk"
          ],
          [
           "Sopot"
          ],
          [
           "Gdynia"
          ],
          [
           "Gdynia"
          ],
          [
           "Gdynia"
          ],
          [
           "Gdynia"
          ],
          [
           "Sopot"
          ],
          [
           "Gdańsk"
          ],
          [
           "Gdańsk"
          ],
          [
           "Gdańsk"
          ],
          [
           "Gdańsk"
          ],
          [
           "Gdynia"
          ],
          [
           "Gdynia"
          ],
          [
           "Gdańsk"
          ],
          [
           "Gdynia"
          ],
          [
           "Gdańsk"
          ],
          [
           "Gdańsk"
          ],
          [
           "Gdańsk"
          ],
          [
           "Gdańsk"
          ],
          [
           "Gdynia"
          ],
          [
           "Gdynia"
          ],
          [
           "Gdańsk"
          ],
          [
           "Gdańsk"
          ],
          [
           "Gdynia"
          ],
          [
           "Gdańsk"
          ],
          [
           "Gdańsk"
          ],
          [
           "Gdańsk"
          ],
          [
           "Gdańsk"
          ],
          [
           "Gdańsk"
          ],
          [
           "Gdańsk"
          ],
          [
           "Gdynia"
          ],
          [
           "Gdańsk"
          ],
          [
           "Gdańsk"
          ],
          [
           "Gdańsk"
          ],
          [
           "Gdynia"
          ],
          [
           "Gdańsk"
          ],
          [
           "Gdańsk"
          ],
          [
           "Gdańsk"
          ],
          [
           "Gdynia"
          ],
          [
           "Sopot"
          ],
          [
           "Gdańsk"
          ],
          [
           "Gdynia"
          ],
          [
           "Gdańsk"
          ],
          [
           "Gdańsk"
          ],
          [
           "Gdańsk"
          ],
          [
           "Gdynia"
          ],
          [
           "Gdynia"
          ],
          [
           "Gdańsk"
          ],
          [
           "Gdańsk"
          ],
          [
           "Gdynia"
          ],
          [
           "Sopot"
          ],
          [
           "Gdańsk"
          ],
          [
           "Gdańsk"
          ],
          [
           "Gdańsk"
          ],
          [
           "Gdańsk"
          ],
          [
           "Gdańsk"
          ],
          [
           "Gdańsk"
          ],
          [
           "Gdynia"
          ],
          [
           "Sopot"
          ],
          [
           "Gdańsk"
          ],
          [
           "Gdańsk"
          ],
          [
           "Gdańsk"
          ],
          [
           "Gdynia"
          ],
          [
           "Gdańsk"
          ],
          [
           "Gdańsk"
          ],
          [
           "Gdańsk"
          ],
          [
           "Sopot"
          ],
          [
           "Gdańsk"
          ],
          [
           "Sopot"
          ],
          [
           "Gdańsk"
          ],
          [
           "Gdańsk"
          ],
          [
           "Gdynia"
          ],
          [
           "Sopot"
          ],
          [
           "Gdańsk"
          ],
          [
           "Gdynia"
          ],
          [
           "Gdańsk"
          ],
          [
           "Gdańsk"
          ],
          [
           "Gdynia"
          ],
          [
           "Gdynia"
          ],
          [
           "Gdynia"
          ],
          [
           "Gdańsk"
          ],
          [
           "Gdańsk"
          ],
          [
           "Gdańsk"
          ],
          [
           "Gdynia"
          ],
          [
           "Gdynia"
          ],
          [
           "Gdańsk"
          ],
          [
           "Gdańsk"
          ],
          [
           "Gdańsk"
          ],
          [
           "Gdańsk"
          ],
          [
           "Gdańsk"
          ],
          [
           "Gdynia"
          ],
          [
           "Gdynia"
          ],
          [
           "Gdańsk"
          ],
          [
           "Gdańsk"
          ],
          [
           "Gdynia"
          ],
          [
           "Gdańsk"
          ],
          [
           "Gdańsk"
          ],
          [
           "Gdynia"
          ],
          [
           "Gdańsk"
          ],
          [
           "Gdańsk"
          ],
          [
           "Gdynia"
          ],
          [
           "Gdańsk"
          ],
          [
           "Gdynia"
          ],
          [
           "Gdańsk"
          ],
          [
           "Gdańsk"
          ],
          [
           "Gdynia"
          ],
          [
           "Gdańsk"
          ],
          [
           "Gdańsk"
          ],
          [
           "Gdańsk"
          ],
          [
           "Gdańsk"
          ],
          [
           "Gdańsk"
          ],
          [
           "Sopot"
          ],
          [
           "Gdynia"
          ],
          [
           "Gdańsk"
          ],
          [
           "Gdańsk"
          ],
          [
           "Gdynia"
          ],
          [
           "Gdańsk"
          ],
          [
           "Gdańsk"
          ],
          [
           "Gdańsk"
          ],
          [
           "Gdańsk"
          ],
          [
           "Gdańsk"
          ],
          [
           "Gdynia"
          ],
          [
           "Gdańsk"
          ],
          [
           "Gdańsk"
          ],
          [
           "Gdynia"
          ],
          [
           "Gdynia"
          ],
          [
           "Gdańsk"
          ],
          [
           "Gdańsk"
          ],
          [
           "Sopot"
          ],
          [
           "Gdańsk"
          ],
          [
           "Gdańsk"
          ],
          [
           "Gdańsk"
          ],
          [
           "Gdynia"
          ],
          [
           "Gdańsk"
          ],
          [
           "Gdynia"
          ],
          [
           "Gdańsk"
          ],
          [
           "Gdynia"
          ],
          [
           "Gdynia"
          ],
          [
           "Gdańsk"
          ],
          [
           "Gdańsk"
          ],
          [
           "Gdańsk"
          ],
          [
           "Gdańsk"
          ],
          [
           "Gdańsk"
          ],
          [
           "Gdańsk"
          ],
          [
           "Gdynia"
          ],
          [
           "Gdańsk"
          ],
          [
           "Gdańsk"
          ],
          [
           "Gdańsk"
          ],
          [
           "Gdynia"
          ],
          [
           "Gdańsk"
          ],
          [
           "Gdynia"
          ],
          [
           "Gdańsk"
          ],
          [
           "Gdańsk"
          ],
          [
           "Gdynia"
          ],
          [
           "Sopot"
          ],
          [
           "Gdańsk"
          ],
          [
           "Gdynia"
          ],
          [
           "Gdańsk"
          ],
          [
           "Gdańsk"
          ],
          [
           "Gdynia"
          ],
          [
           "Gdynia"
          ],
          [
           "Gdańsk"
          ],
          [
           "Gdańsk"
          ],
          [
           "Sopot"
          ],
          [
           "Gdynia"
          ],
          [
           "Gdańsk"
          ],
          [
           "Gdańsk"
          ],
          [
           "Gdynia"
          ],
          [
           "Gdańsk"
          ],
          [
           "Gdańsk"
          ],
          [
           "Gdynia"
          ],
          [
           "Gdańsk"
          ],
          [
           "Gdańsk"
          ],
          [
           "Gdańsk"
          ],
          [
           "Gdynia"
          ],
          [
           "Gdańsk"
          ],
          [
           "Gdynia"
          ],
          [
           "Gdynia"
          ],
          [
           "Gdańsk"
          ],
          [
           "Sopot"
          ],
          [
           "Gdynia"
          ],
          [
           "Gdynia"
          ],
          [
           "Gdańsk"
          ],
          [
           "Gdańsk"
          ],
          [
           "Gdańsk"
          ],
          [
           "Gdańsk"
          ],
          [
           "Gdańsk"
          ],
          [
           "Sopot"
          ],
          [
           "Gdańsk"
          ],
          [
           "Gdańsk"
          ],
          [
           "Gdańsk"
          ],
          [
           "Gdańsk"
          ],
          [
           "Gdańsk"
          ],
          [
           "Gdynia"
          ],
          [
           "Gdańsk"
          ],
          [
           "Gdańsk"
          ],
          [
           "Gdynia"
          ],
          [
           "Gdańsk"
          ],
          [
           "Gdańsk"
          ],
          [
           "Gdańsk"
          ],
          [
           "Gdańsk"
          ],
          [
           "Gdańsk"
          ],
          [
           "Gdańsk"
          ],
          [
           "Gdańsk"
          ],
          [
           "Gdynia"
          ],
          [
           "Gdańsk"
          ],
          [
           "Sopot"
          ],
          [
           "Sopot"
          ],
          [
           "Gdańsk"
          ],
          [
           "Gdańsk"
          ],
          [
           "Gdańsk"
          ],
          [
           "Gdańsk"
          ],
          [
           "Gdynia"
          ],
          [
           "Gdańsk"
          ],
          [
           "Gdańsk"
          ],
          [
           "Gdańsk"
          ],
          [
           "Gdynia"
          ],
          [
           "Gdańsk"
          ],
          [
           "Gdynia"
          ],
          [
           "Gdańsk"
          ],
          [
           "Sopot"
          ],
          [
           "Gdynia"
          ],
          [
           "Gdynia"
          ],
          [
           "Gdańsk"
          ],
          [
           "Gdańsk"
          ],
          [
           "Gdańsk"
          ],
          [
           "Gdynia"
          ],
          [
           "Gdańsk"
          ],
          [
           "Gdańsk"
          ],
          [
           "Gdańsk"
          ],
          [
           "Gdańsk"
          ],
          [
           "Gdańsk"
          ],
          [
           "Gdynia"
          ],
          [
           "Gdańsk"
          ],
          [
           "Gdańsk"
          ],
          [
           "Gdynia"
          ],
          [
           "Gdynia"
          ],
          [
           "Gdynia"
          ],
          [
           "Gdynia"
          ],
          [
           "Gdańsk"
          ],
          [
           "Gdańsk"
          ],
          [
           "Gdynia"
          ],
          [
           "Gdańsk"
          ],
          [
           "Gdańsk"
          ],
          [
           "Gdańsk"
          ],
          [
           "Gdynia"
          ],
          [
           "Gdańsk"
          ],
          [
           "Gdańsk"
          ],
          [
           "Gdańsk"
          ],
          [
           "Sopot"
          ],
          [
           "Gdynia"
          ],
          [
           "Gdańsk"
          ],
          [
           "Gdańsk"
          ],
          [
           "Gdańsk"
          ],
          [
           "Gdańsk"
          ],
          [
           "Gdynia"
          ],
          [
           "Gdańsk"
          ],
          [
           "Gdańsk"
          ],
          [
           "Gdynia"
          ],
          [
           "Gdynia"
          ],
          [
           "Gdańsk"
          ],
          [
           "Gdańsk"
          ],
          [
           "Gdańsk"
          ],
          [
           "Gdynia"
          ],
          [
           "Gdańsk"
          ],
          [
           "Gdańsk"
          ],
          [
           "Gdynia"
          ],
          [
           "Gdańsk"
          ],
          [
           "Gdańsk"
          ],
          [
           "Gdańsk"
          ],
          [
           "Gdańsk"
          ],
          [
           "Gdańsk"
          ],
          [
           "Sopot"
          ],
          [
           "Gdańsk"
          ],
          [
           "Gdańsk"
          ],
          [
           "Gdańsk"
          ],
          [
           "Gdańsk"
          ],
          [
           "Gdańsk"
          ],
          [
           "Sopot"
          ],
          [
           "Gdańsk"
          ],
          [
           "Gdańsk"
          ],
          [
           "Sopot"
          ],
          [
           "Gdynia"
          ],
          [
           "Gdańsk"
          ],
          [
           "Gdynia"
          ],
          [
           "Gdańsk"
          ],
          [
           "Sopot"
          ],
          [
           "Gdańsk"
          ],
          [
           "Gdynia"
          ],
          [
           "Gdynia"
          ],
          [
           "Gdańsk"
          ],
          [
           "Gdynia"
          ],
          [
           "Gdańsk"
          ],
          [
           "Gdynia"
          ],
          [
           "Gdynia"
          ],
          [
           "Gdańsk"
          ],
          [
           "Gdańsk"
          ],
          [
           "Gdańsk"
          ],
          [
           "Gdańsk"
          ],
          [
           "Gdańsk"
          ],
          [
           "Gdańsk"
          ],
          [
           "Gdańsk"
          ],
          [
           "Gdynia"
          ],
          [
           "Gdynia"
          ],
          [
           "Gdańsk"
          ],
          [
           "Gdańsk"
          ],
          [
           "Gdańsk"
          ],
          [
           "Gdańsk"
          ],
          [
           "Gdańsk"
          ],
          [
           "Gdańsk"
          ],
          [
           "Gdańsk"
          ],
          [
           "Gdańsk"
          ],
          [
           "Gdańsk"
          ],
          [
           "Gdańsk"
          ],
          [
           "Gdańsk"
          ],
          [
           "Gdańsk"
          ],
          [
           "Gdynia"
          ],
          [
           "Sopot"
          ],
          [
           "Gdańsk"
          ],
          [
           "Gdynia"
          ],
          [
           "Gdańsk"
          ],
          [
           "Sopot"
          ],
          [
           "Gdynia"
          ],
          [
           "Gdańsk"
          ],
          [
           "Gdańsk"
          ],
          [
           "Gdańsk"
          ],
          [
           "Gdynia"
          ],
          [
           "Gdańsk"
          ],
          [
           "Gdańsk"
          ],
          [
           "Gdańsk"
          ],
          [
           "Gdańsk"
          ],
          [
           "Gdynia"
          ],
          [
           "Gdynia"
          ],
          [
           "Gdańsk"
          ],
          [
           "Gdańsk"
          ],
          [
           "Gdańsk"
          ],
          [
           "Gdynia"
          ],
          [
           "Gdańsk"
          ],
          [
           "Gdańsk"
          ],
          [
           "Gdynia"
          ],
          [
           "Gdańsk"
          ],
          [
           "Gdańsk"
          ],
          [
           "Gdańsk"
          ],
          [
           "Gdynia"
          ],
          [
           "Gdańsk"
          ],
          [
           "Gdynia"
          ],
          [
           "Gdańsk"
          ],
          [
           "Gdynia"
          ],
          [
           "Gdynia"
          ],
          [
           "Gdańsk"
          ],
          [
           "Gdańsk"
          ],
          [
           "Gdynia"
          ],
          [
           "Gdynia"
          ],
          [
           "Gdynia"
          ],
          [
           "Gdańsk"
          ],
          [
           "Gdańsk"
          ],
          [
           "Gdańsk"
          ],
          [
           "Gdańsk"
          ],
          [
           "Gdańsk"
          ],
          [
           "Gdańsk"
          ],
          [
           "Gdańsk"
          ],
          [
           "Gdańsk"
          ],
          [
           "Gdańsk"
          ],
          [
           "Gdańsk"
          ],
          [
           "Gdynia"
          ],
          [
           "Sopot"
          ],
          [
           "Gdynia"
          ],
          [
           "Gdańsk"
          ],
          [
           "Gdynia"
          ],
          [
           "Gdańsk"
          ],
          [
           "Gdańsk"
          ],
          [
           "Gdańsk"
          ],
          [
           "Gdańsk"
          ],
          [
           "Gdańsk"
          ],
          [
           "Gdańsk"
          ],
          [
           "Gdańsk"
          ],
          [
           "Gdańsk"
          ],
          [
           "Gdańsk"
          ],
          [
           "Gdańsk"
          ],
          [
           "Gdańsk"
          ],
          [
           "Gdynia"
          ],
          [
           "Gdańsk"
          ],
          [
           "Gdańsk"
          ],
          [
           "Gdańsk"
          ],
          [
           "Gdańsk"
          ],
          [
           "Gdańsk"
          ],
          [
           "Sopot"
          ],
          [
           "Gdańsk"
          ],
          [
           "Gdańsk"
          ],
          [
           "Gdańsk"
          ],
          [
           "Sopot"
          ],
          [
           "Gdańsk"
          ],
          [
           "Gdańsk"
          ],
          [
           "Gdańsk"
          ],
          [
           "Gdańsk"
          ],
          [
           "Gdańsk"
          ],
          [
           "Gdynia"
          ],
          [
           "Gdańsk"
          ],
          [
           "Gdańsk"
          ],
          [
           "Gdańsk"
          ],
          [
           "Gdańsk"
          ],
          [
           "Gdańsk"
          ],
          [
           "Gdańsk"
          ],
          [
           "Sopot"
          ],
          [
           "Gdańsk"
          ],
          [
           "Gdańsk"
          ],
          [
           "Gdańsk"
          ],
          [
           "Gdańsk"
          ],
          [
           "Gdańsk"
          ],
          [
           "Gdynia"
          ],
          [
           "Gdańsk"
          ],
          [
           "Gdańsk"
          ],
          [
           "Gdańsk"
          ],
          [
           "Gdańsk"
          ],
          [
           "Gdańsk"
          ],
          [
           "Gdańsk"
          ],
          [
           "Gdańsk"
          ],
          [
           "Gdańsk"
          ],
          [
           "Gdańsk"
          ],
          [
           "Gdynia"
          ],
          [
           "Sopot"
          ],
          [
           "Gdynia"
          ],
          [
           "Gdańsk"
          ],
          [
           "Gdańsk"
          ],
          [
           "Gdynia"
          ],
          [
           "Gdańsk"
          ],
          [
           "Sopot"
          ],
          [
           "Gdańsk"
          ],
          [
           "Gdańsk"
          ],
          [
           "Gdańsk"
          ],
          [
           "Gdańsk"
          ],
          [
           "Gdańsk"
          ],
          [
           "Gdańsk"
          ],
          [
           "Gdańsk"
          ],
          [
           "Gdynia"
          ],
          [
           "Gdynia"
          ],
          [
           "Gdańsk"
          ],
          [
           "Gdańsk"
          ],
          [
           "Gdynia"
          ],
          [
           "Gdańsk"
          ],
          [
           "Gdańsk"
          ],
          [
           "Gdańsk"
          ],
          [
           "Gdańsk"
          ],
          [
           "Gdańsk"
          ],
          [
           "Gdańsk"
          ],
          [
           "Gdańsk"
          ],
          [
           "Gdynia"
          ],
          [
           "Gdańsk"
          ],
          [
           "Sopot"
          ],
          [
           "Gdynia"
          ],
          [
           "Gdynia"
          ],
          [
           "Gdynia"
          ],
          [
           "Gdańsk"
          ],
          [
           "Gdańsk"
          ],
          [
           "Gdańsk"
          ],
          [
           "Gdańsk"
          ],
          [
           "Gdańsk"
          ],
          [
           "Gdańsk"
          ],
          [
           "Gdynia"
          ],
          [
           "Sopot"
          ],
          [
           "Gdynia"
          ],
          [
           "Gdańsk"
          ],
          [
           "Gdynia"
          ],
          [
           "Gdańsk"
          ],
          [
           "Gdańsk"
          ],
          [
           "Gdynia"
          ],
          [
           "Gdynia"
          ],
          [
           "Gdańsk"
          ],
          [
           "Gdańsk"
          ],
          [
           "Gdynia"
          ],
          [
           "Gdańsk"
          ],
          [
           "Gdynia"
          ],
          [
           "Gdynia"
          ],
          [
           "Gdańsk"
          ],
          [
           "Gdynia"
          ],
          [
           "Gdańsk"
          ],
          [
           "Gdańsk"
          ],
          [
           "Gdańsk"
          ],
          [
           "Gdańsk"
          ],
          [
           "Gdynia"
          ],
          [
           "Gdynia"
          ],
          [
           "Gdynia"
          ],
          [
           "Gdańsk"
          ],
          [
           "Gdynia"
          ],
          [
           "Gdynia"
          ],
          [
           "Gdańsk"
          ],
          [
           "Gdańsk"
          ],
          [
           "Gdańsk"
          ],
          [
           "Gdynia"
          ],
          [
           "Gdańsk"
          ],
          [
           "Gdańsk"
          ],
          [
           "Gdynia"
          ],
          [
           "Gdańsk"
          ],
          [
           "Gdynia"
          ],
          [
           "Gdańsk"
          ],
          [
           "Gdańsk"
          ],
          [
           "Gdynia"
          ],
          [
           "Gdynia"
          ],
          [
           "Gdańsk"
          ],
          [
           "Gdynia"
          ],
          [
           "Gdynia"
          ],
          [
           "Sopot"
          ],
          [
           "Gdańsk"
          ],
          [
           "Gdynia"
          ],
          [
           "Gdynia"
          ],
          [
           "Gdynia"
          ],
          [
           "Sopot"
          ],
          [
           "Gdynia"
          ],
          [
           "Gdańsk"
          ],
          [
           "Gdynia"
          ],
          [
           "Gdynia"
          ],
          [
           "Gdańsk"
          ],
          [
           "Gdynia"
          ],
          [
           "Gdańsk"
          ],
          [
           "Gdynia"
          ],
          [
           "Gdańsk"
          ],
          [
           "Gdańsk"
          ],
          [
           "Gdańsk"
          ],
          [
           "Gdańsk"
          ],
          [
           "Gdańsk"
          ],
          [
           "Gdynia"
          ],
          [
           "Gdynia"
          ],
          [
           "Gdańsk"
          ],
          [
           "Gdańsk"
          ],
          [
           "Gdynia"
          ],
          [
           "Gdańsk"
          ],
          [
           "Gdańsk"
          ],
          [
           "Gdynia"
          ],
          [
           "Gdańsk"
          ],
          [
           "Gdynia"
          ],
          [
           "Gdańsk"
          ],
          [
           "Gdynia"
          ],
          [
           "Gdynia"
          ],
          [
           "Gdańsk"
          ],
          [
           "Gdańsk"
          ],
          [
           "Gdańsk"
          ],
          [
           "Gdańsk"
          ],
          [
           "Gdańsk"
          ],
          [
           "Gdańsk"
          ],
          [
           "Gdynia"
          ],
          [
           "Gdańsk"
          ],
          [
           "Gdańsk"
          ],
          [
           "Gdańsk"
          ],
          [
           "Gdańsk"
          ],
          [
           "Gdańsk"
          ],
          [
           "Gdańsk"
          ],
          [
           "Gdynia"
          ],
          [
           "Sopot"
          ],
          [
           "Gdynia"
          ],
          [
           "Gdańsk"
          ],
          [
           "Gdańsk"
          ],
          [
           "Gdańsk"
          ],
          [
           "Gdańsk"
          ],
          [
           "Gdańsk"
          ],
          [
           "Gdańsk"
          ],
          [
           "Gdańsk"
          ],
          [
           "Gdańsk"
          ],
          [
           "Gdańsk"
          ],
          [
           "Gdańsk"
          ],
          [
           "Gdańsk"
          ],
          [
           "Gdańsk"
          ],
          [
           "Gdańsk"
          ],
          [
           "Gdynia"
          ],
          [
           "Gdańsk"
          ],
          [
           "Gdańsk"
          ],
          [
           "Gdańsk"
          ],
          [
           "Gdynia"
          ],
          [
           "Gdańsk"
          ],
          [
           "Gdynia"
          ],
          [
           "Gdynia"
          ],
          [
           "Gdynia"
          ],
          [
           "Gdańsk"
          ],
          [
           "Gdynia"
          ],
          [
           "Gdańsk"
          ],
          [
           "Gdańsk"
          ],
          [
           "Gdańsk"
          ],
          [
           "Gdańsk"
          ],
          [
           "Gdańsk"
          ],
          [
           "Gdańsk"
          ],
          [
           "Gdańsk"
          ],
          [
           "Gdańsk"
          ],
          [
           "Gdańsk"
          ],
          [
           "Gdańsk"
          ],
          [
           "Gdynia"
          ],
          [
           "Sopot"
          ],
          [
           "Gdańsk"
          ],
          [
           "Gdańsk"
          ],
          [
           "Gdynia"
          ],
          [
           "Gdańsk"
          ],
          [
           "Gdańsk"
          ],
          [
           "Gdańsk"
          ],
          [
           "Gdańsk"
          ],
          [
           "Gdynia"
          ],
          [
           "Gdańsk"
          ],
          [
           "Gdynia"
          ],
          [
           "Gdańsk"
          ],
          [
           "Gdańsk"
          ],
          [
           "Gdynia"
          ],
          [
           "Gdynia"
          ],
          [
           "Gdańsk"
          ],
          [
           "Gdańsk"
          ],
          [
           "Gdynia"
          ],
          [
           "Gdynia"
          ],
          [
           "Gdańsk"
          ],
          [
           "Gdynia"
          ],
          [
           "Sopot"
          ],
          [
           "Gdynia"
          ],
          [
           "Gdynia"
          ],
          [
           "Gdynia"
          ],
          [
           "Gdynia"
          ],
          [
           "Gdańsk"
          ],
          [
           "Gdańsk"
          ],
          [
           "Gdynia"
          ],
          [
           "Gdynia"
          ],
          [
           "Sopot"
          ],
          [
           "Gdańsk"
          ],
          [
           "Gdynia"
          ],
          [
           "Gdańsk"
          ],
          [
           "Gdynia"
          ],
          [
           "Gdańsk"
          ],
          [
           "Gdańsk"
          ],
          [
           "Gdańsk"
          ],
          [
           "Gdynia"
          ],
          [
           "Gdańsk"
          ],
          [
           "Gdańsk"
          ],
          [
           "Gdańsk"
          ],
          [
           "Sopot"
          ],
          [
           "Gdynia"
          ],
          [
           "Gdynia"
          ],
          [
           "Gdańsk"
          ],
          [
           "Gdańsk"
          ],
          [
           "Gdańsk"
          ],
          [
           "Gdańsk"
          ],
          [
           "Gdynia"
          ],
          [
           "Gdańsk"
          ],
          [
           "Gdańsk"
          ],
          [
           "Gdańsk"
          ],
          [
           "Gdańsk"
          ],
          [
           "Gdańsk"
          ],
          [
           "Gdańsk"
          ],
          [
           "Gdańsk"
          ],
          [
           "Gdańsk"
          ],
          [
           "Gdynia"
          ],
          [
           "Gdańsk"
          ],
          [
           "Gdynia"
          ],
          [
           "Gdańsk"
          ],
          [
           "Gdynia"
          ],
          [
           "Gdańsk"
          ],
          [
           "Gdańsk"
          ],
          [
           "Gdańsk"
          ],
          [
           "Gdańsk"
          ],
          [
           "Gdańsk"
          ],
          [
           "Gdańsk"
          ],
          [
           "Gdańsk"
          ],
          [
           "Gdańsk"
          ],
          [
           "Gdańsk"
          ],
          [
           "Gdańsk"
          ],
          [
           "Gdańsk"
          ],
          [
           "Gdańsk"
          ],
          [
           "Gdynia"
          ],
          [
           "Gdynia"
          ],
          [
           "Gdynia"
          ],
          [
           "Gdynia"
          ],
          [
           "Gdańsk"
          ],
          [
           "Gdańsk"
          ],
          [
           "Gdańsk"
          ],
          [
           "Gdańsk"
          ],
          [
           "Gdańsk"
          ],
          [
           "Gdańsk"
          ],
          [
           "Gdańsk"
          ],
          [
           "Gdańsk"
          ],
          [
           "Gdańsk"
          ],
          [
           "Gdańsk"
          ],
          [
           "Gdańsk"
          ],
          [
           "Gdańsk"
          ],
          [
           "Gdańsk"
          ],
          [
           "Gdańsk"
          ],
          [
           "Gdańsk"
          ],
          [
           "Gdańsk"
          ],
          [
           "Gdańsk"
          ],
          [
           "Gdańsk"
          ],
          [
           "Gdańsk"
          ],
          [
           "Gdańsk"
          ],
          [
           "Gdańsk"
          ],
          [
           "Gdańsk"
          ],
          [
           "Gdynia"
          ],
          [
           "Gdańsk"
          ],
          [
           "Gdynia"
          ],
          [
           "Gdańsk"
          ],
          [
           "Sopot"
          ],
          [
           "Gdańsk"
          ],
          [
           "Gdańsk"
          ],
          [
           "Gdynia"
          ],
          [
           "Gdynia"
          ],
          [
           "Sopot"
          ],
          [
           "Gdynia"
          ],
          [
           "Gdańsk"
          ],
          [
           "Gdańsk"
          ],
          [
           "Sopot"
          ],
          [
           "Gdynia"
          ],
          [
           "Gdańsk"
          ],
          [
           "Gdynia"
          ],
          [
           "Gdynia"
          ],
          [
           "Gdańsk"
          ],
          [
           "Gdańsk"
          ],
          [
           "Gdynia"
          ],
          [
           "Gdynia"
          ],
          [
           "Sopot"
          ],
          [
           "Gdynia"
          ],
          [
           "Gdynia"
          ],
          [
           "Gdańsk"
          ],
          [
           "Gdynia"
          ],
          [
           "Gdynia"
          ],
          [
           "Gdańsk"
          ],
          [
           "Gdańsk"
          ],
          [
           "Gdańsk"
          ],
          [
           "Gdynia"
          ],
          [
           "Gdańsk"
          ],
          [
           "Gdynia"
          ],
          [
           "Gdańsk"
          ],
          [
           "Gdynia"
          ],
          [
           "Gdańsk"
          ],
          [
           "Gdynia"
          ],
          [
           "Gdynia"
          ],
          [
           "Gdańsk"
          ],
          [
           "Gdańsk"
          ],
          [
           "Gdańsk"
          ],
          [
           "Gdynia"
          ],
          [
           "Gdańsk"
          ],
          [
           "Gdańsk"
          ],
          [
           "Gdynia"
          ],
          [
           "Gdynia"
          ],
          [
           "Gdańsk"
          ],
          [
           "Gdańsk"
          ],
          [
           "Gdańsk"
          ],
          [
           "Gdynia"
          ],
          [
           "Sopot"
          ],
          [
           "Gdynia"
          ],
          [
           "Gdańsk"
          ],
          [
           "Gdynia"
          ],
          [
           "Gdańsk"
          ],
          [
           "Gdańsk"
          ],
          [
           "Gdańsk"
          ],
          [
           "Gdańsk"
          ],
          [
           "Gdańsk"
          ],
          [
           "Gdynia"
          ],
          [
           "Gdańsk"
          ],
          [
           "Gdańsk"
          ],
          [
           "Gdańsk"
          ],
          [
           "Sopot"
          ],
          [
           "Gdańsk"
          ],
          [
           "Gdańsk"
          ],
          [
           "Gdynia"
          ],
          [
           "Gdańsk"
          ],
          [
           "Gdańsk"
          ],
          [
           "Gdynia"
          ],
          [
           "Gdańsk"
          ],
          [
           "Gdynia"
          ],
          [
           "Gdańsk"
          ],
          [
           "Gdańsk"
          ],
          [
           "Gdańsk"
          ],
          [
           "Gdynia"
          ],
          [
           "Gdańsk"
          ],
          [
           "Gdańsk"
          ],
          [
           "Gdynia"
          ],
          [
           "Gdańsk"
          ],
          [
           "Gdańsk"
          ],
          [
           "Gdańsk"
          ],
          [
           "Gdańsk"
          ],
          [
           "Gdańsk"
          ],
          [
           "Gdańsk"
          ],
          [
           "Gdańsk"
          ],
          [
           "Gdańsk"
          ],
          [
           "Gdańsk"
          ],
          [
           "Gdańsk"
          ],
          [
           "Gdańsk"
          ],
          [
           "Gdańsk"
          ],
          [
           "Gdańsk"
          ],
          [
           "Gdańsk"
          ],
          [
           "Gdańsk"
          ],
          [
           "Gdynia"
          ],
          [
           "Gdańsk"
          ],
          [
           "Gdynia"
          ],
          [
           "Gdynia"
          ],
          [
           "Gdańsk"
          ],
          [
           "Sopot"
          ],
          [
           "Gdynia"
          ],
          [
           "Gdynia"
          ],
          [
           "Gdańsk"
          ],
          [
           "Gdańsk"
          ],
          [
           "Gdańsk"
          ],
          [
           "Gdynia"
          ],
          [
           "Gdańsk"
          ],
          [
           "Gdańsk"
          ],
          [
           "Gdynia"
          ],
          [
           "Gdynia"
          ],
          [
           "Gdańsk"
          ],
          [
           "Gdańsk"
          ],
          [
           "Gdynia"
          ],
          [
           "Gdynia"
          ],
          [
           "Gdańsk"
          ],
          [
           "Gdynia"
          ],
          [
           "Sopot"
          ],
          [
           "Gdańsk"
          ],
          [
           "Gdańsk"
          ],
          [
           "Gdańsk"
          ],
          [
           "Gdańsk"
          ],
          [
           "Sopot"
          ],
          [
           "Gdańsk"
          ],
          [
           "Gdańsk"
          ],
          [
           "Gdynia"
          ],
          [
           "Gdańsk"
          ],
          [
           "Gdynia"
          ],
          [
           "Gdańsk"
          ],
          [
           "Gdańsk"
          ],
          [
           "Gdańsk"
          ],
          [
           "Gdańsk"
          ],
          [
           "Sopot"
          ],
          [
           "Gdańsk"
          ],
          [
           "Gdańsk"
          ],
          [
           "Gdańsk"
          ],
          [
           "Gdańsk"
          ],
          [
           "Gdańsk"
          ],
          [
           "Gdańsk"
          ],
          [
           "Gdańsk"
          ],
          [
           "Gdynia"
          ],
          [
           "Sopot"
          ],
          [
           "Gdańsk"
          ],
          [
           "Gdańsk"
          ],
          [
           "Gdańsk"
          ],
          [
           "Gdańsk"
          ],
          [
           "Gdańsk"
          ],
          [
           "Gdańsk"
          ],
          [
           "Gdańsk"
          ],
          [
           "Gdańsk"
          ],
          [
           "Gdańsk"
          ],
          [
           "Gdańsk"
          ],
          [
           "Gdańsk"
          ],
          [
           "Gdańsk"
          ],
          [
           "Gdańsk"
          ],
          [
           "Gdańsk"
          ],
          [
           "Gdańsk"
          ],
          [
           "Gdańsk"
          ],
          [
           "Gdańsk"
          ],
          [
           "Gdańsk"
          ],
          [
           "Gdańsk"
          ],
          [
           "Gdańsk"
          ],
          [
           "Gdańsk"
          ],
          [
           "Gdańsk"
          ],
          [
           "Gdynia"
          ],
          [
           "Gdynia"
          ],
          [
           "Gdynia"
          ],
          [
           "Gdynia"
          ],
          [
           "Gdańsk"
          ],
          [
           "Sopot"
          ],
          [
           "Gdańsk"
          ],
          [
           "Gdańsk"
          ],
          [
           "Gdynia"
          ],
          [
           "Gdańsk"
          ],
          [
           "Gdynia"
          ],
          [
           "Gdynia"
          ],
          [
           "Gdańsk"
          ],
          [
           "Gdańsk"
          ],
          [
           "Gdańsk"
          ],
          [
           "Gdańsk"
          ],
          [
           "Gdańsk"
          ],
          [
           "Gdańsk"
          ],
          [
           "Gdańsk"
          ],
          [
           "Gdańsk"
          ],
          [
           "Gdańsk"
          ],
          [
           "Gdańsk"
          ],
          [
           "Sopot"
          ],
          [
           "Gdynia"
          ],
          [
           "Gdańsk"
          ],
          [
           "Gdańsk"
          ],
          [
           "Gdynia"
          ],
          [
           "Gdynia"
          ],
          [
           "Gdańsk"
          ],
          [
           "Gdańsk"
          ],
          [
           "Gdynia"
          ],
          [
           "Gdańsk"
          ],
          [
           "Sopot"
          ],
          [
           "Gdynia"
          ],
          [
           "Gdynia"
          ],
          [
           "Gdańsk"
          ],
          [
           "Gdynia"
          ],
          [
           "Gdynia"
          ],
          [
           "Gdańsk"
          ],
          [
           "Gdańsk"
          ],
          [
           "Sopot"
          ],
          [
           "Gdynia"
          ],
          [
           "Gdynia"
          ],
          [
           "Gdańsk"
          ],
          [
           "Gdańsk"
          ],
          [
           "Gdańsk"
          ],
          [
           "Gdańsk"
          ],
          [
           "Gdańsk"
          ],
          [
           "Gdańsk"
          ],
          [
           "Sopot"
          ],
          [
           "Gdynia"
          ],
          [
           "Gdańsk"
          ],
          [
           "Gdańsk"
          ],
          [
           "Gdańsk"
          ],
          [
           "Gdańsk"
          ],
          [
           "Sopot"
          ],
          [
           "Gdańsk"
          ],
          [
           "Gdańsk"
          ],
          [
           "Gdańsk"
          ],
          [
           "Gdańsk"
          ],
          [
           "Gdańsk"
          ],
          [
           "Gdańsk"
          ],
          [
           "Gdańsk"
          ],
          [
           "Gdańsk"
          ],
          [
           "Gdańsk"
          ],
          [
           "Gdańsk"
          ],
          [
           "Gdańsk"
          ],
          [
           "Gdańsk"
          ],
          [
           "Gdańsk"
          ],
          [
           "Gdańsk"
          ],
          [
           "Gdańsk"
          ],
          [
           "Gdańsk"
          ],
          [
           "Gdańsk"
          ],
          [
           "Gdańsk"
          ],
          [
           "Gdańsk"
          ],
          [
           "Gdynia"
          ],
          [
           "Gdynia"
          ],
          [
           "Gdynia"
          ],
          [
           "Gdańsk"
          ],
          [
           "Gdynia"
          ],
          [
           "Gdańsk"
          ],
          [
           "Gdynia"
          ],
          [
           "Gdańsk"
          ],
          [
           "Sopot"
          ],
          [
           "Gdańsk"
          ],
          [
           "Gdynia"
          ],
          [
           "Gdańsk"
          ],
          [
           "Gdańsk"
          ],
          [
           "Gdańsk"
          ],
          [
           "Gdańsk"
          ],
          [
           "Gdańsk"
          ],
          [
           "Gdańsk"
          ],
          [
           "Gdańsk"
          ],
          [
           "Gdańsk"
          ],
          [
           "Gdańsk"
          ],
          [
           "Gdańsk"
          ],
          [
           "Gdańsk"
          ],
          [
           "Gdańsk"
          ],
          [
           "Gdańsk"
          ],
          [
           "Gdańsk"
          ],
          [
           "Gdańsk"
          ],
          [
           "Gdańsk"
          ],
          [
           "Gdańsk"
          ],
          [
           "Gdańsk"
          ],
          [
           "Gdańsk"
          ],
          [
           "Gdańsk"
          ],
          [
           "Gdańsk"
          ],
          [
           "Gdańsk"
          ],
          [
           "Gdańsk"
          ],
          [
           "Gdańsk"
          ],
          [
           "Gdańsk"
          ],
          [
           "Gdańsk"
          ],
          [
           "Gdańsk"
          ],
          [
           "Gdańsk"
          ],
          [
           "Gdańsk"
          ],
          [
           "Gdynia"
          ],
          [
           "Gdańsk"
          ],
          [
           "Gdańsk"
          ],
          [
           "Gdańsk"
          ],
          [
           "Sopot"
          ],
          [
           "Gdynia"
          ],
          [
           "Gdańsk"
          ]
         ],
         "hovertemplate": "locality=%{x}<br>price_total_zl_cleaned=%{y}<br>city=%{customdata[0]}<extra></extra>",
         "legendgroup": "",
         "marker": {
          "color": "#636efa"
         },
         "name": "",
         "notched": false,
         "offsetgroup": "",
         "orientation": "v",
         "showlegend": false,
         "type": "box",
         "x": [
          "Gdańsk Jasień",
          "Gdynia Śródmieście",
          "Gdańsk Wrzeszcz",
          "Gdańsk Morena",
          "Gdańsk",
          "Gdynia Obłuże",
          "Gdańsk Orunia",
          "Gdynia Grabówek",
          "Gdańsk Przeróbka",
          "Gdańsk Suchanino",
          "Gdańsk Jasień",
          "Gdańsk Przymorze",
          "Gdańsk Przymorze",
          "Gdańsk Wrzeszcz",
          "Gdańsk Siedlce",
          "Gdańsk Jasień",
          "Sopot",
          "Gdynia Obłuże",
          "Gdynia Wzgórze Świętego Maksymiliana",
          "Gdynia Śródmieście",
          "Gdynia Wielki Kack",
          "Sopot Brodwino",
          "Gdańsk",
          "Gdańsk Strzyża",
          "Gdańsk Orunia Górna",
          "Gdańsk Stogi",
          "Gdynia Oksywie",
          "Gdynia Karwiny",
          "Gdańsk Orunia Górna",
          "Gdynia Oksywie",
          "Gdańsk Orunia",
          "Gdańsk Chełm",
          "Gdańsk Jasień",
          "Gdańsk Orunia Górna",
          "Gdynia Wielki Kack",
          "Gdynia Leszczynki",
          "Gdańsk Jasień",
          "Gdańsk Przymorze",
          "Gdynia Obłuże",
          "Gdańsk Letnica",
          "Gdańsk Chełm",
          "Gdańsk Śródmieście",
          "Gdańsk Ujeścisko",
          "Gdańsk Przymorze",
          "Gdańsk Oliwa",
          "Gdynia Chylonia",
          "Gdańsk Przymorze",
          "Gdańsk Śródmieście",
          "Gdańsk Ujeścisko",
          "Gdynia Chylonia",
          "Gdańsk Letnica",
          "Gdańsk Śródmieście",
          "Gdańsk Przymorze",
          "Gdynia Leszczynki",
          "Sopot Kamienny Potok",
          "Gdańsk Przymorze",
          "Gdynia Śródmieście",
          "Gdańsk Ujeścisko",
          "Gdańsk Wrzeszcz",
          "Gdańsk Łostowice",
          "Gdynia Dąbrowa",
          "Gdynia Dąbrowa",
          "Gdańsk Oliwa",
          "Gdańsk Łostowice",
          "Gdynia Orłowo",
          "Sopot Brodwino",
          "Gdańsk Zaspa",
          "Gdańsk",
          "Gdańsk Zaspa",
          "Gdańsk Oliwa",
          "Gdańsk Letnica",
          "Gdańsk Jasień",
          "Gdynia Chwarzno-Wiczlino",
          "Sopot",
          "Gdańsk Ujeścisko",
          "Gdańsk Jasień",
          "Gdańsk Jasień",
          "Gdynia Redłowo",
          "Gdańsk Przymorze",
          "Gdańsk",
          "Gdańsk Przymorze",
          "Sopot Kamienny Potok",
          "Gdańsk Orunia",
          "Sopot Sopot Górny",
          "Gdańsk Śródmieście",
          "Gdańsk Ujeścisko",
          "Gdynia Chylonia",
          "Sopot Sopot Górny",
          "Gdańsk Oliwa",
          "Gdynia Leszczynki",
          "Gdańsk Zaspa",
          "Gdańsk Przymorze",
          "Gdynia Oksywie",
          "Gdynia Redłowo",
          "Gdynia Chwarzno-Wiczlino",
          "Gdańsk Letnica",
          "Gdańsk Suchanino",
          "Gdańsk Przymorze",
          "Gdynia Chwarzno-Wiczlino",
          "Gdynia Chwarzno-Wiczlino",
          "Gdańsk Przymorze",
          "Gdańsk Przymorze",
          "Gdańsk Wrzeszcz",
          "Gdańsk Oliwa",
          "Gdańsk Przymorze",
          "Gdynia Pogórze",
          "Gdynia Śródmieście",
          "Gdańsk Przymorze",
          "Gdańsk Oliwa",
          "Gdynia Wielki Kack",
          "Gdańsk Wrzeszcz",
          "Gdańsk Wrzeszcz",
          "Gdynia Śródmieście",
          "Gdańsk Siedlce",
          "Gdańsk Przymorze",
          "Gdynia Pustki Cisowskie",
          "Gdańsk Żabianka",
          "Gdynia Chwarzno-Wiczlino",
          "Gdańsk Letnica",
          "Gdańsk Letnica",
          "Gdynia Witomino",
          "Gdańsk Zaspa",
          "Gdańsk Zaroślak",
          "Gdańsk Zaspa",
          "Gdańsk Przymorze",
          "Gdańsk Jasień",
          "Sopot Kamienny Potok",
          "Gdynia Śródmieście",
          "Gdańsk Śródmieście",
          "Gdańsk",
          "Gdynia Chylonia",
          "Gdańsk Stare Miasto",
          "Gdańsk Jasień",
          "Gdańsk Oliwa",
          "Gdańsk Brzeźno",
          "Gdańsk Zaspa",
          "Gdynia Chylonia",
          "Gdańsk Przymorze",
          "Gdańsk Oliwa",
          "Gdynia Śródmieście",
          "Gdynia Chwarzno-Wiczlino",
          "Gdańsk Łostowice",
          "Gdańsk Morena",
          "Sopot",
          "Gdańsk Aniołki",
          "Gdańsk Jasień",
          "Gdańsk Wrzeszcz",
          "Gdynia Wielki Kack",
          "Gdańsk Długie Ogrody",
          "Gdynia Karwiny",
          "Gdańsk Siedlce",
          "Gdynia Śródmieście",
          "Gdynia Chylonia",
          "Gdańsk Śródmieście",
          "Gdańsk Zaspa",
          "Gdańsk Morena",
          "Gdańsk Wrzeszcz",
          "Gdańsk Łostowice",
          "Gdańsk Brzeźno",
          "Gdynia Śródmieście",
          "Gdańsk Wyspa Sobieszewska",
          "Gdańsk Żabianka",
          "Gdańsk Jasień",
          "Gdynia",
          "Gdańsk Śródmieście",
          "Gdynia Chwarzno-Wiczlino",
          "Gdańsk Letnica",
          "Gdańsk Oliwa",
          "Gdynia Chwarzno-Wiczlino",
          "Sopot",
          "Gdańsk Śródmieście",
          "Gdynia Redłowo",
          "Gdańsk Jasień",
          "Gdańsk Zaspa",
          "Gdynia Dąbrowa",
          "Gdynia Witomino",
          "Gdańsk Przymorze",
          "Gdańsk Orunia Górna",
          "Sopot",
          "Gdynia Witomino",
          "Gdańsk Śródmieście",
          "Gdańsk Suchanino",
          "Gdynia Chylonia",
          "Gdańsk Śródmieście",
          "Gdańsk Chełm",
          "Gdynia Chylonia",
          "Gdańsk Jasień",
          "Gdańsk Brzeźno",
          "Gdańsk Żabianka",
          "Gdynia Działki Leśne",
          "Gdańsk Łostowice",
          "Gdynia Mały Kack",
          "Gdynia Śródmieście",
          "Gdańsk Przymorze",
          "Sopot",
          "Gdynia Śródmieście",
          "Gdynia Pogórze",
          "Gdańsk Orunia Górna",
          "Gdańsk Brzeźno",
          "Gdańsk Chełm",
          "Gdańsk Śródmieście",
          "Gdańsk Śródmieście",
          "Sopot Sopot Dolny",
          "Gdańsk Łostowice",
          "Gdańsk Śródmieście",
          "Gdańsk Jasień",
          "Gdańsk Stogi",
          "Gdańsk Przymorze",
          "Gdynia Działki Leśne",
          "Gdańsk Wrzeszcz",
          "Gdańsk Piecki",
          "Gdynia Leszczynki",
          "Gdańsk Zaspa",
          "Gdańsk Wrzeszcz",
          "Gdańsk Łostowice",
          "Gdańsk Morena",
          "Gdańsk Zaspa",
          "Gdańsk Śródmieście",
          "Gdańsk Łostowice",
          "Gdynia Mały Kack",
          "Gdańsk Wrzeszcz",
          "Sopot Kamienny Potok",
          "Sopot Przylesie",
          "Gdańsk Śródmieście",
          "Gdańsk Siedlce",
          "Gdańsk Jasień",
          "Gdańsk Jelitkowo",
          "Gdynia Wielki Kack",
          "Gdańsk Jasień",
          "Gdańsk Oliwa",
          "Gdańsk Orunia",
          "Gdynia Obłuże",
          "Gdańsk Morena",
          "Gdynia Grabówek",
          "Gdańsk Wrzeszcz",
          "Sopot Brodwino",
          "Gdynia Chylonia",
          "Gdynia Śródmieście",
          "Gdańsk Śródmieście",
          "Gdańsk Morena",
          "Gdańsk Osowa",
          "Gdynia Witomino",
          "Gdańsk Kokoszki",
          "Gdańsk Przymorze",
          "Gdańsk Wrzeszcz",
          "Gdańsk Brzeźno",
          "Gdańsk Niedźwiednik",
          "Gdynia Leszczynki",
          "Gdańsk Przymorze",
          "Gdańsk Ujeścisko",
          "Gdynia Śródmieście",
          "Gdynia Oksywie",
          "Gdynia Karwiny",
          "Gdynia Cisowa",
          "Gdańsk Suchanino",
          "Gdańsk Jasień",
          "Gdynia Wzgórze Świętego Maksymiliana",
          "Gdańsk Jelitkowo",
          "Gdańsk Brzeźno",
          "Gdańsk Letnica",
          "Gdynia Cisowa",
          "Gdańsk Wrzeszcz",
          "Gdańsk Śródmieście",
          "Gdańsk",
          "Sopot",
          "Gdynia Kamienna Góra",
          "Gdańsk Śródmieście",
          "Gdańsk Osowa",
          "Gdańsk Oliwa",
          "Gdańsk Zakoniczyn",
          "Gdynia Kamienna Góra",
          "Gdańsk Śródmieście",
          "Gdańsk Śródmieście",
          "Gdynia Grabówek",
          "Gdynia Śródmieście",
          "Gdańsk",
          "Gdańsk Zaspa",
          "Gdańsk Zaspa",
          "Gdynia Karwiny",
          "Gdańsk Śródmieście",
          "Gdańsk Młyniska",
          "Gdynia Chylonia",
          "Gdańsk Ujeścisko",
          "Gdańsk Wrzeszcz",
          "Gdańsk Ujeścisko",
          "Gdańsk Przeróbka",
          "Gdańsk Nowy Port",
          "Sopot Sopot Dolny",
          "Gdańsk Kokoszki",
          "Gdańsk Aniołki",
          "Gdańsk Brzeźno",
          "Gdańsk Przymorze",
          "Gdańsk Przymorze",
          "Sopot Kamienny Potok",
          "Gdańsk Aniołki",
          "Gdańsk Brzeźno",
          "Sopot Brodwino",
          "Gdynia Grabówek",
          "Gdańsk Wrzeszcz",
          "Gdynia Mały Kack",
          "Gdańsk Młyniska",
          "Sopot Brodwino",
          "Gdańsk Stogi",
          "Gdynia Obłuże",
          "Gdynia Wielki Kack",
          "Gdańsk Chełm",
          "Gdynia Obłuże",
          "Gdańsk Śródmieście",
          "Gdynia Obłuże",
          "Gdynia Działki Leśne",
          "Gdańsk Śródmieście",
          "Gdańsk Przymorze",
          "Gdańsk Kokoszki",
          "Gdańsk Siedlce",
          "Gdańsk Przymorze",
          "Gdańsk Przymorze",
          "Gdańsk Jasień",
          "Gdynia Obłuże",
          "Gdynia Śródmieście",
          "Gdańsk Przymorze",
          "Gdańsk Przymorze",
          "Gdańsk Strzyża",
          "Gdańsk Jasień",
          "Gdańsk Piecki",
          "Gdańsk Przymorze",
          "Gdańsk Przymorze",
          "Gdańsk Ujeścisko",
          "Gdańsk Oliwa",
          "Gdańsk Wrzeszcz",
          "Gdańsk Wrzeszcz",
          "Gdańsk Przymorze",
          "Gdynia Śródmieście",
          "Sopot Przylesie",
          "Gdańsk Zakoniczyn",
          "Gdynia Śródmieście",
          "Gdańsk Chełm",
          "Sopot Sopot Górny",
          "Gdynia Chylonia",
          "Gdańsk Wrzeszcz",
          "Gdańsk Przymorze",
          "Gdańsk Orunia",
          "Gdynia Śródmieście",
          "Gdańsk Morena",
          "Gdańsk Zakoniczyn",
          "Gdańsk Wrzeszcz",
          "Gdańsk Łostowice",
          "Gdynia Witomino",
          "Gdynia Grabówek",
          "Gdańsk Wrzeszcz",
          "Gdańsk Wrzeszcz",
          "Gdańsk Przymorze",
          "Gdynia Śródmieście",
          "Gdańsk Oliwa",
          "Gdańsk Zakoniczyn",
          "Gdynia Śródmieście",
          "Gdańsk Jasień",
          "Gdańsk Śródmieście",
          "Gdańsk Morena",
          "Gdynia Śródmieście",
          "Gdańsk Przymorze",
          "Gdynia Dąbrowa",
          "Gdańsk Przymorze",
          "Gdynia Śródmieście",
          "Gdynia Śródmieście",
          "Gdańsk Wrzeszcz",
          "Gdańsk Śródmieście",
          "Gdynia Działki Leśne",
          "Gdynia Obłuże",
          "Gdynia Śródmieście",
          "Gdańsk Przymorze",
          "Gdańsk Ujeścisko",
          "Gdańsk Orunia Górna",
          "Gdańsk Przymorze",
          "Gdańsk Wrzeszcz",
          "Gdańsk Wrzeszcz",
          "Gdańsk",
          "Gdańsk Wrzeszcz",
          "Gdańsk Przymorze",
          "Gdańsk Przymorze",
          "Gdynia Śródmieście",
          "Sopot Wyścigi",
          "Gdynia Dąbrowa",
          "Gdańsk Przymorze",
          "Gdynia Śródmieście",
          "Gdańsk Zaspa",
          "Gdańsk Śródmieście",
          "Gdańsk Śródmieście",
          "Gdańsk Śródmieście",
          "Gdańsk Śródmieście",
          "Gdańsk Żabianka",
          "Gdańsk Wrzeszcz",
          "Gdańsk Orunia Górna",
          "Gdańsk Przymorze",
          "Gdańsk Śródmieście",
          "Gdańsk Przymorze",
          "Gdynia Cisowa",
          "Gdańsk Przymorze",
          "Gdańsk Przymorze",
          "Gdańsk Zakoniczyn",
          "Gdańsk Śródmieście",
          "Gdańsk Wrzeszcz",
          "Sopot Sopot Górny",
          "Gdańsk Przymorze",
          "Gdańsk Wrzeszcz",
          "Gdańsk Kiełpinek",
          "Sopot Świemirowo",
          "Gdańsk Suchanino",
          "Gdańsk Jelitkowo",
          "Gdańsk Wrzeszcz",
          "Gdańsk Siedlce",
          "Gdańsk Chełm",
          "Gdynia Mały Kack",
          "Gdańsk Śródmieście",
          "Gdańsk Wrzeszcz",
          "Gdańsk Jasień",
          "Gdańsk Śródmieście",
          "Gdańsk Ujeścisko",
          "Gdańsk Wrzeszcz",
          "Sopot",
          "Gdańsk Przeróbka",
          "Gdańsk Siedlce",
          "Gdańsk Zaspa",
          "Gdańsk Przymorze",
          "Gdańsk Jasień",
          "Gdynia Dąbrowa",
          "Gdańsk Jasień",
          "Gdańsk Wrzeszcz",
          "Gdańsk Wrzeszcz",
          "Gdańsk Osowa",
          "Gdańsk Zaspa",
          "Gdańsk Stogi",
          "Gdańsk Zakoniczyn",
          "Gdańsk Wrzeszcz",
          "Gdańsk Morena",
          "Gdynia Karwiny",
          "Sopot",
          "Gdynia Śródmieście",
          "Gdańsk Przymorze",
          "Gdańsk Karczemki",
          "Gdynia Karwiny",
          "Gdańsk Zaspa",
          "Sopot",
          "Gdańsk Wrzeszcz",
          "Gdańsk Śródmieście",
          "Gdańsk Morena",
          "Gdańsk Nowy Port",
          "Gdańsk Przymorze",
          "Gdańsk Przymorze",
          "Gdańsk Ujeścisko",
          "Gdynia Chwarzno-Wiczlino",
          "Gdynia Witomino",
          "Gdańsk Przymorze",
          "Gdańsk Śródmieście",
          "Gdynia Działki Leśne",
          "Gdańsk Jasień",
          "Gdańsk Chełm",
          "Gdańsk Żabianka",
          "Gdańsk Zaspa",
          "Gdańsk Siedlce",
          "Gdańsk Siedlce",
          "Gdańsk Orunia",
          "Gdynia Śródmieście",
          "Gdańsk Wrzeszcz",
          "Sopot",
          "Gdynia Wielki Kack",
          "Gdynia Karwiny",
          "Gdynia Chylonia",
          "Gdańsk Śródmieście",
          "Gdańsk Ujeścisko",
          "Gdańsk Stare Miasto",
          "Gdańsk Przymorze",
          "Gdańsk Jasień",
          "Gdańsk Wrzeszcz",
          "Gdynia Wzgórze Świętego Maksymiliana",
          "Sopot Przylesie",
          "Gdynia",
          "Gdańsk",
          "Gdynia Witomino",
          "Gdańsk Kokoszki",
          "Gdańsk Śródmieście",
          "Gdynia Witomino",
          "Gdynia Mały Kack",
          "Gdańsk Sobieszewo",
          "Gdańsk Ujeścisko",
          "Gdynia Wielki Kack",
          "Gdańsk Piecki",
          "Gdynia Wzgórze Świętego Maksymiliana",
          "Gdynia Redłowo",
          "Gdańsk Zaspa",
          "Gdynia Leszczynki",
          "Gdańsk Letnica",
          "Gdańsk Siedlce",
          "Gdańsk Śródmieście",
          "Gdańsk Przymorze",
          "Gdynia Dąbrowa",
          "Gdynia Obłuże",
          "Gdynia Cisowa",
          "Gdańsk Brzeźno",
          "Gdynia Orłowo",
          "Gdynia Leszczynki",
          "Gdańsk Suchanino",
          "Gdańsk Jasień",
          "Gdańsk Wrzeszcz",
          "Gdynia Babie Doły",
          "Gdańsk Brętowo",
          "Gdańsk Śródmieście",
          "Gdynia Witomino",
          "Gdańsk Śródmieście",
          "Gdynia Grabówek",
          "Gdańsk Przymorze",
          "Gdańsk Śródmieście",
          "Gdynia Śródmieście",
          "Gdynia Chylonia",
          "Gdańsk Karczemki",
          "Gdynia Chwarzno-Wiczlino",
          "Gdynia",
          "Sopot",
          "Gdańsk Oliwa",
          "Gdynia Działki Leśne",
          "Gdynia Karwiny",
          "Gdynia Śródmieście",
          "Sopot Kamienny Potok",
          "Gdynia Chylonia",
          "Gdańsk Śródmieście",
          "Gdynia Oksywie",
          "Gdynia Śródmieście",
          "Gdańsk Śródmieście",
          "Gdynia Śródmieście",
          "Gdańsk Orunia",
          "Gdynia Redłowo",
          "Gdańsk Orunia",
          "Gdańsk Stogi",
          "Gdańsk",
          "Gdańsk Zaspa",
          "Gdańsk Brzeźno",
          "Gdynia",
          "Gdynia Działki Leśne",
          "Gdańsk Chełm",
          "Gdańsk Zakoniczyn",
          "Gdynia Chwarzno-Wiczlino",
          "Gdańsk Przymorze",
          "Gdańsk Przymorze",
          "Gdynia Oksywie",
          "Gdańsk Śródmieście",
          "Gdynia Mały Kack",
          "Gdańsk Letnica",
          "Gdynia Wielki Kack",
          "Gdynia Karwiny",
          "Gdańsk Ujeścisko",
          "Gdańsk Śródmieście",
          "Gdańsk Chełm",
          "Gdańsk Chełm",
          "Gdańsk Morena",
          "Gdańsk Osowa",
          "Gdynia Oksywie",
          "Gdańsk Orunia",
          "Gdańsk Siedlce",
          "Gdańsk Wrzeszcz",
          "Gdańsk Brzeźno",
          "Gdańsk Wrzeszcz",
          "Gdańsk Wrzeszcz",
          "Gdynia Chylonia",
          "Sopot Sopot Dolny",
          "Gdynia Chylonia",
          "Gdańsk Morena",
          "Gdańsk Orunia",
          "Gdańsk Śródmieście",
          "Gdańsk Śródmieście",
          "Gdańsk Chełm",
          "Gdańsk Główne Miasto",
          "Gdańsk Sobieszewo",
          "Gdańsk Ujeścisko",
          "Gdańsk Niedźwiednik",
          "Gdańsk Śródmieście",
          "Gdańsk Letnica",
          "Gdańsk Sienna Grobla",
          "Gdańsk Chełm",
          "Gdynia Śródmieście",
          "Gdańsk Siedlce",
          "Gdańsk Letnica",
          "Gdańsk Śródmieście",
          "Gdynia Redłowo",
          "Gdańsk",
          "Gdynia Obłuże",
          "Gdynia Wzgórze Świętego Maksymiliana",
          "Gdynia Orłowo",
          "Gdańsk Orunia Górna",
          "Gdynia Obłuże",
          "Gdańsk Orunia Górna",
          "Gdańsk Żabianka",
          "Gdańsk Orunia",
          "Gdańsk Jasień",
          "Gdańsk Osowa",
          "Gdańsk Letnica",
          "Gdańsk Morena",
          "Gdańsk Przymorze",
          "Gdańsk VII Dwór",
          "Gdańsk Wrzeszcz",
          "Gdynia Leszczynki",
          "Sopot Sopot Górny",
          "Gdańsk Przymorze",
          "Gdańsk Piecki",
          "Gdynia Chwarzno-Wiczlino",
          "Gdańsk Ujeścisko",
          "Gdańsk Siedlce",
          "Gdańsk Wrzeszcz",
          "Gdańsk Żabianka",
          "Gdynia Śródmieście",
          "Gdańsk Piecki",
          "Gdynia Obłuże",
          "Gdańsk Suchanino",
          "Gdańsk Morena",
          "Gdynia Orłowo",
          "Gdynia Obłuże",
          "Gdańsk Jasień",
          "Gdańsk Morena",
          "Gdynia Śródmieście",
          "Gdynia Witomino",
          "Gdańsk Oliwa",
          "Gdynia Babie Doły",
          "Sopot",
          "Gdynia Mały Kack",
          "Gdynia Mały Kack",
          "Gdynia Redłowo",
          "Gdynia Wzgórze Świętego Maksymiliana",
          "Gdańsk Kowale",
          "Gdańsk Nowy Port",
          "Gdynia Karwiny",
          "Gdynia Karwiny",
          "Sopot Centrum",
          "Gdańsk Brzeźno",
          "Gdynia Demptowo",
          "Gdańsk Brzeźno",
          "Gdynia Chwarzno-Wiczlino",
          "Gdańsk Śródmieście",
          "Gdańsk Śródmieście",
          "Gdańsk Śródmieście",
          "Gdynia Śródmieście",
          "Gdańsk Wrzeszcz",
          "Gdańsk Orunia",
          "Gdańsk Jasień",
          "Sopot",
          "Gdynia Obłuże",
          "Gdynia Śródmieście",
          "Gdańsk Chełm",
          "Gdańsk Jasień",
          "Gdańsk Łostowice",
          "Gdańsk Jasień",
          "Gdynia Chylonia",
          "Gdańsk Jasień",
          "Gdańsk Jasień",
          "Gdańsk Śródmieście",
          "Gdańsk Przymorze",
          "Gdańsk Śródmieście",
          "Gdańsk Jasień",
          "Gdańsk Ujeścisko",
          "Gdańsk Letnica",
          "Gdynia Mały Kack",
          "Gdańsk Ujeścisko",
          "Gdynia Leszczynki",
          "Gdańsk Zakoniczyn",
          "Gdynia Witomino",
          "Gdańsk Przymorze",
          "Gdańsk Przymorze",
          "Gdańsk Ujeścisko",
          "Gdańsk Dolne Miasto",
          "Gdańsk Jasień",
          "Gdańsk Jasień",
          "Gdańsk Śródmieście",
          "Gdańsk Dolne Miasto",
          "Gdańsk Przymorze",
          "Gdańsk Jasień",
          "Gdańsk Jasień",
          "Gdańsk Wrzeszcz",
          "Gdynia Orłowo",
          "Gdynia Witomino",
          "Gdynia Witomino",
          "Gdynia Leszczynki",
          "Gdańsk Śródmieście",
          "Gdańsk Śródmieście",
          "Gdańsk Jasień",
          "Gdańsk Morena",
          "Gdańsk Śródmieście",
          "Gdańsk Wyspa Sobieszewska",
          "Gdańsk Sobieszewo",
          "Gdańsk Zakoniczyn",
          "Gdańsk Łostowice",
          "Gdańsk Młyniska",
          "Gdańsk Sobieszewo",
          "Gdańsk Suchanino",
          "Gdańsk Jasień",
          "Gdańsk",
          "Gdańsk Morena",
          "Gdańsk Kiełpinek",
          "Gdańsk Stogi",
          "Gdańsk Aniołki",
          "Gdańsk Orunia Górna",
          "Gdańsk Sobieszewo",
          "Gdańsk Letnica",
          "Gdańsk Orunia",
          "Gdynia Chylonia",
          "Gdańsk Przymorze",
          "Gdynia Dąbrowa",
          "Gdańsk Chełm",
          "Sopot",
          "Gdańsk Brzeźno",
          "Gdańsk Wrzeszcz",
          "Gdynia Leszczynki",
          "Gdynia Witomino",
          "Sopot Brodwino",
          "Gdynia Chylonia",
          "Gdańsk Przymorze",
          "Gdańsk Orunia Górna",
          "Sopot",
          "Gdynia Cisowa",
          "Gdańsk Przymorze",
          "Gdynia Leszczynki",
          "Gdynia Chylonia",
          "Gdańsk Letnica",
          "Gdańsk Śródmieście",
          "Gdynia Pogórze",
          "Gdynia Obłuże",
          "Sopot Sopot Dolny",
          "Gdynia Oksywie",
          "Gdynia Pogórze",
          "Gdańsk Stare Przedmieście",
          "Gdynia Śródmieście",
          "Gdynia Śródmieście",
          "Gdańsk Letnica",
          "Gdańsk Śródmieście",
          "Gdańsk Oliwa",
          "Gdynia Pogórze",
          "Gdańsk Morena",
          "Gdynia Dąbrowa",
          "Gdańsk Żabianka",
          "Gdynia Mały Kack",
          "Gdańsk Śródmieście",
          "Gdynia Śródmieście",
          "Gdynia Obłuże",
          "Gdańsk Letnica",
          "Gdańsk",
          "Gdańsk Letnica",
          "Gdynia Dąbrowa",
          "Gdańsk Letnica",
          "Gdańsk Stogi",
          "Gdynia Chylonia",
          "Gdynia Wzgórze Świętego Maksymiliana",
          "Gdańsk Osiedle Pogodne",
          "Gdańsk Nowy Port",
          "Gdańsk Siedlce",
          "Gdynia Grabówek",
          "Sopot",
          "Gdynia Wielki Kack",
          "Gdańsk Siedlce",
          "Gdynia Obłuże",
          "Gdańsk",
          "Gdańsk Śródmieście",
          "Gdańsk Zaspa",
          "Gdańsk Wrzeszcz",
          "Gdańsk Jasień",
          "Gdynia Oksywie",
          "Gdańsk Orunia",
          "Gdańsk Matemblewo",
          "Gdańsk Ujeścisko",
          "Sopot",
          "Gdańsk Osowa",
          "Gdańsk Karczemki",
          "Gdynia Karwiny",
          "Gdańsk Śródmieście",
          "Gdańsk Orunia",
          "Gdynia Wzgórze Świętego Maksymiliana",
          "Gdańsk Kiełpinek",
          "Gdynia Cisowa",
          "Gdańsk Letnica",
          "Gdańsk Żabianka",
          "Gdańsk Orunia Górna",
          "Gdynia Karwiny",
          "Gdańsk",
          "Gdańsk Młyniska",
          "Gdynia Dąbrowa",
          "Gdańsk Śródmieście",
          "Gdańsk Chełm",
          "Gdańsk Śródmieście",
          "Gdańsk Wrzeszcz",
          "Gdańsk Wrzeszcz",
          "Gdańsk Wrzeszcz",
          "Gdańsk Niedźwiednik",
          "Gdańsk Wrzeszcz",
          "Gdańsk Śródmieście",
          "Gdańsk Wrzeszcz",
          "Gdańsk Śródmieście",
          "Gdańsk Śródmieście",
          "Gdańsk",
          "Gdańsk Wrzeszcz",
          "Gdańsk Wrzeszcz",
          "Gdynia Śródmieście",
          "Gdańsk Wrzeszcz",
          "Gdynia Śródmieście",
          "Gdynia Śródmieście",
          "Gdańsk Zaspa",
          "Sopot Kamienny Potok",
          "Gdynia Witomino",
          "Gdynia Grabówek",
          "Gdańsk Wrzeszcz",
          "Gdańsk Suchanino",
          "Gdańsk Stare Miasto",
          "Gdynia Leszczynki",
          "Gdańsk Jelitkowo",
          "Gdańsk Śródmieście",
          "Gdynia Orłowo",
          "Gdynia Wzgórze Świętego Maksymiliana",
          "Gdańsk Letnica",
          "Gdańsk Wrzeszcz",
          "Gdynia Orłowo",
          "Gdynia Mały Kack",
          "Gdańsk Śródmieście",
          "Gdynia Działki Leśne",
          "Sopot",
          "Gdańsk Śródmieście",
          "Gdańsk Przeróbka",
          "Gdańsk Przymorze",
          "Gdańsk Przeróbka",
          "Sopot Sopot Dolny",
          "Gdańsk Zakoniczyn",
          "Gdańsk Łostowice",
          "Gdynia Leszczynki",
          "Gdańsk Śródmieście",
          "Gdynia Kamienna Góra",
          "Gdańsk Śródmieście",
          "Gdańsk Śródmieście",
          "Gdańsk Śródmieście",
          "Gdańsk Śródmieście",
          "Sopot Kamienny Potok",
          "Gdańsk Łostowice",
          "Gdańsk Łostowice",
          "Gdańsk Śródmieście",
          "Gdańsk Żabianka",
          "Gdańsk Nowy Port",
          "Gdańsk Wrzeszcz",
          "Gdańsk Ujeścisko",
          "Gdynia Śródmieście",
          "Sopot Brodwino",
          "Gdańsk Śródmieście",
          "Gdańsk Przymorze",
          "Gdańsk Zabornia",
          "Gdańsk Zaspa",
          "Gdańsk Przymorze",
          "Gdańsk Śródmieście",
          "Gdańsk Śródmieście",
          "Gdańsk Orunia",
          "Gdańsk Dolne Miasto",
          "Gdańsk Śródmieście",
          "Gdańsk Orunia",
          "Gdańsk Przymorze",
          "Gdańsk Przymorze",
          "Gdańsk Łostowice",
          "Gdańsk Stare Miasto",
          "Gdańsk Przymorze",
          "Gdańsk",
          "Gdańsk Wrzeszcz",
          "Gdańsk Śródmieście",
          "Gdańsk Nowy Port",
          "Gdańsk Oliwa",
          "Gdańsk Przymorze",
          "Gdynia Śródmieście",
          "Gdynia Grabówek",
          "Gdynia Śródmieście",
          "Gdynia Chwarzno-Wiczlino",
          "Gdańsk Śródmieście",
          "Sopot Sopot Dolny",
          "Gdańsk Śródmieście",
          "Gdańsk Śródmieście",
          "Gdynia Chwarzno-Wiczlino",
          "Gdańsk Śródmieście",
          "Gdynia Chylonia",
          "Gdynia Działki Leśne",
          "Gdańsk Śródmieście",
          "Gdańsk Śródmieście",
          "Gdańsk Śródmieście",
          "Gdańsk Przymorze",
          "Gdańsk Główne Miasto",
          "Gdańsk Oliwa",
          "Gdańsk",
          "Gdańsk",
          "Gdańsk Siedlce",
          "Gdańsk Ujeścisko",
          "Sopot Sopot Dolny",
          "Gdynia Działki Leśne",
          "Gdańsk",
          "Gdańsk Ujeścisko",
          "Gdynia Grabówek",
          "Gdynia Obłuże",
          "Gdańsk Chełm",
          "Gdańsk Kiełpinek",
          "Gdynia Chwarzno-Wiczlino",
          "Gdańsk Śródmieście",
          "Sopot Sopot Górny",
          "Gdynia Oksywie",
          "Gdynia Leszczynki",
          "Gdańsk Zaspa",
          "Gdynia Kamienna Góra",
          "Gdynia Działki Leśne",
          "Gdańsk Jasień",
          "Gdańsk Śródmieście",
          "Sopot Centrum",
          "Gdynia Obłuże",
          "Gdynia Śródmieście",
          "Gdańsk Letnica",
          "Gdańsk Śródmieście",
          "Gdańsk Śródmieście",
          "Gdańsk Przymorze",
          "Gdańsk Piecki",
          "Gdańsk Przymorze",
          "Sopot",
          "Gdynia Orłowo",
          "Gdańsk Morena",
          "Gdańsk Śródmieście",
          "Gdańsk Jasień",
          "Gdańsk Jasień",
          "Sopot",
          "Gdańsk Jasień",
          "Gdańsk Barniewice",
          "Gdańsk Barniewice",
          "Gdańsk Barniewice",
          "Gdańsk Barniewice",
          "Gdańsk Śródmieście",
          "Gdańsk Barniewice",
          "Gdańsk Śródmieście",
          "Gdańsk Ujeścisko",
          "Gdańsk Łostowice",
          "Gdańsk Letnica",
          "Gdańsk Strzyża",
          "Gdańsk Orlinki",
          "Gdańsk Łostowice",
          "Gdańsk Morena",
          "Gdańsk Letnica",
          "Gdańsk Sobieszewo",
          "Gdańsk Sobieszewo",
          "Gdańsk Śródmieście",
          "Gdynia Śródmieście",
          "Gdynia Śródmieście",
          "Gdynia Grabówek",
          "Gdańsk Kowale",
          "Gdynia Chwarzno-Wiczlino",
          "Gdańsk Przymorze",
          "Gdynia Dąbrowa",
          "Gdańsk",
          "Sopot Sopot Dolny",
          "Gdańsk Wrzeszcz",
          "Gdynia Kamienna Góra",
          "Gdańsk Oliwa",
          "Gdańsk Śródmieście",
          "Gdańsk Jelitkowo",
          "Gdańsk Matarnia",
          "Gdańsk Wrzeszcz",
          "Gdańsk Śródmieście",
          "Gdańsk Śródmieście",
          "Gdańsk Suchanino",
          "Gdańsk Brzeźno",
          "Gdańsk Śródmieście",
          "Gdańsk Letnica",
          "Gdańsk Brzeźno",
          "Gdańsk Nowy Port",
          "Gdańsk",
          "Gdańsk Siedlce",
          "Gdańsk Przymorze",
          "Gdańsk Śródmieście",
          "Gdańsk Śródmieście",
          "Gdańsk Wrzeszcz",
          "Gdańsk Śródmieście",
          "Gdańsk Wrzeszcz",
          "Gdańsk Śródmieście",
          "Gdańsk Jasień",
          "Gdańsk Wrzeszcz",
          "Gdańsk Stare Miasto",
          "Gdańsk Sobieszewo",
          "Gdańsk Śródmieście",
          "Gdańsk Główne Miasto",
          "Gdańsk Oliwa",
          "Gdynia Śródmieście",
          "Gdańsk Morena",
          "Gdańsk Śródmieście",
          "Gdańsk Stare Miasto",
          "Sopot",
          "Gdynia Wielki Kack",
          "Gdańsk Siedlce"
         ],
         "x0": " ",
         "xaxis": "x",
         "y": {
          "bdata": "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",
          "dtype": "f8"
         },
         "y0": " ",
         "yaxis": "y"
        }
       ],
       "layout": {
        "boxmode": "group",
        "height": 700,
        "legend": {
         "tracegroupgap": 0
        },
        "template": {
         "data": {
          "bar": [
           {
            "error_x": {
             "color": "#2a3f5f"
            },
            "error_y": {
             "color": "#2a3f5f"
            },
            "marker": {
             "line": {
              "color": "white",
              "width": 0.5
             },
             "pattern": {
              "fillmode": "overlay",
              "size": 10,
              "solidity": 0.2
             }
            },
            "type": "bar"
           }
          ],
          "barpolar": [
           {
            "marker": {
             "line": {
              "color": "white",
              "width": 0.5
             },
             "pattern": {
              "fillmode": "overlay",
              "size": 10,
              "solidity": 0.2
             }
            },
            "type": "barpolar"
           }
          ],
          "carpet": [
           {
            "aaxis": {
             "endlinecolor": "#2a3f5f",
             "gridcolor": "#C8D4E3",
             "linecolor": "#C8D4E3",
             "minorgridcolor": "#C8D4E3",
             "startlinecolor": "#2a3f5f"
            },
            "baxis": {
             "endlinecolor": "#2a3f5f",
             "gridcolor": "#C8D4E3",
             "linecolor": "#C8D4E3",
             "minorgridcolor": "#C8D4E3",
             "startlinecolor": "#2a3f5f"
            },
            "type": "carpet"
           }
          ],
          "choropleth": [
           {
            "colorbar": {
             "outlinewidth": 0,
             "ticks": ""
            },
            "type": "choropleth"
           }
          ],
          "contour": [
           {
            "colorbar": {
             "outlinewidth": 0,
             "ticks": ""
            },
            "colorscale": [
             [
              0,
              "#0d0887"
             ],
             [
              0.1111111111111111,
              "#46039f"
             ],
             [
              0.2222222222222222,
              "#7201a8"
             ],
             [
              0.3333333333333333,
              "#9c179e"
             ],
             [
              0.4444444444444444,
              "#bd3786"
             ],
             [
              0.5555555555555556,
              "#d8576b"
             ],
             [
              0.6666666666666666,
              "#ed7953"
             ],
             [
              0.7777777777777778,
              "#fb9f3a"
             ],
             [
              0.8888888888888888,
              "#fdca26"
             ],
             [
              1,
              "#f0f921"
             ]
            ],
            "type": "contour"
           }
          ],
          "contourcarpet": [
           {
            "colorbar": {
             "outlinewidth": 0,
             "ticks": ""
            },
            "type": "contourcarpet"
           }
          ],
          "heatmap": [
           {
            "colorbar": {
             "outlinewidth": 0,
             "ticks": ""
            },
            "colorscale": [
             [
              0,
              "#0d0887"
             ],
             [
              0.1111111111111111,
              "#46039f"
             ],
             [
              0.2222222222222222,
              "#7201a8"
             ],
             [
              0.3333333333333333,
              "#9c179e"
             ],
             [
              0.4444444444444444,
              "#bd3786"
             ],
             [
              0.5555555555555556,
              "#d8576b"
             ],
             [
              0.6666666666666666,
              "#ed7953"
             ],
             [
              0.7777777777777778,
              "#fb9f3a"
             ],
             [
              0.8888888888888888,
              "#fdca26"
             ],
             [
              1,
              "#f0f921"
             ]
            ],
            "type": "heatmap"
           }
          ],
          "histogram": [
           {
            "marker": {
             "pattern": {
              "fillmode": "overlay",
              "size": 10,
              "solidity": 0.2
             }
            },
            "type": "histogram"
           }
          ],
          "histogram2d": [
           {
            "colorbar": {
             "outlinewidth": 0,
             "ticks": ""
            },
            "colorscale": [
             [
              0,
              "#0d0887"
             ],
             [
              0.1111111111111111,
              "#46039f"
             ],
             [
              0.2222222222222222,
              "#7201a8"
             ],
             [
              0.3333333333333333,
              "#9c179e"
             ],
             [
              0.4444444444444444,
              "#bd3786"
             ],
             [
              0.5555555555555556,
              "#d8576b"
             ],
             [
              0.6666666666666666,
              "#ed7953"
             ],
             [
              0.7777777777777778,
              "#fb9f3a"
             ],
             [
              0.8888888888888888,
              "#fdca26"
             ],
             [
              1,
              "#f0f921"
             ]
            ],
            "type": "histogram2d"
           }
          ],
          "histogram2dcontour": [
           {
            "colorbar": {
             "outlinewidth": 0,
             "ticks": ""
            },
            "colorscale": [
             [
              0,
              "#0d0887"
             ],
             [
              0.1111111111111111,
              "#46039f"
             ],
             [
              0.2222222222222222,
              "#7201a8"
             ],
             [
              0.3333333333333333,
              "#9c179e"
             ],
             [
              0.4444444444444444,
              "#bd3786"
             ],
             [
              0.5555555555555556,
              "#d8576b"
             ],
             [
              0.6666666666666666,
              "#ed7953"
             ],
             [
              0.7777777777777778,
              "#fb9f3a"
             ],
             [
              0.8888888888888888,
              "#fdca26"
             ],
             [
              1,
              "#f0f921"
             ]
            ],
            "type": "histogram2dcontour"
           }
          ],
          "mesh3d": [
           {
            "colorbar": {
             "outlinewidth": 0,
             "ticks": ""
            },
            "type": "mesh3d"
           }
          ],
          "parcoords": [
           {
            "line": {
             "colorbar": {
              "outlinewidth": 0,
              "ticks": ""
             }
            },
            "type": "parcoords"
           }
          ],
          "pie": [
           {
            "automargin": true,
            "type": "pie"
           }
          ],
          "scatter": [
           {
            "fillpattern": {
             "fillmode": "overlay",
             "size": 10,
             "solidity": 0.2
            },
            "type": "scatter"
           }
          ],
          "scatter3d": [
           {
            "line": {
             "colorbar": {
              "outlinewidth": 0,
              "ticks": ""
             }
            },
            "marker": {
             "colorbar": {
              "outlinewidth": 0,
              "ticks": ""
             }
            },
            "type": "scatter3d"
           }
          ],
          "scattercarpet": [
           {
            "marker": {
             "colorbar": {
              "outlinewidth": 0,
              "ticks": ""
             }
            },
            "type": "scattercarpet"
           }
          ],
          "scattergeo": [
           {
            "marker": {
             "colorbar": {
              "outlinewidth": 0,
              "ticks": ""
             }
            },
            "type": "scattergeo"
           }
          ],
          "scattergl": [
           {
            "marker": {
             "colorbar": {
              "outlinewidth": 0,
              "ticks": ""
             }
            },
            "type": "scattergl"
           }
          ],
          "scattermap": [
           {
            "marker": {
             "colorbar": {
              "outlinewidth": 0,
              "ticks": ""
             }
            },
            "type": "scattermap"
           }
          ],
          "scattermapbox": [
           {
            "marker": {
             "colorbar": {
              "outlinewidth": 0,
              "ticks": ""
             }
            },
            "type": "scattermapbox"
           }
          ],
          "scatterpolar": [
           {
            "marker": {
             "colorbar": {
              "outlinewidth": 0,
              "ticks": ""
             }
            },
            "type": "scatterpolar"
           }
          ],
          "scatterpolargl": [
           {
            "marker": {
             "colorbar": {
              "outlinewidth": 0,
              "ticks": ""
             }
            },
            "type": "scatterpolargl"
           }
          ],
          "scatterternary": [
           {
            "marker": {
             "colorbar": {
              "outlinewidth": 0,
              "ticks": ""
             }
            },
            "type": "scatterternary"
           }
          ],
          "surface": [
           {
            "colorbar": {
             "outlinewidth": 0,
             "ticks": ""
            },
            "colorscale": [
             [
              0,
              "#0d0887"
             ],
             [
              0.1111111111111111,
              "#46039f"
             ],
             [
              0.2222222222222222,
              "#7201a8"
             ],
             [
              0.3333333333333333,
              "#9c179e"
             ],
             [
              0.4444444444444444,
              "#bd3786"
             ],
             [
              0.5555555555555556,
              "#d8576b"
             ],
             [
              0.6666666666666666,
              "#ed7953"
             ],
             [
              0.7777777777777778,
              "#fb9f3a"
             ],
             [
              0.8888888888888888,
              "#fdca26"
             ],
             [
              1,
              "#f0f921"
             ]
            ],
            "type": "surface"
           }
          ],
          "table": [
           {
            "cells": {
             "fill": {
              "color": "#EBF0F8"
             },
             "line": {
              "color": "white"
             }
            },
            "header": {
             "fill": {
              "color": "#C8D4E3"
             },
             "line": {
              "color": "white"
             }
            },
            "type": "table"
           }
          ]
         },
         "layout": {
          "annotationdefaults": {
           "arrowcolor": "#2a3f5f",
           "arrowhead": 0,
           "arrowwidth": 1
          },
          "autotypenumbers": "strict",
          "coloraxis": {
           "colorbar": {
            "outlinewidth": 0,
            "ticks": ""
           }
          },
          "colorscale": {
           "diverging": [
            [
             0,
             "#8e0152"
            ],
            [
             0.1,
             "#c51b7d"
            ],
            [
             0.2,
             "#de77ae"
            ],
            [
             0.3,
             "#f1b6da"
            ],
            [
             0.4,
             "#fde0ef"
            ],
            [
             0.5,
             "#f7f7f7"
            ],
            [
             0.6,
             "#e6f5d0"
            ],
            [
             0.7,
             "#b8e186"
            ],
            [
             0.8,
             "#7fbc41"
            ],
            [
             0.9,
             "#4d9221"
            ],
            [
             1,
             "#276419"
            ]
           ],
           "sequential": [
            [
             0,
             "#0d0887"
            ],
            [
             0.1111111111111111,
             "#46039f"
            ],
            [
             0.2222222222222222,
             "#7201a8"
            ],
            [
             0.3333333333333333,
             "#9c179e"
            ],
            [
             0.4444444444444444,
             "#bd3786"
            ],
            [
             0.5555555555555556,
             "#d8576b"
            ],
            [
             0.6666666666666666,
             "#ed7953"
            ],
            [
             0.7777777777777778,
             "#fb9f3a"
            ],
            [
             0.8888888888888888,
             "#fdca26"
            ],
            [
             1,
             "#f0f921"
            ]
           ],
           "sequentialminus": [
            [
             0,
             "#0d0887"
            ],
            [
             0.1111111111111111,
             "#46039f"
            ],
            [
             0.2222222222222222,
             "#7201a8"
            ],
            [
             0.3333333333333333,
             "#9c179e"
            ],
            [
             0.4444444444444444,
             "#bd3786"
            ],
            [
             0.5555555555555556,
             "#d8576b"
            ],
            [
             0.6666666666666666,
             "#ed7953"
            ],
            [
             0.7777777777777778,
             "#fb9f3a"
            ],
            [
             0.8888888888888888,
             "#fdca26"
            ],
            [
             1,
             "#f0f921"
            ]
           ]
          },
          "colorway": [
           "#636efa",
           "#EF553B",
           "#00cc96",
           "#ab63fa",
           "#FFA15A",
           "#19d3f3",
           "#FF6692",
           "#B6E880",
           "#FF97FF",
           "#FECB52"
          ],
          "font": {
           "color": "#2a3f5f"
          },
          "geo": {
           "bgcolor": "white",
           "lakecolor": "white",
           "landcolor": "white",
           "showlakes": true,
           "showland": true,
           "subunitcolor": "#C8D4E3"
          },
          "hoverlabel": {
           "align": "left"
          },
          "hovermode": "closest",
          "mapbox": {
           "style": "light"
          },
          "paper_bgcolor": "white",
          "plot_bgcolor": "white",
          "polar": {
           "angularaxis": {
            "gridcolor": "#EBF0F8",
            "linecolor": "#EBF0F8",
            "ticks": ""
           },
           "bgcolor": "white",
           "radialaxis": {
            "gridcolor": "#EBF0F8",
            "linecolor": "#EBF0F8",
            "ticks": ""
           }
          },
          "scene": {
           "xaxis": {
            "backgroundcolor": "white",
            "gridcolor": "#DFE8F3",
            "gridwidth": 2,
            "linecolor": "#EBF0F8",
            "showbackground": true,
            "ticks": "",
            "zerolinecolor": "#EBF0F8"
           },
           "yaxis": {
            "backgroundcolor": "white",
            "gridcolor": "#DFE8F3",
            "gridwidth": 2,
            "linecolor": "#EBF0F8",
            "showbackground": true,
            "ticks": "",
            "zerolinecolor": "#EBF0F8"
           },
           "zaxis": {
            "backgroundcolor": "white",
            "gridcolor": "#DFE8F3",
            "gridwidth": 2,
            "linecolor": "#EBF0F8",
            "showbackground": true,
            "ticks": "",
            "zerolinecolor": "#EBF0F8"
           }
          },
          "shapedefaults": {
           "line": {
            "color": "#2a3f5f"
           }
          },
          "ternary": {
           "aaxis": {
            "gridcolor": "#DFE8F3",
            "linecolor": "#A2B1C6",
            "ticks": ""
           },
           "baxis": {
            "gridcolor": "#DFE8F3",
            "linecolor": "#A2B1C6",
            "ticks": ""
           },
           "bgcolor": "white",
           "caxis": {
            "gridcolor": "#DFE8F3",
            "linecolor": "#A2B1C6",
            "ticks": ""
           }
          },
          "title": {
           "x": 0.05
          },
          "xaxis": {
           "automargin": true,
           "gridcolor": "#EBF0F8",
           "linecolor": "#EBF0F8",
           "ticks": "",
           "title": {
            "standoff": 15
           },
           "zerolinecolor": "#EBF0F8",
           "zerolinewidth": 2
          },
          "yaxis": {
           "automargin": true,
           "gridcolor": "#EBF0F8",
           "linecolor": "#EBF0F8",
           "ticks": "",
           "title": {
            "standoff": 15
           },
           "zerolinecolor": "#EBF0F8",
           "zerolinewidth": 2
          }
         }
        },
        "title": {
         "text": "Rozkład cen na podstawie dzielnic w Trójmieście (bez outlierów)"
        },
        "width": 1400,
        "xaxis": {
         "anchor": "y",
         "domain": [
          0,
          1
         ],
         "tickangle": -45,
         "title": {
          "text": "locality"
         }
        },
        "yaxis": {
         "anchor": "x",
         "domain": [
          0,
          1
         ],
         "title": {
          "text": "price_total_zl_cleaned"
         }
        }
       }
      }
     },
     "metadata": {},
     "output_type": "display_data"
    }
   ],
   "source": [
    "fig = px.box(\n",
    "    df_filtered,\n",
    "    x='locality',\n",
    "    y='price_total_zl_cleaned',\n",
    "    title='Rozkład cen na podstawie dzielnic w Trójmieście (bez outlierów)',\n",
    "    hover_data=['city'],\n",
    "    width=1400,\n",
    "    height=700,\n",
    "    template='plotly_white'\n",
    ")\n",
    "fig.update_layout(xaxis_tickangle=-45)\n",
    "\n",
    "fig.show()\n",
    "pio.write_image(fig, \"box_plot_rozkładu_cen.pdf\")"
   ]
  },
  {
   "cell_type": "code",
   "execution_count": 19,
   "id": "e6ef5fef",
   "metadata": {},
   "outputs": [],
   "source": [
    "# Widzę, ze są dzielnice z dużym rozstrzałem cenowym, np. Sopot, gdynia Orłowo, Gdańsk Brzeźno"
   ]
  },
  {
   "cell_type": "code",
   "execution_count": 20,
   "id": "e0f7afcc",
   "metadata": {},
   "outputs": [
    {
     "data": {
      "application/vnd.plotly.v1+json": {
       "config": {
        "plotlyServerURL": "https://plot.ly"
       },
       "data": [
        {
         "customdata": [
          [
           "Gdańsk Jasień"
          ],
          [
           "Gdańsk Wrzeszcz"
          ],
          [
           "Gdańsk Morena"
          ],
          [
           "Gdańsk"
          ],
          [
           "Gdańsk Orunia"
          ],
          [
           "Gdańsk Przeróbka"
          ],
          [
           "Gdańsk Suchanino"
          ],
          [
           "Gdańsk Jasień"
          ],
          [
           "Gdańsk Przymorze"
          ],
          [
           "Gdańsk Przymorze"
          ],
          [
           "Gdańsk Wrzeszcz"
          ],
          [
           "Gdańsk Siedlce"
          ],
          [
           "Gdańsk Jasień"
          ],
          [
           "Gdańsk"
          ],
          [
           "Gdańsk Strzyża"
          ],
          [
           "Gdańsk Orunia Górna"
          ],
          [
           "Gdańsk Stogi"
          ],
          [
           "Gdańsk Orunia Górna"
          ],
          [
           "Gdańsk Orunia"
          ],
          [
           "Gdańsk Chełm"
          ],
          [
           "Gdańsk Jasień"
          ],
          [
           "Gdańsk Orunia Górna"
          ],
          [
           "Gdańsk Jasień"
          ],
          [
           "Gdańsk Przymorze"
          ],
          [
           "Gdańsk Letnica"
          ],
          [
           "Gdańsk Chełm"
          ],
          [
           "Gdańsk Śródmieście"
          ],
          [
           "Gdańsk Ujeścisko"
          ],
          [
           "Gdańsk Przymorze"
          ],
          [
           "Gdańsk Oliwa"
          ],
          [
           "Gdańsk Przymorze"
          ],
          [
           "Gdańsk Śródmieście"
          ],
          [
           "Gdańsk Ujeścisko"
          ],
          [
           "Gdańsk Letnica"
          ],
          [
           "Gdańsk Śródmieście"
          ],
          [
           "Gdańsk Przymorze"
          ],
          [
           "Gdańsk Przymorze"
          ],
          [
           "Gdańsk Ujeścisko"
          ],
          [
           "Gdańsk Wrzeszcz"
          ],
          [
           "Gdańsk Łostowice"
          ],
          [
           "Gdańsk Oliwa"
          ],
          [
           "Gdańsk Łostowice"
          ],
          [
           "Gdańsk Zaspa"
          ],
          [
           "Gdańsk"
          ],
          [
           "Gdańsk Zaspa"
          ],
          [
           "Gdańsk Oliwa"
          ],
          [
           "Gdańsk Letnica"
          ],
          [
           "Gdańsk Jasień"
          ],
          [
           "Gdańsk Ujeścisko"
          ],
          [
           "Gdańsk Jasień"
          ],
          [
           "Gdańsk Jasień"
          ],
          [
           "Gdańsk Przymorze"
          ],
          [
           "Gdańsk"
          ],
          [
           "Gdańsk Przymorze"
          ],
          [
           "Gdańsk Orunia"
          ],
          [
           "Gdańsk Śródmieście"
          ],
          [
           "Gdańsk Ujeścisko"
          ],
          [
           "Gdańsk Oliwa"
          ],
          [
           "Gdańsk Zaspa"
          ],
          [
           "Gdańsk Przymorze"
          ],
          [
           "Gdańsk Letnica"
          ],
          [
           "Gdańsk Suchanino"
          ],
          [
           "Gdańsk Przymorze"
          ],
          [
           "Gdańsk Przymorze"
          ],
          [
           "Gdańsk Przymorze"
          ],
          [
           "Gdańsk Wrzeszcz"
          ],
          [
           "Gdańsk Oliwa"
          ],
          [
           "Gdańsk Przymorze"
          ],
          [
           "Gdańsk Przymorze"
          ],
          [
           "Gdańsk Oliwa"
          ],
          [
           "Gdańsk Wrzeszcz"
          ],
          [
           "Gdańsk Wrzeszcz"
          ],
          [
           "Gdańsk Siedlce"
          ],
          [
           "Gdańsk Przymorze"
          ],
          [
           "Gdańsk Żabianka"
          ],
          [
           "Gdańsk Letnica"
          ],
          [
           "Gdańsk Letnica"
          ],
          [
           "Gdańsk Zaspa"
          ],
          [
           "Gdańsk Zaroślak"
          ],
          [
           "Gdańsk Zaspa"
          ],
          [
           "Gdańsk Przymorze"
          ],
          [
           "Gdańsk Jasień"
          ],
          [
           "Gdańsk Śródmieście"
          ],
          [
           "Gdańsk"
          ],
          [
           "Gdańsk Stare Miasto"
          ],
          [
           "Gdańsk Jasień"
          ],
          [
           "Gdańsk Oliwa"
          ],
          [
           "Gdańsk Brzeźno"
          ],
          [
           "Gdańsk Zaspa"
          ],
          [
           "Gdańsk Przymorze"
          ],
          [
           "Gdańsk Oliwa"
          ],
          [
           "Gdańsk Łostowice"
          ],
          [
           "Gdańsk Morena"
          ],
          [
           "Gdańsk Aniołki"
          ],
          [
           "Gdańsk Jasień"
          ],
          [
           "Gdańsk Wrzeszcz"
          ],
          [
           "Gdańsk Długie Ogrody"
          ],
          [
           "Gdańsk Siedlce"
          ],
          [
           "Gdańsk Śródmieście"
          ],
          [
           "Gdańsk Zaspa"
          ],
          [
           "Gdańsk Morena"
          ],
          [
           "Gdańsk Wrzeszcz"
          ],
          [
           "Gdańsk Łostowice"
          ],
          [
           "Gdańsk Brzeźno"
          ],
          [
           "Gdańsk Wyspa Sobieszewska"
          ],
          [
           "Gdańsk Żabianka"
          ],
          [
           "Gdańsk Jasień"
          ],
          [
           "Gdańsk Śródmieście"
          ],
          [
           "Gdańsk Letnica"
          ],
          [
           "Gdańsk Oliwa"
          ],
          [
           "Gdańsk Śródmieście"
          ],
          [
           "Gdańsk Jasień"
          ],
          [
           "Gdańsk Zaspa"
          ],
          [
           "Gdańsk Przymorze"
          ],
          [
           "Gdańsk Orunia Górna"
          ],
          [
           "Gdańsk Śródmieście"
          ],
          [
           "Gdańsk Suchanino"
          ],
          [
           "Gdańsk Śródmieście"
          ],
          [
           "Gdańsk Chełm"
          ],
          [
           "Gdańsk Jasień"
          ],
          [
           "Gdańsk Brzeźno"
          ],
          [
           "Gdańsk Żabianka"
          ],
          [
           "Gdańsk Łostowice"
          ],
          [
           "Gdańsk Przymorze"
          ],
          [
           "Gdańsk Orunia Górna"
          ],
          [
           "Gdańsk Brzeźno"
          ],
          [
           "Gdańsk Chełm"
          ],
          [
           "Gdańsk Śródmieście"
          ],
          [
           "Gdańsk Śródmieście"
          ],
          [
           "Gdańsk Łostowice"
          ],
          [
           "Gdańsk Śródmieście"
          ],
          [
           "Gdańsk Jasień"
          ],
          [
           "Gdańsk Stogi"
          ],
          [
           "Gdańsk Przymorze"
          ],
          [
           "Gdańsk Wrzeszcz"
          ],
          [
           "Gdańsk Piecki"
          ],
          [
           "Gdańsk Zaspa"
          ],
          [
           "Gdańsk Wrzeszcz"
          ],
          [
           "Gdańsk Łostowice"
          ],
          [
           "Gdańsk Morena"
          ],
          [
           "Gdańsk Zaspa"
          ],
          [
           "Gdańsk Śródmieście"
          ],
          [
           "Gdańsk Łostowice"
          ],
          [
           "Gdańsk Wrzeszcz"
          ],
          [
           "Gdańsk Śródmieście"
          ],
          [
           "Gdańsk Siedlce"
          ],
          [
           "Gdańsk Jasień"
          ],
          [
           "Gdańsk Jelitkowo"
          ],
          [
           "Gdańsk Jasień"
          ],
          [
           "Gdańsk Oliwa"
          ],
          [
           "Gdańsk Orunia"
          ],
          [
           "Gdańsk Morena"
          ],
          [
           "Gdańsk Wrzeszcz"
          ],
          [
           "Gdańsk Śródmieście"
          ],
          [
           "Gdańsk Morena"
          ],
          [
           "Gdańsk Osowa"
          ],
          [
           "Gdańsk Kokoszki"
          ],
          [
           "Gdańsk Przymorze"
          ],
          [
           "Gdańsk Wrzeszcz"
          ],
          [
           "Gdańsk Brzeźno"
          ],
          [
           "Gdańsk Niedźwiednik"
          ],
          [
           "Gdańsk Przymorze"
          ],
          [
           "Gdańsk Ujeścisko"
          ],
          [
           "Gdańsk Suchanino"
          ],
          [
           "Gdańsk Jasień"
          ],
          [
           "Gdańsk Jelitkowo"
          ],
          [
           "Gdańsk Brzeźno"
          ],
          [
           "Gdańsk Letnica"
          ],
          [
           "Gdańsk Wrzeszcz"
          ],
          [
           "Gdańsk Śródmieście"
          ],
          [
           "Gdańsk"
          ],
          [
           "Gdańsk Śródmieście"
          ],
          [
           "Gdańsk Osowa"
          ],
          [
           "Gdańsk Oliwa"
          ],
          [
           "Gdańsk Zakoniczyn"
          ],
          [
           "Gdańsk Śródmieście"
          ],
          [
           "Gdańsk Śródmieście"
          ],
          [
           "Gdańsk"
          ],
          [
           "Gdańsk Zaspa"
          ],
          [
           "Gdańsk Zaspa"
          ],
          [
           "Gdańsk Śródmieście"
          ],
          [
           "Gdańsk Młyniska"
          ],
          [
           "Gdańsk Ujeścisko"
          ],
          [
           "Gdańsk Wrzeszcz"
          ],
          [
           "Gdańsk Ujeścisko"
          ],
          [
           "Gdańsk Przeróbka"
          ],
          [
           "Gdańsk Nowy Port"
          ],
          [
           "Gdańsk Kokoszki"
          ],
          [
           "Gdańsk Aniołki"
          ],
          [
           "Gdańsk Brzeźno"
          ],
          [
           "Gdańsk Przymorze"
          ],
          [
           "Gdańsk Przymorze"
          ],
          [
           "Gdańsk Aniołki"
          ],
          [
           "Gdańsk Brzeźno"
          ],
          [
           "Gdańsk Wrzeszcz"
          ],
          [
           "Gdańsk Młyniska"
          ],
          [
           "Gdańsk Stogi"
          ],
          [
           "Gdańsk Chełm"
          ],
          [
           "Gdańsk Śródmieście"
          ],
          [
           "Gdańsk Śródmieście"
          ],
          [
           "Gdańsk Przymorze"
          ],
          [
           "Gdańsk Kokoszki"
          ],
          [
           "Gdańsk Siedlce"
          ],
          [
           "Gdańsk Przymorze"
          ],
          [
           "Gdańsk Przymorze"
          ],
          [
           "Gdańsk Jasień"
          ],
          [
           "Gdańsk Przymorze"
          ],
          [
           "Gdańsk Przymorze"
          ],
          [
           "Gdańsk Strzyża"
          ],
          [
           "Gdańsk Jasień"
          ],
          [
           "Gdańsk Piecki"
          ],
          [
           "Gdańsk Przymorze"
          ],
          [
           "Gdańsk Przymorze"
          ],
          [
           "Gdańsk Ujeścisko"
          ],
          [
           "Gdańsk Oliwa"
          ],
          [
           "Gdańsk Wrzeszcz"
          ],
          [
           "Gdańsk Wrzeszcz"
          ],
          [
           "Gdańsk Przymorze"
          ],
          [
           "Gdańsk Zakoniczyn"
          ],
          [
           "Gdańsk Chełm"
          ],
          [
           "Gdańsk Wrzeszcz"
          ],
          [
           "Gdańsk Przymorze"
          ],
          [
           "Gdańsk Orunia"
          ],
          [
           "Gdańsk Morena"
          ],
          [
           "Gdańsk Zakoniczyn"
          ],
          [
           "Gdańsk Wrzeszcz"
          ],
          [
           "Gdańsk Łostowice"
          ],
          [
           "Gdańsk Wrzeszcz"
          ],
          [
           "Gdańsk Wrzeszcz"
          ],
          [
           "Gdańsk Przymorze"
          ],
          [
           "Gdańsk Oliwa"
          ],
          [
           "Gdańsk Zakoniczyn"
          ],
          [
           "Gdańsk Jasień"
          ],
          [
           "Gdańsk Śródmieście"
          ],
          [
           "Gdańsk Morena"
          ],
          [
           "Gdańsk Przymorze"
          ],
          [
           "Gdańsk Przymorze"
          ],
          [
           "Gdańsk Wrzeszcz"
          ],
          [
           "Gdańsk Śródmieście"
          ],
          [
           "Gdańsk Przymorze"
          ],
          [
           "Gdańsk Ujeścisko"
          ],
          [
           "Gdańsk Orunia Górna"
          ],
          [
           "Gdańsk Przymorze"
          ],
          [
           "Gdańsk Wrzeszcz"
          ],
          [
           "Gdańsk Wrzeszcz"
          ],
          [
           "Gdańsk"
          ],
          [
           "Gdańsk Wrzeszcz"
          ],
          [
           "Gdańsk Przymorze"
          ],
          [
           "Gdańsk Przymorze"
          ],
          [
           "Gdańsk Przymorze"
          ],
          [
           "Gdańsk Zaspa"
          ],
          [
           "Gdańsk Śródmieście"
          ],
          [
           "Gdańsk Śródmieście"
          ],
          [
           "Gdańsk Śródmieście"
          ],
          [
           "Gdańsk Śródmieście"
          ],
          [
           "Gdańsk Żabianka"
          ],
          [
           "Gdańsk Wrzeszcz"
          ],
          [
           "Gdańsk Orunia Górna"
          ],
          [
           "Gdańsk Przymorze"
          ],
          [
           "Gdańsk Śródmieście"
          ],
          [
           "Gdańsk Przymorze"
          ],
          [
           "Gdańsk Przymorze"
          ],
          [
           "Gdańsk Przymorze"
          ],
          [
           "Gdańsk Zakoniczyn"
          ],
          [
           "Gdańsk Śródmieście"
          ],
          [
           "Gdańsk Wrzeszcz"
          ],
          [
           "Gdańsk Przymorze"
          ],
          [
           "Gdańsk Wrzeszcz"
          ],
          [
           "Gdańsk Kiełpinek"
          ],
          [
           "Gdańsk Suchanino"
          ],
          [
           "Gdańsk Jelitkowo"
          ],
          [
           "Gdańsk Wrzeszcz"
          ],
          [
           "Gdańsk Siedlce"
          ],
          [
           "Gdańsk Chełm"
          ],
          [
           "Gdańsk Śródmieście"
          ],
          [
           "Gdańsk Wrzeszcz"
          ],
          [
           "Gdańsk Jasień"
          ],
          [
           "Gdańsk Śródmieście"
          ],
          [
           "Gdańsk Ujeścisko"
          ],
          [
           "Gdańsk Wrzeszcz"
          ],
          [
           "Gdańsk Przeróbka"
          ],
          [
           "Gdańsk Siedlce"
          ],
          [
           "Gdańsk Zaspa"
          ],
          [
           "Gdańsk Przymorze"
          ],
          [
           "Gdańsk Jasień"
          ],
          [
           "Gdańsk Jasień"
          ],
          [
           "Gdańsk Wrzeszcz"
          ],
          [
           "Gdańsk Wrzeszcz"
          ],
          [
           "Gdańsk Osowa"
          ],
          [
           "Gdańsk Zaspa"
          ],
          [
           "Gdańsk Stogi"
          ],
          [
           "Gdańsk Zakoniczyn"
          ],
          [
           "Gdańsk Wrzeszcz"
          ],
          [
           "Gdańsk Morena"
          ],
          [
           "Gdańsk Przymorze"
          ],
          [
           "Gdańsk Karczemki"
          ],
          [
           "Gdańsk Zaspa"
          ],
          [
           "Gdańsk Wrzeszcz"
          ],
          [
           "Gdańsk Śródmieście"
          ],
          [
           "Gdańsk Morena"
          ],
          [
           "Gdańsk Nowy Port"
          ],
          [
           "Gdańsk Przymorze"
          ],
          [
           "Gdańsk Przymorze"
          ],
          [
           "Gdańsk Ujeścisko"
          ],
          [
           "Gdańsk Przymorze"
          ],
          [
           "Gdańsk Śródmieście"
          ],
          [
           "Gdańsk Jasień"
          ],
          [
           "Gdańsk Chełm"
          ],
          [
           "Gdańsk Żabianka"
          ],
          [
           "Gdańsk Zaspa"
          ],
          [
           "Gdańsk Siedlce"
          ],
          [
           "Gdańsk Siedlce"
          ],
          [
           "Gdańsk Orunia"
          ],
          [
           "Gdańsk Wrzeszcz"
          ],
          [
           "Gdańsk Śródmieście"
          ],
          [
           "Gdańsk Ujeścisko"
          ],
          [
           "Gdańsk Stare Miasto"
          ],
          [
           "Gdańsk Przymorze"
          ],
          [
           "Gdańsk Jasień"
          ],
          [
           "Gdańsk Wrzeszcz"
          ],
          [
           "Gdańsk"
          ],
          [
           "Gdańsk Kokoszki"
          ],
          [
           "Gdańsk Śródmieście"
          ],
          [
           "Gdańsk Sobieszewo"
          ],
          [
           "Gdańsk Ujeścisko"
          ],
          [
           "Gdańsk Piecki"
          ],
          [
           "Gdańsk Zaspa"
          ],
          [
           "Gdańsk Letnica"
          ],
          [
           "Gdańsk Siedlce"
          ],
          [
           "Gdańsk Śródmieście"
          ],
          [
           "Gdańsk Przymorze"
          ],
          [
           "Gdańsk Brzeźno"
          ],
          [
           "Gdańsk Suchanino"
          ],
          [
           "Gdańsk Jasień"
          ],
          [
           "Gdańsk Wrzeszcz"
          ],
          [
           "Gdańsk Brętowo"
          ],
          [
           "Gdańsk Śródmieście"
          ],
          [
           "Gdańsk Śródmieście"
          ],
          [
           "Gdańsk Przymorze"
          ],
          [
           "Gdańsk Śródmieście"
          ],
          [
           "Gdańsk Karczemki"
          ],
          [
           "Gdańsk Oliwa"
          ],
          [
           "Gdańsk Śródmieście"
          ],
          [
           "Gdańsk Śródmieście"
          ],
          [
           "Gdańsk Orunia"
          ],
          [
           "Gdańsk Orunia"
          ],
          [
           "Gdańsk Stogi"
          ],
          [
           "Gdańsk"
          ],
          [
           "Gdańsk Zaspa"
          ],
          [
           "Gdańsk Brzeźno"
          ],
          [
           "Gdańsk Chełm"
          ],
          [
           "Gdańsk Zakoniczyn"
          ],
          [
           "Gdańsk Przymorze"
          ],
          [
           "Gdańsk Przymorze"
          ],
          [
           "Gdańsk Śródmieście"
          ],
          [
           "Gdańsk Letnica"
          ],
          [
           "Gdańsk Ujeścisko"
          ],
          [
           "Gdańsk Śródmieście"
          ],
          [
           "Gdańsk Chełm"
          ],
          [
           "Gdańsk Chełm"
          ],
          [
           "Gdańsk Morena"
          ],
          [
           "Gdańsk Osowa"
          ],
          [
           "Gdańsk Orunia"
          ],
          [
           "Gdańsk Siedlce"
          ],
          [
           "Gdańsk Wrzeszcz"
          ],
          [
           "Gdańsk Brzeźno"
          ],
          [
           "Gdańsk Wrzeszcz"
          ],
          [
           "Gdańsk Wrzeszcz"
          ],
          [
           "Gdańsk Morena"
          ],
          [
           "Gdańsk Orunia"
          ],
          [
           "Gdańsk Śródmieście"
          ],
          [
           "Gdańsk Śródmieście"
          ],
          [
           "Gdańsk Chełm"
          ],
          [
           "Gdańsk Główne Miasto"
          ],
          [
           "Gdańsk Sobieszewo"
          ],
          [
           "Gdańsk Ujeścisko"
          ],
          [
           "Gdańsk Niedźwiednik"
          ],
          [
           "Gdańsk Śródmieście"
          ],
          [
           "Gdańsk Letnica"
          ],
          [
           "Gdańsk Sienna Grobla"
          ],
          [
           "Gdańsk Chełm"
          ],
          [
           "Gdańsk Siedlce"
          ],
          [
           "Gdańsk Letnica"
          ],
          [
           "Gdańsk Śródmieście"
          ],
          [
           "Gdańsk"
          ],
          [
           "Gdańsk Orunia Górna"
          ],
          [
           "Gdańsk Orunia Górna"
          ],
          [
           "Gdańsk Żabianka"
          ],
          [
           "Gdańsk Orunia"
          ],
          [
           "Gdańsk Jasień"
          ],
          [
           "Gdańsk Osowa"
          ],
          [
           "Gdańsk Letnica"
          ],
          [
           "Gdańsk Morena"
          ],
          [
           "Gdańsk Przymorze"
          ],
          [
           "Gdańsk VII Dwór"
          ],
          [
           "Gdańsk Wrzeszcz"
          ],
          [
           "Gdańsk Przymorze"
          ],
          [
           "Gdańsk Piecki"
          ],
          [
           "Gdańsk Ujeścisko"
          ],
          [
           "Gdańsk Siedlce"
          ],
          [
           "Gdańsk Wrzeszcz"
          ],
          [
           "Gdańsk Żabianka"
          ],
          [
           "Gdańsk Piecki"
          ],
          [
           "Gdańsk Suchanino"
          ],
          [
           "Gdańsk Morena"
          ],
          [
           "Gdańsk Jasień"
          ],
          [
           "Gdańsk Morena"
          ],
          [
           "Gdańsk Oliwa"
          ],
          [
           "Gdańsk Kowale"
          ],
          [
           "Gdańsk Nowy Port"
          ],
          [
           "Gdańsk Brzeźno"
          ],
          [
           "Gdańsk Brzeźno"
          ],
          [
           "Gdańsk Śródmieście"
          ],
          [
           "Gdańsk Śródmieście"
          ],
          [
           "Gdańsk Śródmieście"
          ],
          [
           "Gdańsk Wrzeszcz"
          ],
          [
           "Gdańsk Orunia"
          ],
          [
           "Gdańsk Jasień"
          ],
          [
           "Gdańsk Chełm"
          ],
          [
           "Gdańsk Jasień"
          ],
          [
           "Gdańsk Łostowice"
          ],
          [
           "Gdańsk Jasień"
          ],
          [
           "Gdańsk Jasień"
          ],
          [
           "Gdańsk Jasień"
          ],
          [
           "Gdańsk Śródmieście"
          ],
          [
           "Gdańsk Przymorze"
          ],
          [
           "Gdańsk Śródmieście"
          ],
          [
           "Gdańsk Jasień"
          ],
          [
           "Gdańsk Ujeścisko"
          ],
          [
           "Gdańsk Letnica"
          ],
          [
           "Gdańsk Ujeścisko"
          ],
          [
           "Gdańsk Zakoniczyn"
          ],
          [
           "Gdańsk Przymorze"
          ],
          [
           "Gdańsk Przymorze"
          ],
          [
           "Gdańsk Ujeścisko"
          ],
          [
           "Gdańsk Dolne Miasto"
          ],
          [
           "Gdańsk Jasień"
          ],
          [
           "Gdańsk Jasień"
          ],
          [
           "Gdańsk Śródmieście"
          ],
          [
           "Gdańsk Dolne Miasto"
          ],
          [
           "Gdańsk Przymorze"
          ],
          [
           "Gdańsk Jasień"
          ],
          [
           "Gdańsk Jasień"
          ],
          [
           "Gdańsk Wrzeszcz"
          ],
          [
           "Gdańsk Śródmieście"
          ],
          [
           "Gdańsk Śródmieście"
          ],
          [
           "Gdańsk Jasień"
          ],
          [
           "Gdańsk Morena"
          ],
          [
           "Gdańsk Śródmieście"
          ],
          [
           "Gdańsk Wyspa Sobieszewska"
          ],
          [
           "Gdańsk Sobieszewo"
          ],
          [
           "Gdańsk Zakoniczyn"
          ],
          [
           "Gdańsk Łostowice"
          ],
          [
           "Gdańsk Młyniska"
          ],
          [
           "Gdańsk Sobieszewo"
          ],
          [
           "Gdańsk Suchanino"
          ],
          [
           "Gdańsk Jasień"
          ],
          [
           "Gdańsk"
          ],
          [
           "Gdańsk Morena"
          ],
          [
           "Gdańsk Kiełpinek"
          ],
          [
           "Gdańsk Stogi"
          ],
          [
           "Gdańsk Aniołki"
          ],
          [
           "Gdańsk Orunia Górna"
          ],
          [
           "Gdańsk Sobieszewo"
          ],
          [
           "Gdańsk Letnica"
          ],
          [
           "Gdańsk Orunia"
          ],
          [
           "Gdańsk Przymorze"
          ],
          [
           "Gdańsk Chełm"
          ],
          [
           "Gdańsk Brzeźno"
          ],
          [
           "Gdańsk Wrzeszcz"
          ],
          [
           "Gdańsk Przymorze"
          ],
          [
           "Gdańsk Orunia Górna"
          ],
          [
           "Gdańsk Przymorze"
          ],
          [
           "Gdańsk Letnica"
          ],
          [
           "Gdańsk Śródmieście"
          ],
          [
           "Gdańsk Stare Przedmieście"
          ],
          [
           "Gdańsk Letnica"
          ],
          [
           "Gdańsk Śródmieście"
          ],
          [
           "Gdańsk Oliwa"
          ],
          [
           "Gdańsk Morena"
          ],
          [
           "Gdańsk Żabianka"
          ],
          [
           "Gdańsk Śródmieście"
          ],
          [
           "Gdańsk Letnica"
          ],
          [
           "Gdańsk"
          ],
          [
           "Gdańsk Letnica"
          ],
          [
           "Gdańsk Letnica"
          ],
          [
           "Gdańsk Stogi"
          ],
          [
           "Gdańsk Osiedle Pogodne"
          ],
          [
           "Gdańsk Nowy Port"
          ],
          [
           "Gdańsk Siedlce"
          ],
          [
           "Gdańsk Siedlce"
          ],
          [
           "Gdańsk"
          ],
          [
           "Gdańsk Śródmieście"
          ],
          [
           "Gdańsk Zaspa"
          ],
          [
           "Gdańsk Wrzeszcz"
          ],
          [
           "Gdańsk Jasień"
          ],
          [
           "Gdańsk Orunia"
          ],
          [
           "Gdańsk Matemblewo"
          ],
          [
           "Gdańsk Ujeścisko"
          ],
          [
           "Gdańsk Osowa"
          ],
          [
           "Gdańsk Karczemki"
          ],
          [
           "Gdańsk Śródmieście"
          ],
          [
           "Gdańsk Orunia"
          ],
          [
           "Gdańsk Kiełpinek"
          ],
          [
           "Gdańsk Letnica"
          ],
          [
           "Gdańsk Żabianka"
          ],
          [
           "Gdańsk Orunia Górna"
          ],
          [
           "Gdańsk"
          ],
          [
           "Gdańsk Młyniska"
          ],
          [
           "Gdańsk Śródmieście"
          ],
          [
           "Gdańsk Chełm"
          ],
          [
           "Gdańsk Śródmieście"
          ],
          [
           "Gdańsk Wrzeszcz"
          ],
          [
           "Gdańsk Wrzeszcz"
          ],
          [
           "Gdańsk Wrzeszcz"
          ],
          [
           "Gdańsk Niedźwiednik"
          ],
          [
           "Gdańsk Wrzeszcz"
          ],
          [
           "Gdańsk Śródmieście"
          ],
          [
           "Gdańsk Wrzeszcz"
          ],
          [
           "Gdańsk Śródmieście"
          ],
          [
           "Gdańsk Śródmieście"
          ],
          [
           "Gdańsk"
          ],
          [
           "Gdańsk Wrzeszcz"
          ],
          [
           "Gdańsk Wrzeszcz"
          ],
          [
           "Gdańsk Wrzeszcz"
          ],
          [
           "Gdańsk Zaspa"
          ],
          [
           "Gdańsk Wrzeszcz"
          ],
          [
           "Gdańsk Suchanino"
          ],
          [
           "Gdańsk Stare Miasto"
          ],
          [
           "Gdańsk Jelitkowo"
          ],
          [
           "Gdańsk Śródmieście"
          ],
          [
           "Gdańsk Letnica"
          ],
          [
           "Gdańsk Wrzeszcz"
          ],
          [
           "Gdańsk Śródmieście"
          ],
          [
           "Gdańsk Śródmieście"
          ],
          [
           "Gdańsk Przeróbka"
          ],
          [
           "Gdańsk Przymorze"
          ],
          [
           "Gdańsk Przeróbka"
          ],
          [
           "Gdańsk Zakoniczyn"
          ],
          [
           "Gdańsk Łostowice"
          ],
          [
           "Gdańsk Śródmieście"
          ],
          [
           "Gdańsk Śródmieście"
          ],
          [
           "Gdańsk Śródmieście"
          ],
          [
           "Gdańsk Śródmieście"
          ],
          [
           "Gdańsk Śródmieście"
          ],
          [
           "Gdańsk Łostowice"
          ],
          [
           "Gdańsk Łostowice"
          ],
          [
           "Gdańsk Śródmieście"
          ],
          [
           "Gdańsk Żabianka"
          ],
          [
           "Gdańsk Nowy Port"
          ],
          [
           "Gdańsk Wrzeszcz"
          ],
          [
           "Gdańsk Ujeścisko"
          ],
          [
           "Gdańsk Śródmieście"
          ],
          [
           "Gdańsk Przymorze"
          ],
          [
           "Gdańsk Zabornia"
          ],
          [
           "Gdańsk Zaspa"
          ],
          [
           "Gdańsk Przymorze"
          ],
          [
           "Gdańsk Śródmieście"
          ],
          [
           "Gdańsk Śródmieście"
          ],
          [
           "Gdańsk Orunia"
          ],
          [
           "Gdańsk Dolne Miasto"
          ],
          [
           "Gdańsk Śródmieście"
          ],
          [
           "Gdańsk Orunia"
          ],
          [
           "Gdańsk Przymorze"
          ],
          [
           "Gdańsk Przymorze"
          ],
          [
           "Gdańsk Łostowice"
          ],
          [
           "Gdańsk Stare Miasto"
          ],
          [
           "Gdańsk Przymorze"
          ],
          [
           "Gdańsk"
          ],
          [
           "Gdańsk Wrzeszcz"
          ],
          [
           "Gdańsk Śródmieście"
          ],
          [
           "Gdańsk Nowy Port"
          ],
          [
           "Gdańsk Oliwa"
          ],
          [
           "Gdańsk Przymorze"
          ],
          [
           "Gdańsk Śródmieście"
          ],
          [
           "Gdańsk Śródmieście"
          ],
          [
           "Gdańsk Śródmieście"
          ],
          [
           "Gdańsk Śródmieście"
          ],
          [
           "Gdańsk Śródmieście"
          ],
          [
           "Gdańsk Śródmieście"
          ],
          [
           "Gdańsk Śródmieście"
          ],
          [
           "Gdańsk Przymorze"
          ],
          [
           "Gdańsk Główne Miasto"
          ],
          [
           "Gdańsk Oliwa"
          ],
          [
           "Gdańsk"
          ],
          [
           "Gdańsk"
          ],
          [
           "Gdańsk Siedlce"
          ],
          [
           "Gdańsk Ujeścisko"
          ],
          [
           "Gdańsk"
          ],
          [
           "Gdańsk Ujeścisko"
          ],
          [
           "Gdańsk Chełm"
          ],
          [
           "Gdańsk Kiełpinek"
          ],
          [
           "Gdańsk Śródmieście"
          ],
          [
           "Gdańsk Zaspa"
          ],
          [
           "Gdańsk Jasień"
          ],
          [
           "Gdańsk Śródmieście"
          ],
          [
           "Gdańsk Letnica"
          ],
          [
           "Gdańsk Śródmieście"
          ],
          [
           "Gdańsk Śródmieście"
          ],
          [
           "Gdańsk Przymorze"
          ],
          [
           "Gdańsk Piecki"
          ],
          [
           "Gdańsk Przymorze"
          ],
          [
           "Gdańsk Morena"
          ],
          [
           "Gdańsk Śródmieście"
          ],
          [
           "Gdańsk Jasień"
          ],
          [
           "Gdańsk Jasień"
          ],
          [
           "Gdańsk Jasień"
          ],
          [
           "Gdańsk Barniewice"
          ],
          [
           "Gdańsk Barniewice"
          ],
          [
           "Gdańsk Barniewice"
          ],
          [
           "Gdańsk Barniewice"
          ],
          [
           "Gdańsk Śródmieście"
          ],
          [
           "Gdańsk Barniewice"
          ],
          [
           "Gdańsk Śródmieście"
          ],
          [
           "Gdańsk Ujeścisko"
          ],
          [
           "Gdańsk Łostowice"
          ],
          [
           "Gdańsk Letnica"
          ],
          [
           "Gdańsk Strzyża"
          ],
          [
           "Gdańsk Orlinki"
          ],
          [
           "Gdańsk Łostowice"
          ],
          [
           "Gdańsk Morena"
          ],
          [
           "Gdańsk Letnica"
          ],
          [
           "Gdańsk Sobieszewo"
          ],
          [
           "Gdańsk Sobieszewo"
          ],
          [
           "Gdańsk Śródmieście"
          ],
          [
           "Gdańsk Kowale"
          ],
          [
           "Gdańsk Przymorze"
          ],
          [
           "Gdańsk"
          ],
          [
           "Gdańsk Wrzeszcz"
          ],
          [
           "Gdańsk Oliwa"
          ],
          [
           "Gdańsk Śródmieście"
          ],
          [
           "Gdańsk Jelitkowo"
          ],
          [
           "Gdańsk Matarnia"
          ],
          [
           "Gdańsk Wrzeszcz"
          ],
          [
           "Gdańsk Śródmieście"
          ],
          [
           "Gdańsk Śródmieście"
          ],
          [
           "Gdańsk Suchanino"
          ],
          [
           "Gdańsk Brzeźno"
          ],
          [
           "Gdańsk Śródmieście"
          ],
          [
           "Gdańsk Letnica"
          ],
          [
           "Gdańsk Brzeźno"
          ],
          [
           "Gdańsk Nowy Port"
          ],
          [
           "Gdańsk"
          ],
          [
           "Gdańsk Siedlce"
          ],
          [
           "Gdańsk Przymorze"
          ],
          [
           "Gdańsk Śródmieście"
          ],
          [
           "Gdańsk Śródmieście"
          ],
          [
           "Gdańsk Wrzeszcz"
          ],
          [
           "Gdańsk Śródmieście"
          ],
          [
           "Gdańsk Wrzeszcz"
          ],
          [
           "Gdańsk Śródmieście"
          ],
          [
           "Gdańsk Jasień"
          ],
          [
           "Gdańsk Wrzeszcz"
          ],
          [
           "Gdańsk Stare Miasto"
          ],
          [
           "Gdańsk Sobieszewo"
          ],
          [
           "Gdańsk Śródmieście"
          ],
          [
           "Gdańsk Główne Miasto"
          ],
          [
           "Gdańsk Oliwa"
          ],
          [
           "Gdańsk Morena"
          ],
          [
           "Gdańsk Śródmieście"
          ],
          [
           "Gdańsk Stare Miasto"
          ],
          [
           "Gdańsk Siedlce"
          ]
         ],
         "hovertemplate": "city=Gdańsk<br>area_m2=%{x}<br>price_total_zl_cleaned=%{y}<br>locality=%{customdata[0]}<extra></extra>",
         "legendgroup": "Gdańsk",
         "marker": {
          "color": "#636efa",
          "opacity": 0.7,
          "symbol": "circle"
         },
         "mode": "markers",
         "name": "Gdańsk",
         "orientation": "v",
         "showlegend": true,
         "type": "scatter",
         "x": {
          "bdata": "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",
          "dtype": "f8"
         },
         "xaxis": "x",
         "y": {
          "bdata": "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",
          "dtype": "f8"
         },
         "yaxis": "y"
        },
        {
         "customdata": [
          [
           "Gdynia Śródmieście"
          ],
          [
           "Gdynia Obłuże"
          ],
          [
           "Gdynia Grabówek"
          ],
          [
           "Gdynia Obłuże"
          ],
          [
           "Gdynia Wzgórze Świętego Maksymiliana"
          ],
          [
           "Gdynia Śródmieście"
          ],
          [
           "Gdynia Wielki Kack"
          ],
          [
           "Gdynia Oksywie"
          ],
          [
           "Gdynia Karwiny"
          ],
          [
           "Gdynia Oksywie"
          ],
          [
           "Gdynia Wielki Kack"
          ],
          [
           "Gdynia Leszczynki"
          ],
          [
           "Gdynia Obłuże"
          ],
          [
           "Gdynia Chylonia"
          ],
          [
           "Gdynia Chylonia"
          ],
          [
           "Gdynia Leszczynki"
          ],
          [
           "Gdynia Śródmieście"
          ],
          [
           "Gdynia Dąbrowa"
          ],
          [
           "Gdynia Dąbrowa"
          ],
          [
           "Gdynia Orłowo"
          ],
          [
           "Gdynia Chwarzno-Wiczlino"
          ],
          [
           "Gdynia Redłowo"
          ],
          [
           "Gdynia Chylonia"
          ],
          [
           "Gdynia Leszczynki"
          ],
          [
           "Gdynia Oksywie"
          ],
          [
           "Gdynia Redłowo"
          ],
          [
           "Gdynia Chwarzno-Wiczlino"
          ],
          [
           "Gdynia Chwarzno-Wiczlino"
          ],
          [
           "Gdynia Chwarzno-Wiczlino"
          ],
          [
           "Gdynia Pogórze"
          ],
          [
           "Gdynia Śródmieście"
          ],
          [
           "Gdynia Wielki Kack"
          ],
          [
           "Gdynia Śródmieście"
          ],
          [
           "Gdynia Pustki Cisowskie"
          ],
          [
           "Gdynia Chwarzno-Wiczlino"
          ],
          [
           "Gdynia Witomino"
          ],
          [
           "Gdynia Śródmieście"
          ],
          [
           "Gdynia Chylonia"
          ],
          [
           "Gdynia Chylonia"
          ],
          [
           "Gdynia Śródmieście"
          ],
          [
           "Gdynia Chwarzno-Wiczlino"
          ],
          [
           "Gdynia Wielki Kack"
          ],
          [
           "Gdynia Karwiny"
          ],
          [
           "Gdynia Śródmieście"
          ],
          [
           "Gdynia Chylonia"
          ],
          [
           "Gdynia Śródmieście"
          ],
          [
           "Gdynia"
          ],
          [
           "Gdynia Chwarzno-Wiczlino"
          ],
          [
           "Gdynia Chwarzno-Wiczlino"
          ],
          [
           "Gdynia Redłowo"
          ],
          [
           "Gdynia Dąbrowa"
          ],
          [
           "Gdynia Witomino"
          ],
          [
           "Gdynia Witomino"
          ],
          [
           "Gdynia Chylonia"
          ],
          [
           "Gdynia Chylonia"
          ],
          [
           "Gdynia Działki Leśne"
          ],
          [
           "Gdynia Mały Kack"
          ],
          [
           "Gdynia Śródmieście"
          ],
          [
           "Gdynia Śródmieście"
          ],
          [
           "Gdynia Pogórze"
          ],
          [
           "Gdynia Działki Leśne"
          ],
          [
           "Gdynia Leszczynki"
          ],
          [
           "Gdynia Mały Kack"
          ],
          [
           "Gdynia Wielki Kack"
          ],
          [
           "Gdynia Obłuże"
          ],
          [
           "Gdynia Grabówek"
          ],
          [
           "Gdynia Chylonia"
          ],
          [
           "Gdynia Śródmieście"
          ],
          [
           "Gdynia Witomino"
          ],
          [
           "Gdynia Leszczynki"
          ],
          [
           "Gdynia Śródmieście"
          ],
          [
           "Gdynia Oksywie"
          ],
          [
           "Gdynia Karwiny"
          ],
          [
           "Gdynia Cisowa"
          ],
          [
           "Gdynia Wzgórze Świętego Maksymiliana"
          ],
          [
           "Gdynia Cisowa"
          ],
          [
           "Gdynia Kamienna Góra"
          ],
          [
           "Gdynia Kamienna Góra"
          ],
          [
           "Gdynia Grabówek"
          ],
          [
           "Gdynia Śródmieście"
          ],
          [
           "Gdynia Karwiny"
          ],
          [
           "Gdynia Chylonia"
          ],
          [
           "Gdynia Grabówek"
          ],
          [
           "Gdynia Mały Kack"
          ],
          [
           "Gdynia Obłuże"
          ],
          [
           "Gdynia Wielki Kack"
          ],
          [
           "Gdynia Obłuże"
          ],
          [
           "Gdynia Obłuże"
          ],
          [
           "Gdynia Działki Leśne"
          ],
          [
           "Gdynia Obłuże"
          ],
          [
           "Gdynia Śródmieście"
          ],
          [
           "Gdynia Śródmieście"
          ],
          [
           "Gdynia Śródmieście"
          ],
          [
           "Gdynia Chylonia"
          ],
          [
           "Gdynia Śródmieście"
          ],
          [
           "Gdynia Witomino"
          ],
          [
           "Gdynia Grabówek"
          ],
          [
           "Gdynia Śródmieście"
          ],
          [
           "Gdynia Śródmieście"
          ],
          [
           "Gdynia Śródmieście"
          ],
          [
           "Gdynia Dąbrowa"
          ],
          [
           "Gdynia Śródmieście"
          ],
          [
           "Gdynia Śródmieście"
          ],
          [
           "Gdynia Działki Leśne"
          ],
          [
           "Gdynia Obłuże"
          ],
          [
           "Gdynia Śródmieście"
          ],
          [
           "Gdynia Śródmieście"
          ],
          [
           "Gdynia Dąbrowa"
          ],
          [
           "Gdynia Śródmieście"
          ],
          [
           "Gdynia Cisowa"
          ],
          [
           "Gdynia Mały Kack"
          ],
          [
           "Gdynia Dąbrowa"
          ],
          [
           "Gdynia Karwiny"
          ],
          [
           "Gdynia Śródmieście"
          ],
          [
           "Gdynia Karwiny"
          ],
          [
           "Gdynia Chwarzno-Wiczlino"
          ],
          [
           "Gdynia Witomino"
          ],
          [
           "Gdynia Działki Leśne"
          ],
          [
           "Gdynia Śródmieście"
          ],
          [
           "Gdynia Wielki Kack"
          ],
          [
           "Gdynia Karwiny"
          ],
          [
           "Gdynia Chylonia"
          ],
          [
           "Gdynia Wzgórze Świętego Maksymiliana"
          ],
          [
           "Gdynia"
          ],
          [
           "Gdynia Witomino"
          ],
          [
           "Gdynia Witomino"
          ],
          [
           "Gdynia Mały Kack"
          ],
          [
           "Gdynia Wielki Kack"
          ],
          [
           "Gdynia Wzgórze Świętego Maksymiliana"
          ],
          [
           "Gdynia Redłowo"
          ],
          [
           "Gdynia Leszczynki"
          ],
          [
           "Gdynia Dąbrowa"
          ],
          [
           "Gdynia Obłuże"
          ],
          [
           "Gdynia Cisowa"
          ],
          [
           "Gdynia Orłowo"
          ],
          [
           "Gdynia Leszczynki"
          ],
          [
           "Gdynia Babie Doły"
          ],
          [
           "Gdynia Witomino"
          ],
          [
           "Gdynia Grabówek"
          ],
          [
           "Gdynia Śródmieście"
          ],
          [
           "Gdynia Chylonia"
          ],
          [
           "Gdynia Chwarzno-Wiczlino"
          ],
          [
           "Gdynia"
          ],
          [
           "Gdynia Działki Leśne"
          ],
          [
           "Gdynia Karwiny"
          ],
          [
           "Gdynia Śródmieście"
          ],
          [
           "Gdynia Chylonia"
          ],
          [
           "Gdynia Oksywie"
          ],
          [
           "Gdynia Śródmieście"
          ],
          [
           "Gdynia Śródmieście"
          ],
          [
           "Gdynia Redłowo"
          ],
          [
           "Gdynia"
          ],
          [
           "Gdynia Działki Leśne"
          ],
          [
           "Gdynia Chwarzno-Wiczlino"
          ],
          [
           "Gdynia Oksywie"
          ],
          [
           "Gdynia Mały Kack"
          ],
          [
           "Gdynia Wielki Kack"
          ],
          [
           "Gdynia Karwiny"
          ],
          [
           "Gdynia Oksywie"
          ],
          [
           "Gdynia Chylonia"
          ],
          [
           "Gdynia Chylonia"
          ],
          [
           "Gdynia Śródmieście"
          ],
          [
           "Gdynia Redłowo"
          ],
          [
           "Gdynia Obłuże"
          ],
          [
           "Gdynia Wzgórze Świętego Maksymiliana"
          ],
          [
           "Gdynia Orłowo"
          ],
          [
           "Gdynia Obłuże"
          ],
          [
           "Gdynia Leszczynki"
          ],
          [
           "Gdynia Chwarzno-Wiczlino"
          ],
          [
           "Gdynia Śródmieście"
          ],
          [
           "Gdynia Obłuże"
          ],
          [
           "Gdynia Orłowo"
          ],
          [
           "Gdynia Obłuże"
          ],
          [
           "Gdynia Śródmieście"
          ],
          [
           "Gdynia Witomino"
          ],
          [
           "Gdynia Babie Doły"
          ],
          [
           "Gdynia Mały Kack"
          ],
          [
           "Gdynia Mały Kack"
          ],
          [
           "Gdynia Redłowo"
          ],
          [
           "Gdynia Wzgórze Świętego Maksymiliana"
          ],
          [
           "Gdynia Karwiny"
          ],
          [
           "Gdynia Karwiny"
          ],
          [
           "Gdynia Demptowo"
          ],
          [
           "Gdynia Chwarzno-Wiczlino"
          ],
          [
           "Gdynia Śródmieście"
          ],
          [
           "Gdynia Obłuże"
          ],
          [
           "Gdynia Śródmieście"
          ],
          [
           "Gdynia Chylonia"
          ],
          [
           "Gdynia Mały Kack"
          ],
          [
           "Gdynia Leszczynki"
          ],
          [
           "Gdynia Witomino"
          ],
          [
           "Gdynia Orłowo"
          ],
          [
           "Gdynia Witomino"
          ],
          [
           "Gdynia Witomino"
          ],
          [
           "Gdynia Leszczynki"
          ],
          [
           "Gdynia Chylonia"
          ],
          [
           "Gdynia Dąbrowa"
          ],
          [
           "Gdynia Leszczynki"
          ],
          [
           "Gdynia Witomino"
          ],
          [
           "Gdynia Chylonia"
          ],
          [
           "Gdynia Cisowa"
          ],
          [
           "Gdynia Leszczynki"
          ],
          [
           "Gdynia Chylonia"
          ],
          [
           "Gdynia Pogórze"
          ],
          [
           "Gdynia Obłuże"
          ],
          [
           "Gdynia Oksywie"
          ],
          [
           "Gdynia Pogórze"
          ],
          [
           "Gdynia Śródmieście"
          ],
          [
           "Gdynia Śródmieście"
          ],
          [
           "Gdynia Pogórze"
          ],
          [
           "Gdynia Dąbrowa"
          ],
          [
           "Gdynia Mały Kack"
          ],
          [
           "Gdynia Śródmieście"
          ],
          [
           "Gdynia Obłuże"
          ],
          [
           "Gdynia Dąbrowa"
          ],
          [
           "Gdynia Chylonia"
          ],
          [
           "Gdynia Wzgórze Świętego Maksymiliana"
          ],
          [
           "Gdynia Grabówek"
          ],
          [
           "Gdynia Wielki Kack"
          ],
          [
           "Gdynia Obłuże"
          ],
          [
           "Gdynia Oksywie"
          ],
          [
           "Gdynia Karwiny"
          ],
          [
           "Gdynia Wzgórze Świętego Maksymiliana"
          ],
          [
           "Gdynia Cisowa"
          ],
          [
           "Gdynia Karwiny"
          ],
          [
           "Gdynia Dąbrowa"
          ],
          [
           "Gdynia Śródmieście"
          ],
          [
           "Gdynia Śródmieście"
          ],
          [
           "Gdynia Śródmieście"
          ],
          [
           "Gdynia Witomino"
          ],
          [
           "Gdynia Grabówek"
          ],
          [
           "Gdynia Leszczynki"
          ],
          [
           "Gdynia Orłowo"
          ],
          [
           "Gdynia Wzgórze Świętego Maksymiliana"
          ],
          [
           "Gdynia Orłowo"
          ],
          [
           "Gdynia Mały Kack"
          ],
          [
           "Gdynia Działki Leśne"
          ],
          [
           "Gdynia Leszczynki"
          ],
          [
           "Gdynia Kamienna Góra"
          ],
          [
           "Gdynia Śródmieście"
          ],
          [
           "Gdynia Śródmieście"
          ],
          [
           "Gdynia Grabówek"
          ],
          [
           "Gdynia Śródmieście"
          ],
          [
           "Gdynia Chwarzno-Wiczlino"
          ],
          [
           "Gdynia Chwarzno-Wiczlino"
          ],
          [
           "Gdynia Chylonia"
          ],
          [
           "Gdynia Działki Leśne"
          ],
          [
           "Gdynia Działki Leśne"
          ],
          [
           "Gdynia Grabówek"
          ],
          [
           "Gdynia Obłuże"
          ],
          [
           "Gdynia Chwarzno-Wiczlino"
          ],
          [
           "Gdynia Oksywie"
          ],
          [
           "Gdynia Leszczynki"
          ],
          [
           "Gdynia Kamienna Góra"
          ],
          [
           "Gdynia Działki Leśne"
          ],
          [
           "Gdynia Obłuże"
          ],
          [
           "Gdynia Śródmieście"
          ],
          [
           "Gdynia Orłowo"
          ],
          [
           "Gdynia Śródmieście"
          ],
          [
           "Gdynia Śródmieście"
          ],
          [
           "Gdynia Grabówek"
          ],
          [
           "Gdynia Chwarzno-Wiczlino"
          ],
          [
           "Gdynia Dąbrowa"
          ],
          [
           "Gdynia Kamienna Góra"
          ],
          [
           "Gdynia Śródmieście"
          ],
          [
           "Gdynia Wielki Kack"
          ]
         ],
         "hovertemplate": "city=Gdynia<br>area_m2=%{x}<br>price_total_zl_cleaned=%{y}<br>locality=%{customdata[0]}<extra></extra>",
         "legendgroup": "Gdynia",
         "marker": {
          "color": "#EF553B",
          "opacity": 0.7,
          "symbol": "diamond"
         },
         "mode": "markers",
         "name": "Gdynia",
         "orientation": "v",
         "showlegend": true,
         "type": "scatter",
         "x": {
          "bdata": "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",
          "dtype": "f8"
         },
         "xaxis": "x",
         "y": {
          "bdata": "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",
          "dtype": "f8"
         },
         "yaxis": "y"
        },
        {
         "customdata": [
          [
           "Sopot"
          ],
          [
           "Sopot Brodwino"
          ],
          [
           "Sopot Kamienny Potok"
          ],
          [
           "Sopot Brodwino"
          ],
          [
           "Sopot"
          ],
          [
           "Sopot Kamienny Potok"
          ],
          [
           "Sopot Sopot Górny"
          ],
          [
           "Sopot Sopot Górny"
          ],
          [
           "Sopot Kamienny Potok"
          ],
          [
           "Sopot"
          ],
          [
           "Sopot"
          ],
          [
           "Sopot"
          ],
          [
           "Sopot"
          ],
          [
           "Sopot Sopot Dolny"
          ],
          [
           "Sopot Kamienny Potok"
          ],
          [
           "Sopot Przylesie"
          ],
          [
           "Sopot Brodwino"
          ],
          [
           "Sopot"
          ],
          [
           "Sopot Sopot Dolny"
          ],
          [
           "Sopot Kamienny Potok"
          ],
          [
           "Sopot Brodwino"
          ],
          [
           "Sopot Brodwino"
          ],
          [
           "Sopot Przylesie"
          ],
          [
           "Sopot Sopot Górny"
          ],
          [
           "Sopot Wyścigi"
          ],
          [
           "Sopot Sopot Górny"
          ],
          [
           "Sopot Świemirowo"
          ],
          [
           "Sopot"
          ],
          [
           "Sopot"
          ],
          [
           "Sopot"
          ],
          [
           "Sopot"
          ],
          [
           "Sopot Przylesie"
          ],
          [
           "Sopot"
          ],
          [
           "Sopot Kamienny Potok"
          ],
          [
           "Sopot Sopot Dolny"
          ],
          [
           "Sopot Sopot Górny"
          ],
          [
           "Sopot"
          ],
          [
           "Sopot Centrum"
          ],
          [
           "Sopot"
          ],
          [
           "Sopot"
          ],
          [
           "Sopot Brodwino"
          ],
          [
           "Sopot"
          ],
          [
           "Sopot Sopot Dolny"
          ],
          [
           "Sopot"
          ],
          [
           "Sopot"
          ],
          [
           "Sopot Kamienny Potok"
          ],
          [
           "Sopot"
          ],
          [
           "Sopot Sopot Dolny"
          ],
          [
           "Sopot Kamienny Potok"
          ],
          [
           "Sopot Brodwino"
          ],
          [
           "Sopot Sopot Dolny"
          ],
          [
           "Sopot Sopot Dolny"
          ],
          [
           "Sopot Sopot Górny"
          ],
          [
           "Sopot Centrum"
          ],
          [
           "Sopot"
          ],
          [
           "Sopot"
          ],
          [
           "Sopot Sopot Dolny"
          ],
          [
           "Sopot"
          ]
         ],
         "hovertemplate": "city=Sopot<br>area_m2=%{x}<br>price_total_zl_cleaned=%{y}<br>locality=%{customdata[0]}<extra></extra>",
         "legendgroup": "Sopot",
         "marker": {
          "color": "#00cc96",
          "opacity": 0.7,
          "symbol": "square"
         },
         "mode": "markers",
         "name": "Sopot",
         "orientation": "v",
         "showlegend": true,
         "type": "scatter",
         "x": {
          "bdata": "AAAAAABAWUAAAAAAAIBKQAAAAAAAIGJAAAAAAACAREAAAAAAAIBZQAAAAAAAgEpAAAAAAADAVkAAAAAAAABAQAAAAAAAAEFAAAAAAACAUEAAAAAAAABBQAAAAAAAgENAAAAAAACAUkAAAAAAAIBBQAAAAAAAAEpAAAAAAACASkAAAAAAAAA+QAAAAAAAgFVAAAAAAAAAXkAAAAAAAAA5QAAAAAAAgEBAAAAAAAAAPkAAAAAAAABHQAAAAAAAgEZAAAAAAACARUAAAAAAAABEQAAAAAAAgEhAAAAAAACARkAAAAAAAAA+QAAAAAAAQFpAAAAAAACAUEAAAAAAAIBDQAAAAAAAAF1AAAAAAACASkAAAAAAAMBTQAAAAAAAQFhAAAAAAAAAS0AAAAAAAEBRQAAAAAAAgEdAAAAAAADAVkAAAAAAAABOQAAAAAAAAEtAAAAAAACAUUAAAAAAAMBeQAAAAAAAgENAAAAAAACAQkAAAAAAAIBbQAAAAAAAQFFAAAAAAACASUAAAAAAAABRQAAAAAAAAFNAAAAAAABAUUAAAAAAAABGQAAAAAAAAEtAAAAAAACATkAAAAAAAIBaQAAAAAAAQFtAAAAAAAAAWUA=",
          "dtype": "f8"
         },
         "xaxis": "x",
         "y": {
          "bdata": "AAAAABhmOEEAAAAA8FQlQQAAAACIlTRBAAAAAACII0EAAAAAcF0+QQAAAADg/SxBAAAAAHjfNkEAAAAAAL0fQQAAAAAwDyFBAAAAAHBvK0EAAAAAcG8rQQAAAABg4yZBAAAAABhmOEEAAAAAQAYpQQAAAADQdydBAAAAANDoKUEAAAAAYDYeQQAAAAD850FBAAAAALiBRkEAAAAAIKAcQQAAAADQoSBBAAAAACCaHUEAAAAAIEcmQQAAAADIQzJBAAAAAODIMEEAAAAAYOMmQQAAAABQLSlBAAAAAGhHNEEAAAAAYOMmQQAAAABYCEhBAAAAALB8LkEAAAAA+uwvQQAAAADYz0ZBAAAAANDoKUEAAAAACLA6QQAAAAAQIDZBAAAAABCvM0EAAAAAgE8yQQAAAADQEjNBAAAAAJA6PEEAAAAAEIUqQQAAAACgcylBAAAAABCvM0EAAAAAeFY4QQAAAAAw8SVBAAAAACBHJkEAAAAAECBGQQAAAACQBTBBAAAAADBiKEEAAAAA4MgwQQAAAACAojlBAAAAAEiIMUEAAAAAQLMhQQAAAACAhC5BAAAAAIgqMUEAAAAAmEsyQQAAAACYgD5BAAAAAFgCOUE=",
          "dtype": "f8"
         },
         "yaxis": "y"
        }
       ],
       "layout": {
        "height": 700,
        "legend": {
         "title": {
          "text": "city"
         },
         "tracegroupgap": 0
        },
        "template": {
         "data": {
          "bar": [
           {
            "error_x": {
             "color": "#2a3f5f"
            },
            "error_y": {
             "color": "#2a3f5f"
            },
            "marker": {
             "line": {
              "color": "white",
              "width": 0.5
             },
             "pattern": {
              "fillmode": "overlay",
              "size": 10,
              "solidity": 0.2
             }
            },
            "type": "bar"
           }
          ],
          "barpolar": [
           {
            "marker": {
             "line": {
              "color": "white",
              "width": 0.5
             },
             "pattern": {
              "fillmode": "overlay",
              "size": 10,
              "solidity": 0.2
             }
            },
            "type": "barpolar"
           }
          ],
          "carpet": [
           {
            "aaxis": {
             "endlinecolor": "#2a3f5f",
             "gridcolor": "#C8D4E3",
             "linecolor": "#C8D4E3",
             "minorgridcolor": "#C8D4E3",
             "startlinecolor": "#2a3f5f"
            },
            "baxis": {
             "endlinecolor": "#2a3f5f",
             "gridcolor": "#C8D4E3",
             "linecolor": "#C8D4E3",
             "minorgridcolor": "#C8D4E3",
             "startlinecolor": "#2a3f5f"
            },
            "type": "carpet"
           }
          ],
          "choropleth": [
           {
            "colorbar": {
             "outlinewidth": 0,
             "ticks": ""
            },
            "type": "choropleth"
           }
          ],
          "contour": [
           {
            "colorbar": {
             "outlinewidth": 0,
             "ticks": ""
            },
            "colorscale": [
             [
              0,
              "#0d0887"
             ],
             [
              0.1111111111111111,
              "#46039f"
             ],
             [
              0.2222222222222222,
              "#7201a8"
             ],
             [
              0.3333333333333333,
              "#9c179e"
             ],
             [
              0.4444444444444444,
              "#bd3786"
             ],
             [
              0.5555555555555556,
              "#d8576b"
             ],
             [
              0.6666666666666666,
              "#ed7953"
             ],
             [
              0.7777777777777778,
              "#fb9f3a"
             ],
             [
              0.8888888888888888,
              "#fdca26"
             ],
             [
              1,
              "#f0f921"
             ]
            ],
            "type": "contour"
           }
          ],
          "contourcarpet": [
           {
            "colorbar": {
             "outlinewidth": 0,
             "ticks": ""
            },
            "type": "contourcarpet"
           }
          ],
          "heatmap": [
           {
            "colorbar": {
             "outlinewidth": 0,
             "ticks": ""
            },
            "colorscale": [
             [
              0,
              "#0d0887"
             ],
             [
              0.1111111111111111,
              "#46039f"
             ],
             [
              0.2222222222222222,
              "#7201a8"
             ],
             [
              0.3333333333333333,
              "#9c179e"
             ],
             [
              0.4444444444444444,
              "#bd3786"
             ],
             [
              0.5555555555555556,
              "#d8576b"
             ],
             [
              0.6666666666666666,
              "#ed7953"
             ],
             [
              0.7777777777777778,
              "#fb9f3a"
             ],
             [
              0.8888888888888888,
              "#fdca26"
             ],
             [
              1,
              "#f0f921"
             ]
            ],
            "type": "heatmap"
           }
          ],
          "histogram": [
           {
            "marker": {
             "pattern": {
              "fillmode": "overlay",
              "size": 10,
              "solidity": 0.2
             }
            },
            "type": "histogram"
           }
          ],
          "histogram2d": [
           {
            "colorbar": {
             "outlinewidth": 0,
             "ticks": ""
            },
            "colorscale": [
             [
              0,
              "#0d0887"
             ],
             [
              0.1111111111111111,
              "#46039f"
             ],
             [
              0.2222222222222222,
              "#7201a8"
             ],
             [
              0.3333333333333333,
              "#9c179e"
             ],
             [
              0.4444444444444444,
              "#bd3786"
             ],
             [
              0.5555555555555556,
              "#d8576b"
             ],
             [
              0.6666666666666666,
              "#ed7953"
             ],
             [
              0.7777777777777778,
              "#fb9f3a"
             ],
             [
              0.8888888888888888,
              "#fdca26"
             ],
             [
              1,
              "#f0f921"
             ]
            ],
            "type": "histogram2d"
           }
          ],
          "histogram2dcontour": [
           {
            "colorbar": {
             "outlinewidth": 0,
             "ticks": ""
            },
            "colorscale": [
             [
              0,
              "#0d0887"
             ],
             [
              0.1111111111111111,
              "#46039f"
             ],
             [
              0.2222222222222222,
              "#7201a8"
             ],
             [
              0.3333333333333333,
              "#9c179e"
             ],
             [
              0.4444444444444444,
              "#bd3786"
             ],
             [
              0.5555555555555556,
              "#d8576b"
             ],
             [
              0.6666666666666666,
              "#ed7953"
             ],
             [
              0.7777777777777778,
              "#fb9f3a"
             ],
             [
              0.8888888888888888,
              "#fdca26"
             ],
             [
              1,
              "#f0f921"
             ]
            ],
            "type": "histogram2dcontour"
           }
          ],
          "mesh3d": [
           {
            "colorbar": {
             "outlinewidth": 0,
             "ticks": ""
            },
            "type": "mesh3d"
           }
          ],
          "parcoords": [
           {
            "line": {
             "colorbar": {
              "outlinewidth": 0,
              "ticks": ""
             }
            },
            "type": "parcoords"
           }
          ],
          "pie": [
           {
            "automargin": true,
            "type": "pie"
           }
          ],
          "scatter": [
           {
            "fillpattern": {
             "fillmode": "overlay",
             "size": 10,
             "solidity": 0.2
            },
            "type": "scatter"
           }
          ],
          "scatter3d": [
           {
            "line": {
             "colorbar": {
              "outlinewidth": 0,
              "ticks": ""
             }
            },
            "marker": {
             "colorbar": {
              "outlinewidth": 0,
              "ticks": ""
             }
            },
            "type": "scatter3d"
           }
          ],
          "scattercarpet": [
           {
            "marker": {
             "colorbar": {
              "outlinewidth": 0,
              "ticks": ""
             }
            },
            "type": "scattercarpet"
           }
          ],
          "scattergeo": [
           {
            "marker": {
             "colorbar": {
              "outlinewidth": 0,
              "ticks": ""
             }
            },
            "type": "scattergeo"
           }
          ],
          "scattergl": [
           {
            "marker": {
             "colorbar": {
              "outlinewidth": 0,
              "ticks": ""
             }
            },
            "type": "scattergl"
           }
          ],
          "scattermap": [
           {
            "marker": {
             "colorbar": {
              "outlinewidth": 0,
              "ticks": ""
             }
            },
            "type": "scattermap"
           }
          ],
          "scattermapbox": [
           {
            "marker": {
             "colorbar": {
              "outlinewidth": 0,
              "ticks": ""
             }
            },
            "type": "scattermapbox"
           }
          ],
          "scatterpolar": [
           {
            "marker": {
             "colorbar": {
              "outlinewidth": 0,
              "ticks": ""
             }
            },
            "type": "scatterpolar"
           }
          ],
          "scatterpolargl": [
           {
            "marker": {
             "colorbar": {
              "outlinewidth": 0,
              "ticks": ""
             }
            },
            "type": "scatterpolargl"
           }
          ],
          "scatterternary": [
           {
            "marker": {
             "colorbar": {
              "outlinewidth": 0,
              "ticks": ""
             }
            },
            "type": "scatterternary"
           }
          ],
          "surface": [
           {
            "colorbar": {
             "outlinewidth": 0,
             "ticks": ""
            },
            "colorscale": [
             [
              0,
              "#0d0887"
             ],
             [
              0.1111111111111111,
              "#46039f"
             ],
             [
              0.2222222222222222,
              "#7201a8"
             ],
             [
              0.3333333333333333,
              "#9c179e"
             ],
             [
              0.4444444444444444,
              "#bd3786"
             ],
             [
              0.5555555555555556,
              "#d8576b"
             ],
             [
              0.6666666666666666,
              "#ed7953"
             ],
             [
              0.7777777777777778,
              "#fb9f3a"
             ],
             [
              0.8888888888888888,
              "#fdca26"
             ],
             [
              1,
              "#f0f921"
             ]
            ],
            "type": "surface"
           }
          ],
          "table": [
           {
            "cells": {
             "fill": {
              "color": "#EBF0F8"
             },
             "line": {
              "color": "white"
             }
            },
            "header": {
             "fill": {
              "color": "#C8D4E3"
             },
             "line": {
              "color": "white"
             }
            },
            "type": "table"
           }
          ]
         },
         "layout": {
          "annotationdefaults": {
           "arrowcolor": "#2a3f5f",
           "arrowhead": 0,
           "arrowwidth": 1
          },
          "autotypenumbers": "strict",
          "coloraxis": {
           "colorbar": {
            "outlinewidth": 0,
            "ticks": ""
           }
          },
          "colorscale": {
           "diverging": [
            [
             0,
             "#8e0152"
            ],
            [
             0.1,
             "#c51b7d"
            ],
            [
             0.2,
             "#de77ae"
            ],
            [
             0.3,
             "#f1b6da"
            ],
            [
             0.4,
             "#fde0ef"
            ],
            [
             0.5,
             "#f7f7f7"
            ],
            [
             0.6,
             "#e6f5d0"
            ],
            [
             0.7,
             "#b8e186"
            ],
            [
             0.8,
             "#7fbc41"
            ],
            [
             0.9,
             "#4d9221"
            ],
            [
             1,
             "#276419"
            ]
           ],
           "sequential": [
            [
             0,
             "#0d0887"
            ],
            [
             0.1111111111111111,
             "#46039f"
            ],
            [
             0.2222222222222222,
             "#7201a8"
            ],
            [
             0.3333333333333333,
             "#9c179e"
            ],
            [
             0.4444444444444444,
             "#bd3786"
            ],
            [
             0.5555555555555556,
             "#d8576b"
            ],
            [
             0.6666666666666666,
             "#ed7953"
            ],
            [
             0.7777777777777778,
             "#fb9f3a"
            ],
            [
             0.8888888888888888,
             "#fdca26"
            ],
            [
             1,
             "#f0f921"
            ]
           ],
           "sequentialminus": [
            [
             0,
             "#0d0887"
            ],
            [
             0.1111111111111111,
             "#46039f"
            ],
            [
             0.2222222222222222,
             "#7201a8"
            ],
            [
             0.3333333333333333,
             "#9c179e"
            ],
            [
             0.4444444444444444,
             "#bd3786"
            ],
            [
             0.5555555555555556,
             "#d8576b"
            ],
            [
             0.6666666666666666,
             "#ed7953"
            ],
            [
             0.7777777777777778,
             "#fb9f3a"
            ],
            [
             0.8888888888888888,
             "#fdca26"
            ],
            [
             1,
             "#f0f921"
            ]
           ]
          },
          "colorway": [
           "#636efa",
           "#EF553B",
           "#00cc96",
           "#ab63fa",
           "#FFA15A",
           "#19d3f3",
           "#FF6692",
           "#B6E880",
           "#FF97FF",
           "#FECB52"
          ],
          "font": {
           "color": "#2a3f5f"
          },
          "geo": {
           "bgcolor": "white",
           "lakecolor": "white",
           "landcolor": "white",
           "showlakes": true,
           "showland": true,
           "subunitcolor": "#C8D4E3"
          },
          "hoverlabel": {
           "align": "left"
          },
          "hovermode": "closest",
          "mapbox": {
           "style": "light"
          },
          "paper_bgcolor": "white",
          "plot_bgcolor": "white",
          "polar": {
           "angularaxis": {
            "gridcolor": "#EBF0F8",
            "linecolor": "#EBF0F8",
            "ticks": ""
           },
           "bgcolor": "white",
           "radialaxis": {
            "gridcolor": "#EBF0F8",
            "linecolor": "#EBF0F8",
            "ticks": ""
           }
          },
          "scene": {
           "xaxis": {
            "backgroundcolor": "white",
            "gridcolor": "#DFE8F3",
            "gridwidth": 2,
            "linecolor": "#EBF0F8",
            "showbackground": true,
            "ticks": "",
            "zerolinecolor": "#EBF0F8"
           },
           "yaxis": {
            "backgroundcolor": "white",
            "gridcolor": "#DFE8F3",
            "gridwidth": 2,
            "linecolor": "#EBF0F8",
            "showbackground": true,
            "ticks": "",
            "zerolinecolor": "#EBF0F8"
           },
           "zaxis": {
            "backgroundcolor": "white",
            "gridcolor": "#DFE8F3",
            "gridwidth": 2,
            "linecolor": "#EBF0F8",
            "showbackground": true,
            "ticks": "",
            "zerolinecolor": "#EBF0F8"
           }
          },
          "shapedefaults": {
           "line": {
            "color": "#2a3f5f"
           }
          },
          "ternary": {
           "aaxis": {
            "gridcolor": "#DFE8F3",
            "linecolor": "#A2B1C6",
            "ticks": ""
           },
           "baxis": {
            "gridcolor": "#DFE8F3",
            "linecolor": "#A2B1C6",
            "ticks": ""
           },
           "bgcolor": "white",
           "caxis": {
            "gridcolor": "#DFE8F3",
            "linecolor": "#A2B1C6",
            "ticks": ""
           }
          },
          "title": {
           "x": 0.05
          },
          "xaxis": {
           "automargin": true,
           "gridcolor": "#EBF0F8",
           "linecolor": "#EBF0F8",
           "ticks": "",
           "title": {
            "standoff": 15
           },
           "zerolinecolor": "#EBF0F8",
           "zerolinewidth": 2
          },
          "yaxis": {
           "automargin": true,
           "gridcolor": "#EBF0F8",
           "linecolor": "#EBF0F8",
           "ticks": "",
           "title": {
            "standoff": 15
           },
           "zerolinecolor": "#EBF0F8",
           "zerolinewidth": 2
          }
         }
        },
        "title": {
         "text": "Zależność między powierzchnią a ceną w Trójmieście (bez outlierów)"
        },
        "width": 1400,
        "xaxis": {
         "anchor": "y",
         "domain": [
          0,
          1
         ],
         "title": {
          "text": "area_m2"
         }
        },
        "yaxis": {
         "anchor": "x",
         "domain": [
          0,
          1
         ],
         "title": {
          "text": "price_total_zl_cleaned"
         }
        }
       }
      }
     },
     "metadata": {},
     "output_type": "display_data"
    }
   ],
   "source": [
    "fig = px.scatter(\n",
    "    df_filtered,\n",
    "    x='area_m2',\n",
    "    y='price_total_zl_cleaned',\n",
    "    color='city',\n",
    "    symbol='city',\n",
    "    title='Zależność między powierzchnią a ceną w Trójmieście (bez outlierów)',\n",
    "    hover_data=['locality'],\n",
    "    width=1400,\n",
    "    height=700,\n",
    "    opacity=0.7,\n",
    "    template='plotly_white'\n",
    ")\n",
    "fig.show()\n",
    "pio.write_image(fig, \"powierzchnia_a_cena.pdf\")"
   ]
  },
  {
   "cell_type": "code",
   "execution_count": 21,
   "id": "d320a7ba",
   "metadata": {},
   "outputs": [],
   "source": [
    "# Na podstawie tego wykresu widać, e ceny mieszkań w Gdyni są generalnie nisze ni w Gdańsku i Sopocie - w szczególności dotyczy to mniejszych mieszkań. PPrzy dużym metrażu różnice się zacierają."
   ]
  },
  {
   "cell_type": "code",
   "execution_count": 22,
   "id": "ff7599f7",
   "metadata": {},
   "outputs": [
    {
     "data": {
      "application/vnd.plotly.v1+json": {
       "config": {
        "plotlyServerURL": "https://plot.ly"
       },
       "data": [
        {
         "hovertemplate": "Średnia cena za m² (zł)=%{x}<br>Lokalizacja=%{y}<br>color=%{marker.color}<extra></extra>",
         "legendgroup": "",
         "marker": {
          "color": {
           "bdata": "AAAAAEClwEAAAAAAgFbDQKuqqqqqr8NAAAAAAABCxEAAAAAAgF7EQM3MzMwswMRAzczMzMzixEAAAAAAAGPFQBdddNEFksVAAAAAAAA0xkBiJ3ZiJ0LGQAAAAAAAR8ZAVVVVVRWpxkAAAAAAgMDGQKuqqqqq4MZAAAAAAABDx0BVVVVV1VjHQImIiIgIXcdADw8PDw/Px0DT0tLSUtTHQB+F61E4D8hAEREREZGlyEAAAAAAgLbIQKuqqqqq1shAJUmSJMkGyUAmVxCTq0HJQC+66KKLjslAzczMzMynyUAAAAAAALPJQDMzMzOz28lAWlpaWlryyUAAAAAAgADKQLW0tLQ0EcpAAAAAAEAfykAAAAAAACDKQAAAAADARspAAAAAAEBYykAAAAAAAGDKQAAAAACAbMpAq6qqqiqeykAAAAAAgOjKQAAAAAAA6spAjuM4jiP2ykDpoosuugrLQAAAAACAUsxAdNFFF93PzEBVVVVVFQTNQM3MzMwMCM1AGIZhGAZBzUBVVVVVVUbNQEYXXXRR0c1Abtu2bVtVzkAlSZIkyVbOQMdxHMfxAM9AAAAAAABmz0AAAAAAEHHPQMhCFrKQatBAAAAAAEBx0EAAAAAAgO7QQAAAAAAAGdFAq6qqqso60UDNzMzMPIvRQAAAAADglNFAhl7ohR630UDsxE7spL/RQOQ4juP43dFAAAAAAPBE0kCrqqqq6nrSQAAAAABAl9JALt/yLb+o0kBVVVVVFSPTQGIndmKHStNAAAAAADB200AAAAAAuHzTQAAAAADgj9NAjuM4jiPF00BMaC+hDQ7UQAAAAAAYW9RARhdddJFh1EAAAAAAwKDVQAAAAAAAvNhAAAAAAGAv4EA=",
           "dtype": "f8"
          },
          "coloraxis": "coloraxis",
          "pattern": {
           "shape": ""
          }
         },
         "name": "",
         "orientation": "h",
         "showlegend": false,
         "textposition": "auto",
         "type": "bar",
         "x": {
          "bdata": "AAAAAEClwEAAAAAAgFbDQKuqqqqqr8NAAAAAAABCxEAAAAAAgF7EQM3MzMwswMRAzczMzMzixEAAAAAAAGPFQBdddNEFksVAAAAAAAA0xkBiJ3ZiJ0LGQAAAAAAAR8ZAVVVVVRWpxkAAAAAAgMDGQKuqqqqq4MZAAAAAAABDx0BVVVVV1VjHQImIiIgIXcdADw8PDw/Px0DT0tLSUtTHQB+F61E4D8hAEREREZGlyEAAAAAAgLbIQKuqqqqq1shAJUmSJMkGyUAmVxCTq0HJQC+66KKLjslAzczMzMynyUAAAAAAALPJQDMzMzOz28lAWlpaWlryyUAAAAAAgADKQLW0tLQ0EcpAAAAAAEAfykAAAAAAACDKQAAAAADARspAAAAAAEBYykAAAAAAAGDKQAAAAACAbMpAq6qqqiqeykAAAAAAgOjKQAAAAAAA6spAjuM4jiP2ykDpoosuugrLQAAAAACAUsxAdNFFF93PzEBVVVVVFQTNQM3MzMwMCM1AGIZhGAZBzUBVVVVVVUbNQEYXXXRR0c1Abtu2bVtVzkAlSZIkyVbOQMdxHMfxAM9AAAAAAABmz0AAAAAAEHHPQMhCFrKQatBAAAAAAEBx0EAAAAAAgO7QQAAAAAAAGdFAq6qqqso60UDNzMzMPIvRQAAAAADglNFAhl7ohR630UDsxE7spL/RQOQ4juP43dFAAAAAAPBE0kCrqqqq6nrSQAAAAABAl9JALt/yLb+o0kBVVVVVFSPTQGIndmKHStNAAAAAADB200AAAAAAuHzTQAAAAADgj9NAjuM4jiPF00BMaC+hDQ7UQAAAAAAYW9RARhdddJFh1EAAAAAAwKDVQAAAAAAAvNhAAAAAAGAv4EA=",
          "dtype": "f8"
         },
         "xaxis": "x",
         "y": [
          "Gdańsk Kowale",
          "Gdynia Pogórze",
          "Gdynia Cisowa",
          "Gdańsk Długie Ogrody",
          "Gdynia Oksywie",
          "Gdynia Obłuże",
          "Gdańsk Barniewice",
          "Gdynia Demptowo",
          "Gdynia Chylonia",
          "Gdańsk Nowy Port",
          "Gdynia Karwiny",
          "Gdańsk Zaroślak",
          "Gdynia Dąbrowa",
          "Gdańsk VII Dwór",
          "Gdańsk Niedźwiednik",
          "Gdańsk Zakoniczyn",
          "Gdańsk Karczemki",
          "Gdynia Witomino",
          "Gdańsk Łostowice",
          "Gdańsk Orunia",
          "Gdańsk Ujeścisko",
          "Gdynia Leszczynki",
          "Gdańsk Brętowo",
          "Gdańsk Osowa",
          "Gdańsk Stogi",
          "Gdańsk Jasień",
          "Gdynia Wielki Kack",
          "Gdańsk Przeróbka",
          "Gdańsk Matarnia",
          "Gdańsk Suchanino",
          "Gdynia Chwarzno-Wiczlino",
          "Gdynia Pustki Cisowskie",
          "Gdańsk Chełm",
          "Gdańsk Orunia Górna",
          "Gdańsk Zabornia",
          "Gdańsk Kokoszki",
          "Gdańsk Kiełpinek",
          "Gdynia Działki Leśne",
          "Gdańsk Orlinki",
          "Gdańsk Strzyża",
          "Gdynia Babie Doły",
          "Gdańsk Stare Przedmieście",
          "Gdańsk Siedlce",
          "Gdynia Grabówek",
          "Gdańsk Osiedle Pogodne",
          "Gdynia Mały Kack",
          "Gdańsk Piecki",
          "Gdańsk Żabianka",
          "Gdańsk Morena",
          "Gdańsk Dolne Miasto",
          "Gdańsk",
          "Sopot Brodwino",
          "Gdynia Redłowo",
          "Gdynia Wzgórze Świętego Maksymiliana",
          "Gdańsk Matemblewo",
          "Sopot Kamienny Potok",
          "Gdańsk Zaspa",
          "Sopot Świemirowo",
          "Gdańsk Główne Miasto",
          "Gdynia Kamienna Góra",
          "Sopot Sopot Górny",
          "Gdańsk Oliwa",
          "Sopot Centrum",
          "Gdańsk Wrzeszcz",
          "Gdańsk Letnica",
          "Gdynia Orłowo",
          "Gdańsk Młyniska",
          "Gdańsk Stare Miasto",
          "Gdynia",
          "Gdańsk Przymorze",
          "Sopot Przylesie",
          "Gdynia Śródmieście",
          "Gdańsk Aniołki",
          "Gdańsk Sobieszewo",
          "Gdańsk Wyspa Sobieszewska",
          "Sopot Sopot Dolny",
          "Gdańsk Śródmieście",
          "Gdańsk Brzeźno",
          "Sopot",
          "Gdańsk Sienna Grobla",
          "Sopot Wyścigi",
          "Gdańsk Jelitkowo"
         ],
         "yaxis": "y"
        }
       ],
       "layout": {
        "barmode": "relative",
        "coloraxis": {
         "colorbar": {
          "title": {
           "text": "color"
          }
         },
         "colorscale": [
          [
           0,
           "rgb(247,251,255)"
          ],
          [
           0.125,
           "rgb(222,235,247)"
          ],
          [
           0.25,
           "rgb(198,219,239)"
          ],
          [
           0.375,
           "rgb(158,202,225)"
          ],
          [
           0.5,
           "rgb(107,174,214)"
          ],
          [
           0.625,
           "rgb(66,146,198)"
          ],
          [
           0.75,
           "rgb(33,113,181)"
          ],
          [
           0.875,
           "rgb(8,81,156)"
          ],
          [
           1,
           "rgb(8,48,107)"
          ]
         ]
        },
        "height": 1600,
        "legend": {
         "tracegroupgap": 0
        },
        "template": {
         "data": {
          "bar": [
           {
            "error_x": {
             "color": "#2a3f5f"
            },
            "error_y": {
             "color": "#2a3f5f"
            },
            "marker": {
             "line": {
              "color": "white",
              "width": 0.5
             },
             "pattern": {
              "fillmode": "overlay",
              "size": 10,
              "solidity": 0.2
             }
            },
            "type": "bar"
           }
          ],
          "barpolar": [
           {
            "marker": {
             "line": {
              "color": "white",
              "width": 0.5
             },
             "pattern": {
              "fillmode": "overlay",
              "size": 10,
              "solidity": 0.2
             }
            },
            "type": "barpolar"
           }
          ],
          "carpet": [
           {
            "aaxis": {
             "endlinecolor": "#2a3f5f",
             "gridcolor": "#C8D4E3",
             "linecolor": "#C8D4E3",
             "minorgridcolor": "#C8D4E3",
             "startlinecolor": "#2a3f5f"
            },
            "baxis": {
             "endlinecolor": "#2a3f5f",
             "gridcolor": "#C8D4E3",
             "linecolor": "#C8D4E3",
             "minorgridcolor": "#C8D4E3",
             "startlinecolor": "#2a3f5f"
            },
            "type": "carpet"
           }
          ],
          "choropleth": [
           {
            "colorbar": {
             "outlinewidth": 0,
             "ticks": ""
            },
            "type": "choropleth"
           }
          ],
          "contour": [
           {
            "colorbar": {
             "outlinewidth": 0,
             "ticks": ""
            },
            "colorscale": [
             [
              0,
              "#0d0887"
             ],
             [
              0.1111111111111111,
              "#46039f"
             ],
             [
              0.2222222222222222,
              "#7201a8"
             ],
             [
              0.3333333333333333,
              "#9c179e"
             ],
             [
              0.4444444444444444,
              "#bd3786"
             ],
             [
              0.5555555555555556,
              "#d8576b"
             ],
             [
              0.6666666666666666,
              "#ed7953"
             ],
             [
              0.7777777777777778,
              "#fb9f3a"
             ],
             [
              0.8888888888888888,
              "#fdca26"
             ],
             [
              1,
              "#f0f921"
             ]
            ],
            "type": "contour"
           }
          ],
          "contourcarpet": [
           {
            "colorbar": {
             "outlinewidth": 0,
             "ticks": ""
            },
            "type": "contourcarpet"
           }
          ],
          "heatmap": [
           {
            "colorbar": {
             "outlinewidth": 0,
             "ticks": ""
            },
            "colorscale": [
             [
              0,
              "#0d0887"
             ],
             [
              0.1111111111111111,
              "#46039f"
             ],
             [
              0.2222222222222222,
              "#7201a8"
             ],
             [
              0.3333333333333333,
              "#9c179e"
             ],
             [
              0.4444444444444444,
              "#bd3786"
             ],
             [
              0.5555555555555556,
              "#d8576b"
             ],
             [
              0.6666666666666666,
              "#ed7953"
             ],
             [
              0.7777777777777778,
              "#fb9f3a"
             ],
             [
              0.8888888888888888,
              "#fdca26"
             ],
             [
              1,
              "#f0f921"
             ]
            ],
            "type": "heatmap"
           }
          ],
          "histogram": [
           {
            "marker": {
             "pattern": {
              "fillmode": "overlay",
              "size": 10,
              "solidity": 0.2
             }
            },
            "type": "histogram"
           }
          ],
          "histogram2d": [
           {
            "colorbar": {
             "outlinewidth": 0,
             "ticks": ""
            },
            "colorscale": [
             [
              0,
              "#0d0887"
             ],
             [
              0.1111111111111111,
              "#46039f"
             ],
             [
              0.2222222222222222,
              "#7201a8"
             ],
             [
              0.3333333333333333,
              "#9c179e"
             ],
             [
              0.4444444444444444,
              "#bd3786"
             ],
             [
              0.5555555555555556,
              "#d8576b"
             ],
             [
              0.6666666666666666,
              "#ed7953"
             ],
             [
              0.7777777777777778,
              "#fb9f3a"
             ],
             [
              0.8888888888888888,
              "#fdca26"
             ],
             [
              1,
              "#f0f921"
             ]
            ],
            "type": "histogram2d"
           }
          ],
          "histogram2dcontour": [
           {
            "colorbar": {
             "outlinewidth": 0,
             "ticks": ""
            },
            "colorscale": [
             [
              0,
              "#0d0887"
             ],
             [
              0.1111111111111111,
              "#46039f"
             ],
             [
              0.2222222222222222,
              "#7201a8"
             ],
             [
              0.3333333333333333,
              "#9c179e"
             ],
             [
              0.4444444444444444,
              "#bd3786"
             ],
             [
              0.5555555555555556,
              "#d8576b"
             ],
             [
              0.6666666666666666,
              "#ed7953"
             ],
             [
              0.7777777777777778,
              "#fb9f3a"
             ],
             [
              0.8888888888888888,
              "#fdca26"
             ],
             [
              1,
              "#f0f921"
             ]
            ],
            "type": "histogram2dcontour"
           }
          ],
          "mesh3d": [
           {
            "colorbar": {
             "outlinewidth": 0,
             "ticks": ""
            },
            "type": "mesh3d"
           }
          ],
          "parcoords": [
           {
            "line": {
             "colorbar": {
              "outlinewidth": 0,
              "ticks": ""
             }
            },
            "type": "parcoords"
           }
          ],
          "pie": [
           {
            "automargin": true,
            "type": "pie"
           }
          ],
          "scatter": [
           {
            "fillpattern": {
             "fillmode": "overlay",
             "size": 10,
             "solidity": 0.2
            },
            "type": "scatter"
           }
          ],
          "scatter3d": [
           {
            "line": {
             "colorbar": {
              "outlinewidth": 0,
              "ticks": ""
             }
            },
            "marker": {
             "colorbar": {
              "outlinewidth": 0,
              "ticks": ""
             }
            },
            "type": "scatter3d"
           }
          ],
          "scattercarpet": [
           {
            "marker": {
             "colorbar": {
              "outlinewidth": 0,
              "ticks": ""
             }
            },
            "type": "scattercarpet"
           }
          ],
          "scattergeo": [
           {
            "marker": {
             "colorbar": {
              "outlinewidth": 0,
              "ticks": ""
             }
            },
            "type": "scattergeo"
           }
          ],
          "scattergl": [
           {
            "marker": {
             "colorbar": {
              "outlinewidth": 0,
              "ticks": ""
             }
            },
            "type": "scattergl"
           }
          ],
          "scattermap": [
           {
            "marker": {
             "colorbar": {
              "outlinewidth": 0,
              "ticks": ""
             }
            },
            "type": "scattermap"
           }
          ],
          "scattermapbox": [
           {
            "marker": {
             "colorbar": {
              "outlinewidth": 0,
              "ticks": ""
             }
            },
            "type": "scattermapbox"
           }
          ],
          "scatterpolar": [
           {
            "marker": {
             "colorbar": {
              "outlinewidth": 0,
              "ticks": ""
             }
            },
            "type": "scatterpolar"
           }
          ],
          "scatterpolargl": [
           {
            "marker": {
             "colorbar": {
              "outlinewidth": 0,
              "ticks": ""
             }
            },
            "type": "scatterpolargl"
           }
          ],
          "scatterternary": [
           {
            "marker": {
             "colorbar": {
              "outlinewidth": 0,
              "ticks": ""
             }
            },
            "type": "scatterternary"
           }
          ],
          "surface": [
           {
            "colorbar": {
             "outlinewidth": 0,
             "ticks": ""
            },
            "colorscale": [
             [
              0,
              "#0d0887"
             ],
             [
              0.1111111111111111,
              "#46039f"
             ],
             [
              0.2222222222222222,
              "#7201a8"
             ],
             [
              0.3333333333333333,
              "#9c179e"
             ],
             [
              0.4444444444444444,
              "#bd3786"
             ],
             [
              0.5555555555555556,
              "#d8576b"
             ],
             [
              0.6666666666666666,
              "#ed7953"
             ],
             [
              0.7777777777777778,
              "#fb9f3a"
             ],
             [
              0.8888888888888888,
              "#fdca26"
             ],
             [
              1,
              "#f0f921"
             ]
            ],
            "type": "surface"
           }
          ],
          "table": [
           {
            "cells": {
             "fill": {
              "color": "#EBF0F8"
             },
             "line": {
              "color": "white"
             }
            },
            "header": {
             "fill": {
              "color": "#C8D4E3"
             },
             "line": {
              "color": "white"
             }
            },
            "type": "table"
           }
          ]
         },
         "layout": {
          "annotationdefaults": {
           "arrowcolor": "#2a3f5f",
           "arrowhead": 0,
           "arrowwidth": 1
          },
          "autotypenumbers": "strict",
          "coloraxis": {
           "colorbar": {
            "outlinewidth": 0,
            "ticks": ""
           }
          },
          "colorscale": {
           "diverging": [
            [
             0,
             "#8e0152"
            ],
            [
             0.1,
             "#c51b7d"
            ],
            [
             0.2,
             "#de77ae"
            ],
            [
             0.3,
             "#f1b6da"
            ],
            [
             0.4,
             "#fde0ef"
            ],
            [
             0.5,
             "#f7f7f7"
            ],
            [
             0.6,
             "#e6f5d0"
            ],
            [
             0.7,
             "#b8e186"
            ],
            [
             0.8,
             "#7fbc41"
            ],
            [
             0.9,
             "#4d9221"
            ],
            [
             1,
             "#276419"
            ]
           ],
           "sequential": [
            [
             0,
             "#0d0887"
            ],
            [
             0.1111111111111111,
             "#46039f"
            ],
            [
             0.2222222222222222,
             "#7201a8"
            ],
            [
             0.3333333333333333,
             "#9c179e"
            ],
            [
             0.4444444444444444,
             "#bd3786"
            ],
            [
             0.5555555555555556,
             "#d8576b"
            ],
            [
             0.6666666666666666,
             "#ed7953"
            ],
            [
             0.7777777777777778,
             "#fb9f3a"
            ],
            [
             0.8888888888888888,
             "#fdca26"
            ],
            [
             1,
             "#f0f921"
            ]
           ],
           "sequentialminus": [
            [
             0,
             "#0d0887"
            ],
            [
             0.1111111111111111,
             "#46039f"
            ],
            [
             0.2222222222222222,
             "#7201a8"
            ],
            [
             0.3333333333333333,
             "#9c179e"
            ],
            [
             0.4444444444444444,
             "#bd3786"
            ],
            [
             0.5555555555555556,
             "#d8576b"
            ],
            [
             0.6666666666666666,
             "#ed7953"
            ],
            [
             0.7777777777777778,
             "#fb9f3a"
            ],
            [
             0.8888888888888888,
             "#fdca26"
            ],
            [
             1,
             "#f0f921"
            ]
           ]
          },
          "colorway": [
           "#636efa",
           "#EF553B",
           "#00cc96",
           "#ab63fa",
           "#FFA15A",
           "#19d3f3",
           "#FF6692",
           "#B6E880",
           "#FF97FF",
           "#FECB52"
          ],
          "font": {
           "color": "#2a3f5f"
          },
          "geo": {
           "bgcolor": "white",
           "lakecolor": "white",
           "landcolor": "white",
           "showlakes": true,
           "showland": true,
           "subunitcolor": "#C8D4E3"
          },
          "hoverlabel": {
           "align": "left"
          },
          "hovermode": "closest",
          "mapbox": {
           "style": "light"
          },
          "paper_bgcolor": "white",
          "plot_bgcolor": "white",
          "polar": {
           "angularaxis": {
            "gridcolor": "#EBF0F8",
            "linecolor": "#EBF0F8",
            "ticks": ""
           },
           "bgcolor": "white",
           "radialaxis": {
            "gridcolor": "#EBF0F8",
            "linecolor": "#EBF0F8",
            "ticks": ""
           }
          },
          "scene": {
           "xaxis": {
            "backgroundcolor": "white",
            "gridcolor": "#DFE8F3",
            "gridwidth": 2,
            "linecolor": "#EBF0F8",
            "showbackground": true,
            "ticks": "",
            "zerolinecolor": "#EBF0F8"
           },
           "yaxis": {
            "backgroundcolor": "white",
            "gridcolor": "#DFE8F3",
            "gridwidth": 2,
            "linecolor": "#EBF0F8",
            "showbackground": true,
            "ticks": "",
            "zerolinecolor": "#EBF0F8"
           },
           "zaxis": {
            "backgroundcolor": "white",
            "gridcolor": "#DFE8F3",
            "gridwidth": 2,
            "linecolor": "#EBF0F8",
            "showbackground": true,
            "ticks": "",
            "zerolinecolor": "#EBF0F8"
           }
          },
          "shapedefaults": {
           "line": {
            "color": "#2a3f5f"
           }
          },
          "ternary": {
           "aaxis": {
            "gridcolor": "#DFE8F3",
            "linecolor": "#A2B1C6",
            "ticks": ""
           },
           "baxis": {
            "gridcolor": "#DFE8F3",
            "linecolor": "#A2B1C6",
            "ticks": ""
           },
           "bgcolor": "white",
           "caxis": {
            "gridcolor": "#DFE8F3",
            "linecolor": "#A2B1C6",
            "ticks": ""
           }
          },
          "title": {
           "x": 0.05
          },
          "xaxis": {
           "automargin": true,
           "gridcolor": "#EBF0F8",
           "linecolor": "#EBF0F8",
           "ticks": "",
           "title": {
            "standoff": 15
           },
           "zerolinecolor": "#EBF0F8",
           "zerolinewidth": 2
          },
          "yaxis": {
           "automargin": true,
           "gridcolor": "#EBF0F8",
           "linecolor": "#EBF0F8",
           "ticks": "",
           "title": {
            "standoff": 15
           },
           "zerolinecolor": "#EBF0F8",
           "zerolinewidth": 2
          }
         }
        },
        "title": {
         "text": "Ranking dzielnic Trójmiasta według średniej ceny za m²"
        },
        "width": 1000,
        "xaxis": {
         "anchor": "y",
         "domain": [
          0,
          1
         ],
         "title": {
          "text": "Średnia cena za m² (zł)"
         }
        },
        "yaxis": {
         "anchor": "x",
         "domain": [
          0,
          1
         ],
         "tickmode": "linear",
         "title": {
          "text": "Lokalizacja"
         }
        }
       }
      }
     },
     "metadata": {},
     "output_type": "display_data"
    }
   ],
   "source": [
    "average_price_per_m2_sorted = df.groupby('locality')['price_per_m2_zl_cleaned'].mean().sort_values(ascending=True)\n",
    "\n",
    "fig = px.bar(\n",
    "    x=average_price_per_m2_sorted.values,\n",
    "    y=average_price_per_m2_sorted.index,\n",
    "    orientation='h',\n",
    "    title='Ranking dzielnic Trójmiasta według średniej ceny za m²',\n",
    "    labels={'x': 'Średnia cena za m² (zł)', 'y': 'Lokalizacja'},\n",
    "    color=average_price_per_m2_sorted.values,\n",
    "    color_continuous_scale='Blues',\n",
    "    width=1000,\n",
    "    height=1600,  # zwiększamy wysokość, by zmieściły się wszystkie etykiety\n",
    "    template='plotly_white'\n",
    ")\n",
    "\n",
    "# wymuszam pokazanie wszystkich nazw dzielnic\n",
    "fig.update_yaxes(tickmode='linear')\n",
    "\n",
    "fig.show()\n",
    "pio.write_image(fig, \"ranking_dzielnic_po_cenie.pdf\")"
   ]
  }
 ],
 "metadata": {
  "kernelspec": {
   "display_name": ".venv",
   "language": "python",
   "name": "python3"
  },
  "language_info": {
   "codemirror_mode": {
    "name": "ipython",
    "version": 3
   },
   "file_extension": ".py",
   "mimetype": "text/x-python",
   "name": "python",
   "nbconvert_exporter": "python",
   "pygments_lexer": "ipython3",
   "version": "3.9.6"
  }
 },
 "nbformat": 4,
 "nbformat_minor": 5
}
